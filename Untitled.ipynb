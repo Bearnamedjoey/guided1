{
 "cells": [
  {
   "cell_type": "code",
   "execution_count": 5,
   "id": "afb964df",
   "metadata": {},
   "outputs": [],
   "source": [
    "import pandas as pd\n",
    "\n",
    "DFage=pd.read_csv(\"https://github.com/Bearnamedjoey/guided1/raw/main/Medianage.csv\")\n",
    "DFalc=pd.read_csv(\"https://github.com/Bearnamedjoey/guided1/raw/main/Alcohol.csv\")"
   ]
  },
  {
   "cell_type": "code",
   "execution_count": 8,
   "id": "fda5957e",
   "metadata": {},
   "outputs": [],
   "source": [
    "DF1=pd.merge(DFage, DFalc, on='Country')"
   ]
  },
  {
   "cell_type": "code",
   "execution_count": 9,
   "id": "cd0ae889",
   "metadata": {},
   "outputs": [
    {
     "name": "stdout",
     "output_type": "stream",
     "text": [
      "<class 'pandas.core.frame.DataFrame'>\n",
      "Int64Index: 188 entries, 0 to 187\n",
      "Data columns (total 5 columns):\n",
      " #   Column                  Non-Null Count  Dtype  \n",
      "---  ------                  --------------  -----  \n",
      " 0   Rank_x                  188 non-null    int64  \n",
      " 1   Country                 188 non-null    object \n",
      " 2   Years                   188 non-null    float64\n",
      " 3   Rank_y                  188 non-null    int64  \n",
      " 4   liters of pure alcohol  188 non-null    float64\n",
      "dtypes: float64(2), int64(2), object(1)\n",
      "memory usage: 8.8+ KB\n"
     ]
    }
   ],
   "source": [
    "DF1.info()"
   ]
  },
  {
   "cell_type": "code",
   "execution_count": 10,
   "id": "9cf18872",
   "metadata": {},
   "outputs": [],
   "source": [
    "DFobe=pd.read_csv(\"https://github.com/Bearnamedjoey/guided1/raw/main/obesity.csv\")\n",
    "DFtbc=pd.read_csv(\"https://github.com/Bearnamedjoey/guided1/raw/main/Tobacco.csv\")"
   ]
  },
  {
   "cell_type": "code",
   "execution_count": 11,
   "id": "1b86ed75",
   "metadata": {},
   "outputs": [],
   "source": [
    "DF2=pd.merge(DFobe, DFtbc, on='Country')"
   ]
  },
  {
   "cell_type": "code",
   "execution_count": 12,
   "id": "5aea64a2",
   "metadata": {},
   "outputs": [
    {
     "name": "stdout",
     "output_type": "stream",
     "text": [
      "<class 'pandas.core.frame.DataFrame'>\n",
      "Int64Index: 164 entries, 0 to 163\n",
      "Data columns (total 5 columns):\n",
      " #   Column                  Non-Null Count  Dtype  \n",
      "---  ------                  --------------  -----  \n",
      " 0   Rank_x                  164 non-null    int64  \n",
      " 1   Country                 164 non-null    object \n",
      " 2   Percent of Obesity      164 non-null    float64\n",
      " 3   Rank_y                  164 non-null    int64  \n",
      " 4   Percent of Tobacco Use  164 non-null    float64\n",
      "dtypes: float64(2), int64(2), object(1)\n",
      "memory usage: 7.7+ KB\n"
     ]
    }
   ],
   "source": [
    "DF2.info()"
   ]
  },
  {
   "cell_type": "code",
   "execution_count": 14,
   "id": "ee209d33",
   "metadata": {},
   "outputs": [],
   "source": [
    "DFpeople=pd.merge(DF1, DF2, on='Country')"
   ]
  },
  {
   "cell_type": "code",
   "execution_count": 15,
   "id": "de3e37b6",
   "metadata": {},
   "outputs": [
    {
     "name": "stdout",
     "output_type": "stream",
     "text": [
      "<class 'pandas.core.frame.DataFrame'>\n",
      "Int64Index: 162 entries, 0 to 161\n",
      "Data columns (total 9 columns):\n",
      " #   Column                  Non-Null Count  Dtype  \n",
      "---  ------                  --------------  -----  \n",
      " 0   Rank_x_x                162 non-null    int64  \n",
      " 1   Country                 162 non-null    object \n",
      " 2   Years                   162 non-null    float64\n",
      " 3   Rank_y_x                162 non-null    int64  \n",
      " 4   liters of pure alcohol  162 non-null    float64\n",
      " 5   Rank_x_y                162 non-null    int64  \n",
      " 6   Percent of Obesity      162 non-null    float64\n",
      " 7   Rank_y_y                162 non-null    int64  \n",
      " 8   Percent of Tobacco Use  162 non-null    float64\n",
      "dtypes: float64(4), int64(4), object(1)\n",
      "memory usage: 12.7+ KB\n"
     ]
    }
   ],
   "source": [
    "DFpeople.info()"
   ]
  },
  {
   "cell_type": "code",
   "execution_count": 17,
   "id": "4b1ed54b",
   "metadata": {},
   "outputs": [
    {
     "data": {
      "text/plain": [
       "<bound method StringMethods.capitalize of <pandas.core.strings.accessor.StringMethods object at 0x7f99e865c8e0>>"
      ]
     },
     "execution_count": 17,
     "metadata": {},
     "output_type": "execute_result"
    }
   ],
   "source": []
  },
  {
   "cell_type": "code",
   "execution_count": 18,
   "id": "54e4e38d",
   "metadata": {},
   "outputs": [
    {
     "data": {
      "text/plain": [
       "Index(['Rank_x_x', 'Country', 'Years', 'Rank_y_x', 'liters of pure alcohol',\n",
       "       'Rank_x_y', 'Percent of Obesity', 'Rank_y_y', 'Percent of Tobacco Use'],\n",
       "      dtype='object')"
      ]
     },
     "execution_count": 18,
     "metadata": {},
     "output_type": "execute_result"
    }
   ],
   "source": []
  }
 ],
 "metadata": {
  "kernelspec": {
   "display_name": "Python 3 (ipykernel)",
   "language": "python",
   "name": "python3"
  },
  "language_info": {
   "codemirror_mode": {
    "name": "ipython",
    "version": 3
   },
   "file_extension": ".py",
   "mimetype": "text/x-python",
   "name": "python",
   "nbconvert_exporter": "python",
   "pygments_lexer": "ipython3",
   "version": "3.9.15"
  }
 },
 "nbformat": 4,
 "nbformat_minor": 5
}
