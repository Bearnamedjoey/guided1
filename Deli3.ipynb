{
 "cells": [
  {
   "cell_type": "code",
   "execution_count": 1,
   "id": "b8c30cbf",
   "metadata": {},
   "outputs": [],
   "source": [
    "strategies=['Rock','Paper','Scissors','Lizard','Spock']"
   ]
  },
  {
   "cell_type": "code",
   "execution_count": 2,
   "id": "ef8d3273",
   "metadata": {},
   "outputs": [],
   "source": [
    "payoff={('Rock','Paper'):(0,1),\n",
    "        ('Paper','Rock'):(1,0),\n",
    "        ('Rock','Scissors'):(1,0),\n",
    "        ('Scissors','Rock'):(0,1),\n",
    "        ('Paper','Scissors'):(0,1),\n",
    "        ('Scissors','Paper'):(1,0),\n",
    "        ('Rock','Rock'):(0,0),\n",
    "        ('Paper','Paper'):(0,0),\n",
    "        ('Scissors','Scissors'):(0,0),\n",
    "        ('Lizard','Spock'):(1,0),\n",
    "        ('Spock','Lizard'):(0,1),\n",
    "        ('Lizard','Rock'):(0,1),\n",
    "        ('Rock','Lizard'):(1,0),\n",
    "        ('Lizard','Paper'):(1,0),\n",
    "        ('Paper','Lizard'):(0,1),\n",
    "        ('Lizard','Scissors'):(0,1),\n",
    "        ('Scissors','Lizard'):(1,0),\n",
    "        ('Lizard','Lizard'):(0,0),\n",
    "        ('Spock','Rock'):(1,0),\n",
    "        ('Rock','Spock'):(0,1),\n",
    "        ('Spock','Scissors'):(1,0),\n",
    "        ('Scissors','Spock'):(0,1),\n",
    "        ('Spock','Paper'):(0,1),\n",
    "        ('Paper','Spock'):(1,0),\n",
    "        ('Spock','Spock'):(0,0),}\n",
    "        \n",
    "        "
   ]
  },
  {
   "cell_type": "code",
   "execution_count": 3,
   "id": "7309f0db",
   "metadata": {},
   "outputs": [],
   "source": [
    "Players=[{'name':'John','score':0,'strategy':None},\n",
    "         {'name':'Mary','score':0,'strategy':None}]"
   ]
  },
  {
   "cell_type": "code",
   "execution_count": 4,
   "id": "09cf3dae",
   "metadata": {},
   "outputs": [
    {
     "data": {
      "text/plain": [
       "'Paper'"
      ]
     },
     "execution_count": 4,
     "metadata": {},
     "output_type": "execute_result"
    }
   ],
   "source": [
    "from random import choice\n",
    "\n",
    "choice(strategies)"
   ]
  },
  {
   "cell_type": "code",
   "execution_count": 5,
   "id": "0cf2c701",
   "metadata": {},
   "outputs": [],
   "source": [
    "Players[0]['strategy']=choice(strategies)\n",
    "Players[1]['strategy']=choice(strategies)"
   ]
  },
  {
   "cell_type": "code",
   "execution_count": 6,
   "id": "0deeb0cf",
   "metadata": {},
   "outputs": [
    {
     "data": {
      "text/plain": [
       "[{'name': 'John', 'score': 0, 'strategy': 'Rock'},\n",
       " {'name': 'Mary', 'score': 0, 'strategy': 'Spock'}]"
      ]
     },
     "execution_count": 6,
     "metadata": {},
     "output_type": "execute_result"
    }
   ],
   "source": [
    "Players"
   ]
  },
  {
   "cell_type": "code",
   "execution_count": 7,
   "id": "301aa797",
   "metadata": {},
   "outputs": [
    {
     "data": {
      "text/plain": [
       "('Rock', 'Spock')"
      ]
     },
     "execution_count": 7,
     "metadata": {},
     "output_type": "execute_result"
    }
   ],
   "source": [
    "Players[0]['strategy'],Players[1]['strategy']"
   ]
  },
  {
   "cell_type": "code",
   "execution_count": 8,
   "id": "62c63767",
   "metadata": {},
   "outputs": [
    {
     "data": {
      "text/plain": [
       "(0, 1)"
      ]
     },
     "execution_count": 8,
     "metadata": {},
     "output_type": "execute_result"
    }
   ],
   "source": [
    "result = payoff[Players[0]['strategy'],Players[1]['strategy']]\n",
    "result"
   ]
  },
  {
   "cell_type": "code",
   "execution_count": 9,
   "id": "0fa2382a",
   "metadata": {},
   "outputs": [],
   "source": [
    "Players[0]['score']+=result[0]\n",
    "Players[1]['score']+=result[1]"
   ]
  },
  {
   "cell_type": "code",
   "execution_count": 10,
   "id": "354d9db9",
   "metadata": {},
   "outputs": [
    {
     "data": {
      "text/plain": [
       "[{'name': 'John', 'score': 0, 'strategy': 'Rock'},\n",
       " {'name': 'Mary', 'score': 1, 'strategy': 'Spock'}]"
      ]
     },
     "execution_count": 10,
     "metadata": {},
     "output_type": "execute_result"
    }
   ],
   "source": [
    "Players"
   ]
  },
  {
   "cell_type": "code",
   "execution_count": 11,
   "id": "f5f79ede",
   "metadata": {},
   "outputs": [
    {
     "data": {
      "text/html": [
       "<div>\n",
       "<style scoped>\n",
       "    .dataframe tbody tr th:only-of-type {\n",
       "        vertical-align: middle;\n",
       "    }\n",
       "\n",
       "    .dataframe tbody tr th {\n",
       "        vertical-align: top;\n",
       "    }\n",
       "\n",
       "    .dataframe thead th {\n",
       "        text-align: right;\n",
       "    }\n",
       "</style>\n",
       "<table border=\"1\" class=\"dataframe\">\n",
       "  <thead>\n",
       "    <tr style=\"text-align: right;\">\n",
       "      <th></th>\n",
       "      <th>name</th>\n",
       "      <th>score</th>\n",
       "      <th>strategy</th>\n",
       "    </tr>\n",
       "  </thead>\n",
       "  <tbody>\n",
       "    <tr>\n",
       "      <th>0</th>\n",
       "      <td>John</td>\n",
       "      <td>0</td>\n",
       "      <td>Rock</td>\n",
       "    </tr>\n",
       "    <tr>\n",
       "      <th>1</th>\n",
       "      <td>Mary</td>\n",
       "      <td>1</td>\n",
       "      <td>Spock</td>\n",
       "    </tr>\n",
       "  </tbody>\n",
       "</table>\n",
       "</div>"
      ],
      "text/plain": [
       "   name  score strategy\n",
       "0  John      0     Rock\n",
       "1  Mary      1    Spock"
      ]
     },
     "execution_count": 11,
     "metadata": {},
     "output_type": "execute_result"
    }
   ],
   "source": [
    "import pandas as pd \n",
    "\n",
    "socialResults=pd.DataFrame((Players[0], Players[1]))\n",
    "socialResults"
   ]
  },
  {
   "cell_type": "code",
   "execution_count": 12,
   "id": "6989965a",
   "metadata": {},
   "outputs": [
    {
     "data": {
      "text/html": [
       "<div>\n",
       "<style scoped>\n",
       "    .dataframe tbody tr th:only-of-type {\n",
       "        vertical-align: middle;\n",
       "    }\n",
       "\n",
       "    .dataframe tbody tr th {\n",
       "        vertical-align: top;\n",
       "    }\n",
       "\n",
       "    .dataframe thead th {\n",
       "        text-align: right;\n",
       "    }\n",
       "</style>\n",
       "<table border=\"1\" class=\"dataframe\">\n",
       "  <thead>\n",
       "    <tr style=\"text-align: right;\">\n",
       "      <th></th>\n",
       "      <th>name</th>\n",
       "      <th>score</th>\n",
       "      <th>strategy</th>\n",
       "    </tr>\n",
       "  </thead>\n",
       "  <tbody>\n",
       "    <tr>\n",
       "      <th>1</th>\n",
       "      <td>Mary</td>\n",
       "      <td>1</td>\n",
       "      <td>Spock</td>\n",
       "    </tr>\n",
       "  </tbody>\n",
       "</table>\n",
       "</div>"
      ],
      "text/plain": [
       "   name  score strategy\n",
       "1  Mary      1    Spock"
      ]
     },
     "execution_count": 12,
     "metadata": {},
     "output_type": "execute_result"
    }
   ],
   "source": [
    "winnerScore=socialResults.score.max()\n",
    "socialResults[socialResults.score==winnerScore]"
   ]
  },
  {
   "cell_type": "code",
   "execution_count": null,
   "id": "a967003a",
   "metadata": {},
   "outputs": [],
   "source": [
    "# Add more players"
   ]
  },
  {
   "cell_type": "code",
   "execution_count": 13,
   "id": "20bdeb65",
   "metadata": {},
   "outputs": [],
   "source": [
    "names=['Jim','Jane','Peter','Zoe','John','Mary']"
   ]
  },
  {
   "cell_type": "code",
   "execution_count": 14,
   "id": "ba0c549e",
   "metadata": {},
   "outputs": [],
   "source": [
    "society=[{'name':n,'score':0,'strategy':None} for n in names]"
   ]
  },
  {
   "cell_type": "code",
   "execution_count": 15,
   "id": "89af0818",
   "metadata": {},
   "outputs": [
    {
     "data": {
      "text/plain": [
       "[{'name': 'Jim', 'score': 0, 'strategy': None},\n",
       " {'name': 'Jane', 'score': 0, 'strategy': None},\n",
       " {'name': 'Peter', 'score': 0, 'strategy': None},\n",
       " {'name': 'Zoe', 'score': 0, 'strategy': None},\n",
       " {'name': 'John', 'score': 0, 'strategy': None},\n",
       " {'name': 'Mary', 'score': 0, 'strategy': None}]"
      ]
     },
     "execution_count": 15,
     "metadata": {},
     "output_type": "execute_result"
    }
   ],
   "source": [
    "society"
   ]
  },
  {
   "cell_type": "code",
   "execution_count": 16,
   "id": "171afbde",
   "metadata": {},
   "outputs": [
    {
     "name": "stdout",
     "output_type": "stream",
     "text": [
      "({'name': 'Jim', 'score': 0, 'strategy': None}, {'name': 'Jane', 'score': 0, 'strategy': None})\n",
      "({'name': 'Jim', 'score': 0, 'strategy': None}, {'name': 'Peter', 'score': 0, 'strategy': None})\n",
      "({'name': 'Jim', 'score': 0, 'strategy': None}, {'name': 'Zoe', 'score': 0, 'strategy': None})\n",
      "({'name': 'Jim', 'score': 0, 'strategy': None}, {'name': 'John', 'score': 0, 'strategy': None})\n",
      "({'name': 'Jim', 'score': 0, 'strategy': None}, {'name': 'Mary', 'score': 0, 'strategy': None})\n",
      "({'name': 'Jane', 'score': 0, 'strategy': None}, {'name': 'Peter', 'score': 0, 'strategy': None})\n",
      "({'name': 'Jane', 'score': 0, 'strategy': None}, {'name': 'Zoe', 'score': 0, 'strategy': None})\n",
      "({'name': 'Jane', 'score': 0, 'strategy': None}, {'name': 'John', 'score': 0, 'strategy': None})\n",
      "({'name': 'Jane', 'score': 0, 'strategy': None}, {'name': 'Mary', 'score': 0, 'strategy': None})\n",
      "({'name': 'Peter', 'score': 0, 'strategy': None}, {'name': 'Zoe', 'score': 0, 'strategy': None})\n",
      "({'name': 'Peter', 'score': 0, 'strategy': None}, {'name': 'John', 'score': 0, 'strategy': None})\n",
      "({'name': 'Peter', 'score': 0, 'strategy': None}, {'name': 'Mary', 'score': 0, 'strategy': None})\n",
      "({'name': 'Zoe', 'score': 0, 'strategy': None}, {'name': 'John', 'score': 0, 'strategy': None})\n",
      "({'name': 'Zoe', 'score': 0, 'strategy': None}, {'name': 'Mary', 'score': 0, 'strategy': None})\n",
      "({'name': 'John', 'score': 0, 'strategy': None}, {'name': 'Mary', 'score': 0, 'strategy': None})\n"
     ]
    }
   ],
   "source": [
    "import itertools \n",
    "\n",
    "for pair in itertools.combinations(society,2):\n",
    "    print(pair)"
   ]
  },
  {
   "cell_type": "code",
   "execution_count": 17,
   "id": "0173d67a",
   "metadata": {},
   "outputs": [
    {
     "name": "stdout",
     "output_type": "stream",
     "text": [
      "{'name': 'Jim', 'score': 0, 'strategy': None} {'name': 'Jane', 'score': 0, 'strategy': None}\n",
      "{'name': 'Jim', 'score': 0, 'strategy': None} {'name': 'Peter', 'score': 0, 'strategy': None}\n",
      "{'name': 'Jim', 'score': 0, 'strategy': None} {'name': 'Zoe', 'score': 0, 'strategy': None}\n",
      "{'name': 'Jim', 'score': 0, 'strategy': None} {'name': 'John', 'score': 0, 'strategy': None}\n",
      "{'name': 'Jim', 'score': 0, 'strategy': None} {'name': 'Mary', 'score': 0, 'strategy': None}\n",
      "{'name': 'Jane', 'score': 0, 'strategy': None} {'name': 'Peter', 'score': 0, 'strategy': None}\n",
      "{'name': 'Jane', 'score': 0, 'strategy': None} {'name': 'Zoe', 'score': 0, 'strategy': None}\n",
      "{'name': 'Jane', 'score': 0, 'strategy': None} {'name': 'John', 'score': 0, 'strategy': None}\n",
      "{'name': 'Jane', 'score': 0, 'strategy': None} {'name': 'Mary', 'score': 0, 'strategy': None}\n",
      "{'name': 'Peter', 'score': 0, 'strategy': None} {'name': 'Zoe', 'score': 0, 'strategy': None}\n",
      "{'name': 'Peter', 'score': 0, 'strategy': None} {'name': 'John', 'score': 0, 'strategy': None}\n",
      "{'name': 'Peter', 'score': 0, 'strategy': None} {'name': 'Mary', 'score': 0, 'strategy': None}\n",
      "{'name': 'Zoe', 'score': 0, 'strategy': None} {'name': 'John', 'score': 0, 'strategy': None}\n",
      "{'name': 'Zoe', 'score': 0, 'strategy': None} {'name': 'Mary', 'score': 0, 'strategy': None}\n",
      "{'name': 'John', 'score': 0, 'strategy': None} {'name': 'Mary', 'score': 0, 'strategy': None}\n"
     ]
    }
   ],
   "source": [
    "import itertools \n",
    "\n",
    "for player1,player2 in itertools.combinations(society,2):\n",
    "    print(player1,player2)"
   ]
  },
  {
   "cell_type": "code",
   "execution_count": 18,
   "id": "10ce7f58",
   "metadata": {},
   "outputs": [],
   "source": [
    "# resetting society\n",
    "society=[{'name':n,'score':0,'strategy':None} for n in names]\n",
    "\n",
    "# several rounds\n",
    "for aRound in range(100):\n",
    "    \n",
    "    # en each round:\n",
    "    for player1,player2 in itertools.combinations(society,2):\n",
    "        # each chooses strategy\n",
    "        player1['strategy']=choice(strategies)\n",
    "        player2['strategy']=choice(strategies)\n",
    "        # result from strategy chosen\n",
    "        result=payoff[player1['strategy'],player2['strategy']]\n",
    "        # update scores\n",
    "        player1['score']+=result[0]\n",
    "        player2['score']+=result[1]"
   ]
  },
  {
   "cell_type": "code",
   "execution_count": 19,
   "id": "65966fce",
   "metadata": {},
   "outputs": [
    {
     "data": {
      "text/plain": [
       "[{'name': 'Jim', 'score': 202, 'strategy': 'Rock'},\n",
       " {'name': 'Jane', 'score': 178, 'strategy': 'Lizard'},\n",
       " {'name': 'Peter', 'score': 210, 'strategy': 'Lizard'},\n",
       " {'name': 'Zoe', 'score': 189, 'strategy': 'Spock'},\n",
       " {'name': 'John', 'score': 209, 'strategy': 'Rock'},\n",
       " {'name': 'Mary', 'score': 196, 'strategy': 'Paper'}]"
      ]
     },
     "execution_count": 19,
     "metadata": {},
     "output_type": "execute_result"
    }
   ],
   "source": [
    "society"
   ]
  },
  {
   "cell_type": "code",
   "execution_count": 20,
   "id": "c9d78e5b",
   "metadata": {},
   "outputs": [
    {
     "data": {
      "text/html": [
       "<div>\n",
       "<style scoped>\n",
       "    .dataframe tbody tr th:only-of-type {\n",
       "        vertical-align: middle;\n",
       "    }\n",
       "\n",
       "    .dataframe tbody tr th {\n",
       "        vertical-align: top;\n",
       "    }\n",
       "\n",
       "    .dataframe thead th {\n",
       "        text-align: right;\n",
       "    }\n",
       "</style>\n",
       "<table border=\"1\" class=\"dataframe\">\n",
       "  <thead>\n",
       "    <tr style=\"text-align: right;\">\n",
       "      <th></th>\n",
       "      <th>name</th>\n",
       "      <th>score</th>\n",
       "      <th>strategy</th>\n",
       "    </tr>\n",
       "  </thead>\n",
       "  <tbody>\n",
       "    <tr>\n",
       "      <th>0</th>\n",
       "      <td>Jim</td>\n",
       "      <td>202</td>\n",
       "      <td>Rock</td>\n",
       "    </tr>\n",
       "    <tr>\n",
       "      <th>1</th>\n",
       "      <td>Jane</td>\n",
       "      <td>178</td>\n",
       "      <td>Lizard</td>\n",
       "    </tr>\n",
       "    <tr>\n",
       "      <th>2</th>\n",
       "      <td>Peter</td>\n",
       "      <td>210</td>\n",
       "      <td>Lizard</td>\n",
       "    </tr>\n",
       "    <tr>\n",
       "      <th>3</th>\n",
       "      <td>Zoe</td>\n",
       "      <td>189</td>\n",
       "      <td>Spock</td>\n",
       "    </tr>\n",
       "    <tr>\n",
       "      <th>4</th>\n",
       "      <td>John</td>\n",
       "      <td>209</td>\n",
       "      <td>Rock</td>\n",
       "    </tr>\n",
       "    <tr>\n",
       "      <th>5</th>\n",
       "      <td>Mary</td>\n",
       "      <td>196</td>\n",
       "      <td>Paper</td>\n",
       "    </tr>\n",
       "  </tbody>\n",
       "</table>\n",
       "</div>"
      ],
      "text/plain": [
       "    name  score strategy\n",
       "0    Jim    202     Rock\n",
       "1   Jane    178   Lizard\n",
       "2  Peter    210   Lizard\n",
       "3    Zoe    189    Spock\n",
       "4   John    209     Rock\n",
       "5   Mary    196    Paper"
      ]
     },
     "execution_count": 20,
     "metadata": {},
     "output_type": "execute_result"
    }
   ],
   "source": [
    "socialResults=pd.DataFrame(society)\n",
    "socialResults"
   ]
  },
  {
   "cell_type": "code",
   "execution_count": 21,
   "id": "2c1ee31e",
   "metadata": {},
   "outputs": [],
   "source": [
    "winnerScore=socialResults.score.max()"
   ]
  },
  {
   "cell_type": "code",
   "execution_count": 22,
   "id": "79cf9ea0",
   "metadata": {},
   "outputs": [
    {
     "data": {
      "text/html": [
       "<div>\n",
       "<style scoped>\n",
       "    .dataframe tbody tr th:only-of-type {\n",
       "        vertical-align: middle;\n",
       "    }\n",
       "\n",
       "    .dataframe tbody tr th {\n",
       "        vertical-align: top;\n",
       "    }\n",
       "\n",
       "    .dataframe thead th {\n",
       "        text-align: right;\n",
       "    }\n",
       "</style>\n",
       "<table border=\"1\" class=\"dataframe\">\n",
       "  <thead>\n",
       "    <tr style=\"text-align: right;\">\n",
       "      <th></th>\n",
       "      <th>name</th>\n",
       "      <th>score</th>\n",
       "      <th>strategy</th>\n",
       "    </tr>\n",
       "  </thead>\n",
       "  <tbody>\n",
       "    <tr>\n",
       "      <th>2</th>\n",
       "      <td>Peter</td>\n",
       "      <td>210</td>\n",
       "      <td>Lizard</td>\n",
       "    </tr>\n",
       "  </tbody>\n",
       "</table>\n",
       "</div>"
      ],
      "text/plain": [
       "    name  score strategy\n",
       "2  Peter    210   Lizard"
      ]
     },
     "execution_count": 22,
     "metadata": {},
     "output_type": "execute_result"
    }
   ],
   "source": [
    "socialResults[socialResults.score==winnerScore]"
   ]
  },
  {
   "cell_type": "code",
   "execution_count": null,
   "id": "dcf80a55",
   "metadata": {},
   "outputs": [],
   "source": []
  }
 ],
 "metadata": {
  "kernelspec": {
   "display_name": "Python 3 (ipykernel)",
   "language": "python",
   "name": "python3"
  },
  "language_info": {
   "codemirror_mode": {
    "name": "ipython",
    "version": 3
   },
   "file_extension": ".py",
   "mimetype": "text/x-python",
   "name": "python",
   "nbconvert_exporter": "python",
   "pygments_lexer": "ipython3",
   "version": "3.9.15"
  }
 },
 "nbformat": 4,
 "nbformat_minor": 5
}
