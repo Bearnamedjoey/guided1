{
 "cells": [
  {
   "cell_type": "code",
   "execution_count": 3,
   "id": "afb964df",
   "metadata": {},
   "outputs": [],
   "source": [
    "import pandas as pd\n",
    "\n",
    "DFage=pd.read_csv(\"https://github.com/Bearnamedjoey/guided1/raw/main/Medianage.csv\")\n",
    "DFalc=pd.read_csv(\"https://github.com/Bearnamedjoey/guided1/raw/main/Alcohol.csv\")\n",
    "DFobe=pd.read_csv(\"https://github.com/Bearnamedjoey/guided1/raw/main/obesity.csv\")\n",
    "DFtbc=pd.read_csv(\"https://github.com/Bearnamedjoey/guided1/raw/main/Tobacco.csv\")"
   ]
  },
  {
   "cell_type": "code",
   "execution_count": 4,
   "id": "fda5957e",
   "metadata": {},
   "outputs": [
    {
     "name": "stdout",
     "output_type": "stream",
     "text": [
      "<class 'pandas.core.frame.DataFrame'>\n",
      "RangeIndex: 227 entries, 0 to 226\n",
      "Data columns (total 3 columns):\n",
      " #   Column   Non-Null Count  Dtype  \n",
      "---  ------   --------------  -----  \n",
      " 0   Rank     227 non-null    int64  \n",
      " 1   Country  227 non-null    object \n",
      " 2   Years    227 non-null    float64\n",
      "dtypes: float64(1), int64(1), object(1)\n",
      "memory usage: 5.4+ KB\n"
     ]
    }
   ],
   "source": [
    "DFage.info()"
   ]
  }
 ],
 "metadata": {
  "kernelspec": {
   "display_name": "Python 3 (ipykernel)",
   "language": "python",
   "name": "python3"
  },
  "language_info": {
   "codemirror_mode": {
    "name": "ipython",
    "version": 3
   },
   "file_extension": ".py",
   "mimetype": "text/x-python",
   "name": "python",
   "nbconvert_exporter": "python",
   "pygments_lexer": "ipython3",
   "version": "3.9.15"
  }
 },
 "nbformat": 4,
 "nbformat_minor": 5
}
