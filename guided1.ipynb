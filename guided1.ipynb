{
 "cells": [
  {
   "cell_type": "markdown",
   "id": "5e132d03",
   "metadata": {},
   "source": [
    "#hello world"
   ]
  },
  {
   "cell_type": "code",
   "execution_count": 2,
   "id": "8cfa3435",
   "metadata": {
    "scrolled": true
   },
   "outputs": [
    {
     "data": {
      "text/html": [
       "\n",
       "        <iframe\n",
       "            width=\"900\"\n",
       "            height=\"500\"\n",
       "            src=\"https://www.cia.gov/the-world-factbook/field/median-age/country-comparison\"\n",
       "            frameborder=\"0\"\n",
       "            allowfullscreen\n",
       "            \n",
       "        ></iframe>\n",
       "        "
      ],
      "text/plain": [
       "<IPython.lib.display.IFrame at 0x7fabd1db9160>"
      ]
     },
     "execution_count": 2,
     "metadata": {},
     "output_type": "execute_result"
    }
   ],
   "source": [
    "from IPython.display import IFrame \n",
    "agelink=\"https://www.cia.gov/the-world-factbook/field/median-age/country-comparison\"\n",
    "IFrame(agelink, width=900, height=500)"
   ]
  },
  {
   "cell_type": "code",
   "execution_count": 15,
   "id": "a4676412",
   "metadata": {
    "scrolled": true
   },
   "outputs": [
    {
     "data": {
      "text/html": [
       "<div>\n",
       "<style scoped>\n",
       "    .dataframe tbody tr th:only-of-type {\n",
       "        vertical-align: middle;\n",
       "    }\n",
       "\n",
       "    .dataframe tbody tr th {\n",
       "        vertical-align: top;\n",
       "    }\n",
       "\n",
       "    .dataframe thead th {\n",
       "        text-align: right;\n",
       "    }\n",
       "</style>\n",
       "<table border=\"1\" class=\"dataframe\">\n",
       "  <thead>\n",
       "    <tr style=\"text-align: right;\">\n",
       "      <th></th>\n",
       "      <th>Rank</th>\n",
       "      <th>Country</th>\n",
       "      <th>years</th>\n",
       "      <th>Date of Information</th>\n",
       "    </tr>\n",
       "  </thead>\n",
       "  <tbody>\n",
       "    <tr>\n",
       "      <th>0</th>\n",
       "      <td>1</td>\n",
       "      <td>Monaco</td>\n",
       "      <td>55.4</td>\n",
       "      <td>NaN</td>\n",
       "    </tr>\n",
       "    <tr>\n",
       "      <th>1</th>\n",
       "      <td>2</td>\n",
       "      <td>Japan</td>\n",
       "      <td>48.6</td>\n",
       "      <td>NaN</td>\n",
       "    </tr>\n",
       "    <tr>\n",
       "      <th>2</th>\n",
       "      <td>3</td>\n",
       "      <td>Saint Pierre and Miquelon</td>\n",
       "      <td>48.5</td>\n",
       "      <td>NaN</td>\n",
       "    </tr>\n",
       "    <tr>\n",
       "      <th>3</th>\n",
       "      <td>4</td>\n",
       "      <td>Germany</td>\n",
       "      <td>47.8</td>\n",
       "      <td>NaN</td>\n",
       "    </tr>\n",
       "    <tr>\n",
       "      <th>4</th>\n",
       "      <td>5</td>\n",
       "      <td>Italy</td>\n",
       "      <td>46.5</td>\n",
       "      <td>NaN</td>\n",
       "    </tr>\n",
       "  </tbody>\n",
       "</table>\n",
       "</div>"
      ],
      "text/plain": [
       "   Rank                    Country  years Date of Information\n",
       "0     1                     Monaco   55.4                 NaN\n",
       "1     2                      Japan   48.6                 NaN\n",
       "2     3  Saint Pierre and Miquelon   48.5                 NaN\n",
       "3     4                    Germany   47.8                 NaN\n",
       "4     5                      Italy   46.5                 NaN"
      ]
     },
     "execution_count": 15,
     "metadata": {},
     "output_type": "execute_result"
    }
   ],
   "source": [
    "import pandas as pd\n",
    "agetable=pd.read_html(agelink, header=0, flavor='bs4')\n",
    "agetable[0].head()\n"
   ]
  },
  {
   "cell_type": "code",
   "execution_count": 5,
   "id": "30f20a0d",
   "metadata": {
    "scrolled": true
   },
   "outputs": [
    {
     "data": {
      "text/plain": [
       "[     Rank                    Country  years Date of Information\n",
       " 0       1                     Monaco   55.4                 NaN\n",
       " 1       2                      Japan   48.6                 NaN\n",
       " 2       3  Saint Pierre and Miquelon   48.5                 NaN\n",
       " 3       4                    Germany   47.8                 NaN\n",
       " 4       5                      Italy   46.5                 NaN\n",
       " ..    ...                        ...    ...                 ...\n",
       " 222   223                       Chad   16.1                 NaN\n",
       " 223   224                       Mali   16.0                 NaN\n",
       " 224   225                     Angola   15.9                 NaN\n",
       " 225   226                     Uganda   15.7                 NaN\n",
       " 226   227                      Niger   14.8                 NaN\n",
       " \n",
       " [227 rows x 4 columns]]"
      ]
     },
     "execution_count": 5,
     "metadata": {},
     "output_type": "execute_result"
    }
   ],
   "source": [
    "agetable"
   ]
  },
  {
   "cell_type": "code",
   "execution_count": 21,
   "id": "09c7fa3a",
   "metadata": {},
   "outputs": [],
   "source": [
    "DFage=agetable[0].copy()"
   ]
  },
  {
   "cell_type": "code",
   "execution_count": 22,
   "id": "01c190cd",
   "metadata": {},
   "outputs": [
    {
     "data": {
      "text/plain": [
       "Index(['Rank', 'Country', 'years', 'Date of Information'], dtype='object')"
      ]
     },
     "execution_count": 22,
     "metadata": {},
     "output_type": "execute_result"
    }
   ],
   "source": [
    "DFage.columns"
   ]
  },
  {
   "cell_type": "code",
   "execution_count": 23,
   "id": "2aab2a7e",
   "metadata": {
    "scrolled": true
   },
   "outputs": [
    {
     "data": {
      "text/html": [
       "<div>\n",
       "<style scoped>\n",
       "    .dataframe tbody tr th:only-of-type {\n",
       "        vertical-align: middle;\n",
       "    }\n",
       "\n",
       "    .dataframe tbody tr th {\n",
       "        vertical-align: top;\n",
       "    }\n",
       "\n",
       "    .dataframe thead th {\n",
       "        text-align: right;\n",
       "    }\n",
       "</style>\n",
       "<table border=\"1\" class=\"dataframe\">\n",
       "  <thead>\n",
       "    <tr style=\"text-align: right;\">\n",
       "      <th></th>\n",
       "      <th>Rank</th>\n",
       "      <th>Country</th>\n",
       "      <th>years</th>\n",
       "    </tr>\n",
       "  </thead>\n",
       "  <tbody>\n",
       "    <tr>\n",
       "      <th>0</th>\n",
       "      <td>1</td>\n",
       "      <td>Monaco</td>\n",
       "      <td>55.4</td>\n",
       "    </tr>\n",
       "    <tr>\n",
       "      <th>1</th>\n",
       "      <td>2</td>\n",
       "      <td>Japan</td>\n",
       "      <td>48.6</td>\n",
       "    </tr>\n",
       "    <tr>\n",
       "      <th>2</th>\n",
       "      <td>3</td>\n",
       "      <td>Saint Pierre and Miquelon</td>\n",
       "      <td>48.5</td>\n",
       "    </tr>\n",
       "    <tr>\n",
       "      <th>3</th>\n",
       "      <td>4</td>\n",
       "      <td>Germany</td>\n",
       "      <td>47.8</td>\n",
       "    </tr>\n",
       "    <tr>\n",
       "      <th>4</th>\n",
       "      <td>5</td>\n",
       "      <td>Italy</td>\n",
       "      <td>46.5</td>\n",
       "    </tr>\n",
       "    <tr>\n",
       "      <th>...</th>\n",
       "      <td>...</td>\n",
       "      <td>...</td>\n",
       "      <td>...</td>\n",
       "    </tr>\n",
       "    <tr>\n",
       "      <th>222</th>\n",
       "      <td>223</td>\n",
       "      <td>Chad</td>\n",
       "      <td>16.1</td>\n",
       "    </tr>\n",
       "    <tr>\n",
       "      <th>223</th>\n",
       "      <td>224</td>\n",
       "      <td>Mali</td>\n",
       "      <td>16.0</td>\n",
       "    </tr>\n",
       "    <tr>\n",
       "      <th>224</th>\n",
       "      <td>225</td>\n",
       "      <td>Angola</td>\n",
       "      <td>15.9</td>\n",
       "    </tr>\n",
       "    <tr>\n",
       "      <th>225</th>\n",
       "      <td>226</td>\n",
       "      <td>Uganda</td>\n",
       "      <td>15.7</td>\n",
       "    </tr>\n",
       "    <tr>\n",
       "      <th>226</th>\n",
       "      <td>227</td>\n",
       "      <td>Niger</td>\n",
       "      <td>14.8</td>\n",
       "    </tr>\n",
       "  </tbody>\n",
       "</table>\n",
       "<p>227 rows × 3 columns</p>\n",
       "</div>"
      ],
      "text/plain": [
       "     Rank                    Country  years\n",
       "0       1                     Monaco   55.4\n",
       "1       2                      Japan   48.6\n",
       "2       3  Saint Pierre and Miquelon   48.5\n",
       "3       4                    Germany   47.8\n",
       "4       5                      Italy   46.5\n",
       "..    ...                        ...    ...\n",
       "222   223                       Chad   16.1\n",
       "223   224                       Mali   16.0\n",
       "224   225                     Angola   15.9\n",
       "225   226                     Uganda   15.7\n",
       "226   227                      Niger   14.8\n",
       "\n",
       "[227 rows x 3 columns]"
      ]
     },
     "execution_count": 23,
     "metadata": {},
     "output_type": "execute_result"
    }
   ],
   "source": [
    "bye=[3]\n",
    "DFage.drop(columns=DFage.columns[bye],inplace=True)#inplace!!\n",
    "DFage"
   ]
  },
  {
   "cell_type": "code",
   "execution_count": 24,
   "id": "5d77be04",
   "metadata": {},
   "outputs": [
    {
     "data": {
      "text/plain": [
       "['Rank', 'Country', 'years']"
      ]
     },
     "execution_count": 24,
     "metadata": {},
     "output_type": "execute_result"
    }
   ],
   "source": [
    "DFage.columns.to_list()"
   ]
  },
  {
   "cell_type": "code",
   "execution_count": 27,
   "id": "27681187",
   "metadata": {},
   "outputs": [
    {
     "data": {
      "text/plain": [
       "Index(['Rank', 'Country', 'years'], dtype='object')"
      ]
     },
     "execution_count": 27,
     "metadata": {},
     "output_type": "execute_result"
    }
   ],
   "source": [
    "DFage.columns.str.replace(pat=\"\\W\",repl=\"\",regex=True) \n"
   ]
  },
  {
   "cell_type": "code",
   "execution_count": 28,
   "id": "23f439ad",
   "metadata": {},
   "outputs": [
    {
     "data": {
      "text/plain": [
       "['Rank', 'Country', 'years']"
      ]
     },
     "execution_count": 28,
     "metadata": {},
     "output_type": "execute_result"
    }
   ],
   "source": [
    "DFage.columns.str.replace(\"\\W\",\"\",regex=True).to_list()"
   ]
  },
  {
   "cell_type": "code",
   "execution_count": 29,
   "id": "f55bc5e4",
   "metadata": {},
   "outputs": [],
   "source": [
    "DFage.columns=DFage.columns.str.replace(\"\\W\",\"\",regex=True).to_list()"
   ]
  },
  {
   "cell_type": "code",
   "execution_count": 30,
   "id": "531a7567",
   "metadata": {},
   "outputs": [
    {
     "data": {
      "text/html": [
       "<div>\n",
       "<style scoped>\n",
       "    .dataframe tbody tr th:only-of-type {\n",
       "        vertical-align: middle;\n",
       "    }\n",
       "\n",
       "    .dataframe tbody tr th {\n",
       "        vertical-align: top;\n",
       "    }\n",
       "\n",
       "    .dataframe thead th {\n",
       "        text-align: right;\n",
       "    }\n",
       "</style>\n",
       "<table border=\"1\" class=\"dataframe\">\n",
       "  <thead>\n",
       "    <tr style=\"text-align: right;\">\n",
       "      <th></th>\n",
       "      <th>Rank</th>\n",
       "      <th>Country</th>\n",
       "    </tr>\n",
       "  </thead>\n",
       "  <tbody>\n",
       "    <tr>\n",
       "      <th>0</th>\n",
       "      <td>1</td>\n",
       "      <td>Monaco</td>\n",
       "    </tr>\n",
       "    <tr>\n",
       "      <th>1</th>\n",
       "      <td>2</td>\n",
       "      <td>Japan</td>\n",
       "    </tr>\n",
       "    <tr>\n",
       "      <th>2</th>\n",
       "      <td>3</td>\n",
       "      <td>Saint Pierre and Miquelon</td>\n",
       "    </tr>\n",
       "    <tr>\n",
       "      <th>3</th>\n",
       "      <td>4</td>\n",
       "      <td>Germany</td>\n",
       "    </tr>\n",
       "    <tr>\n",
       "      <th>4</th>\n",
       "      <td>5</td>\n",
       "      <td>Italy</td>\n",
       "    </tr>\n",
       "    <tr>\n",
       "      <th>...</th>\n",
       "      <td>...</td>\n",
       "      <td>...</td>\n",
       "    </tr>\n",
       "    <tr>\n",
       "      <th>222</th>\n",
       "      <td>223</td>\n",
       "      <td>Chad</td>\n",
       "    </tr>\n",
       "    <tr>\n",
       "      <th>223</th>\n",
       "      <td>224</td>\n",
       "      <td>Mali</td>\n",
       "    </tr>\n",
       "    <tr>\n",
       "      <th>224</th>\n",
       "      <td>225</td>\n",
       "      <td>Angola</td>\n",
       "    </tr>\n",
       "    <tr>\n",
       "      <th>225</th>\n",
       "      <td>226</td>\n",
       "      <td>Uganda</td>\n",
       "    </tr>\n",
       "    <tr>\n",
       "      <th>226</th>\n",
       "      <td>227</td>\n",
       "      <td>Niger</td>\n",
       "    </tr>\n",
       "  </tbody>\n",
       "</table>\n",
       "<p>227 rows × 2 columns</p>\n",
       "</div>"
      ],
      "text/plain": [
       "     Rank                    Country\n",
       "0       1                     Monaco\n",
       "1       2                      Japan\n",
       "2       3  Saint Pierre and Miquelon\n",
       "3       4                    Germany\n",
       "4       5                      Italy\n",
       "..    ...                        ...\n",
       "222   223                       Chad\n",
       "223   224                       Mali\n",
       "224   225                     Angola\n",
       "225   226                     Uganda\n",
       "226   227                      Niger\n",
       "\n",
       "[227 rows x 2 columns]"
      ]
     },
     "execution_count": 30,
     "metadata": {},
     "output_type": "execute_result"
    }
   ],
   "source": [
    "DFage.iloc[:,:2]"
   ]
  },
  {
   "cell_type": "code",
   "execution_count": 34,
   "id": "ffc4661c",
   "metadata": {
    "scrolled": false
   },
   "outputs": [
    {
     "data": {
      "text/plain": [
       "0                         Monaco\n",
       "1                          Japan\n",
       "2      Saint Pierre and Miquelon\n",
       "3                        Germany\n",
       "4                          Italy\n",
       "                 ...            \n",
       "222                         Chad\n",
       "223                         Mali\n",
       "224                       Angola\n",
       "225                       Uganda\n",
       "226                        Niger\n",
       "Name: Country, Length: 227, dtype: object"
      ]
     },
     "execution_count": 34,
     "metadata": {},
     "output_type": "execute_result"
    }
   ],
   "source": [
    "DFage.Country.str.strip()"
   ]
  },
  {
   "cell_type": "code",
   "execution_count": 37,
   "id": "a7839881",
   "metadata": {},
   "outputs": [
    {
     "data": {
      "text/plain": [
       "Index(['Rank', 'Country', 'Years'], dtype='object')"
      ]
     },
     "execution_count": 37,
     "metadata": {},
     "output_type": "execute_result"
    }
   ],
   "source": [
    "DFage.columns.str.capitalize()"
   ]
  },
  {
   "cell_type": "code",
   "execution_count": 39,
   "id": "9bae5df6",
   "metadata": {},
   "outputs": [],
   "source": [
    "DFage.columns=DFage.columns.str.capitalize()"
   ]
  },
  {
   "cell_type": "code",
   "execution_count": 44,
   "id": "a681124d",
   "metadata": {},
   "outputs": [
    {
     "data": {
      "text/html": [
       "\n",
       "        <iframe\n",
       "            width=\"900\"\n",
       "            height=\"500\"\n",
       "            src=\"https://www.cia.gov/the-world-factbook/field/median-age/country-comparison\"\n",
       "            frameborder=\"0\"\n",
       "            allowfullscreen\n",
       "            \n",
       "        ></iframe>\n",
       "        "
      ],
      "text/plain": [
       "<IPython.lib.display.IFrame at 0x7fabd2ff66d0>"
      ]
     },
     "execution_count": 44,
     "metadata": {},
     "output_type": "execute_result"
    }
   ],
   "source": [
    "from IPython.display import IFrame\n",
    "poplink=\"https://www.cia.gov/the-world-factbook/field/population/country-comparison\"\n",
    "IFrame(agelink, width=900, height=500)"
   ]
  },
  {
   "cell_type": "code",
   "execution_count": 45,
   "id": "82b2dd9f",
   "metadata": {},
   "outputs": [
    {
     "data": {
      "text/html": [
       "<div>\n",
       "<style scoped>\n",
       "    .dataframe tbody tr th:only-of-type {\n",
       "        vertical-align: middle;\n",
       "    }\n",
       "\n",
       "    .dataframe tbody tr th {\n",
       "        vertical-align: top;\n",
       "    }\n",
       "\n",
       "    .dataframe thead th {\n",
       "        text-align: right;\n",
       "    }\n",
       "</style>\n",
       "<table border=\"1\" class=\"dataframe\">\n",
       "  <thead>\n",
       "    <tr style=\"text-align: right;\">\n",
       "      <th></th>\n",
       "      <th>Rank</th>\n",
       "      <th>Country</th>\n",
       "      <th>Unnamed: 2</th>\n",
       "      <th>Date of Information</th>\n",
       "    </tr>\n",
       "  </thead>\n",
       "  <tbody>\n",
       "    <tr>\n",
       "      <th>0</th>\n",
       "      <td>1</td>\n",
       "      <td>China</td>\n",
       "      <td>1410539758</td>\n",
       "      <td>2022 est.</td>\n",
       "    </tr>\n",
       "    <tr>\n",
       "      <th>1</th>\n",
       "      <td>2</td>\n",
       "      <td>India</td>\n",
       "      <td>1389637446</td>\n",
       "      <td>2022 est.</td>\n",
       "    </tr>\n",
       "    <tr>\n",
       "      <th>2</th>\n",
       "      <td>3</td>\n",
       "      <td>United States</td>\n",
       "      <td>337341954</td>\n",
       "      <td>2022 est.</td>\n",
       "    </tr>\n",
       "    <tr>\n",
       "      <th>3</th>\n",
       "      <td>4</td>\n",
       "      <td>Indonesia</td>\n",
       "      <td>277329163</td>\n",
       "      <td>2022 est.</td>\n",
       "    </tr>\n",
       "    <tr>\n",
       "      <th>4</th>\n",
       "      <td>5</td>\n",
       "      <td>Pakistan</td>\n",
       "      <td>242923845</td>\n",
       "      <td>2022 est.</td>\n",
       "    </tr>\n",
       "  </tbody>\n",
       "</table>\n",
       "</div>"
      ],
      "text/plain": [
       "   Rank        Country  Unnamed: 2 Date of Information\n",
       "0     1          China  1410539758           2022 est.\n",
       "1     2          India  1389637446           2022 est.\n",
       "2     3  United States   337341954           2022 est.\n",
       "3     4      Indonesia   277329163           2022 est.\n",
       "4     5       Pakistan   242923845           2022 est."
      ]
     },
     "execution_count": 45,
     "metadata": {},
     "output_type": "execute_result"
    }
   ],
   "source": [
    "poptable=pd.read_html(poplink, header=0)\n",
    "poptable[0].head()"
   ]
  },
  {
   "cell_type": "code",
   "execution_count": 46,
   "id": "8475945e",
   "metadata": {},
   "outputs": [],
   "source": [
    "DFpop=poptable[0].copy()"
   ]
  },
  {
   "cell_type": "code",
   "execution_count": 48,
   "id": "aecb6fbd",
   "metadata": {},
   "outputs": [
    {
     "data": {
      "text/html": [
       "<div>\n",
       "<style scoped>\n",
       "    .dataframe tbody tr th:only-of-type {\n",
       "        vertical-align: middle;\n",
       "    }\n",
       "\n",
       "    .dataframe tbody tr th {\n",
       "        vertical-align: top;\n",
       "    }\n",
       "\n",
       "    .dataframe thead th {\n",
       "        text-align: right;\n",
       "    }\n",
       "</style>\n",
       "<table border=\"1\" class=\"dataframe\">\n",
       "  <thead>\n",
       "    <tr style=\"text-align: right;\">\n",
       "      <th></th>\n",
       "      <th>Rank</th>\n",
       "      <th>Country</th>\n",
       "      <th>Unnamed2</th>\n",
       "    </tr>\n",
       "  </thead>\n",
       "  <tbody>\n",
       "    <tr>\n",
       "      <th>0</th>\n",
       "      <td>1</td>\n",
       "      <td>China</td>\n",
       "      <td>1410539758</td>\n",
       "    </tr>\n",
       "    <tr>\n",
       "      <th>1</th>\n",
       "      <td>2</td>\n",
       "      <td>India</td>\n",
       "      <td>1389637446</td>\n",
       "    </tr>\n",
       "    <tr>\n",
       "      <th>2</th>\n",
       "      <td>3</td>\n",
       "      <td>United States</td>\n",
       "      <td>337341954</td>\n",
       "    </tr>\n",
       "    <tr>\n",
       "      <th>3</th>\n",
       "      <td>4</td>\n",
       "      <td>Indonesia</td>\n",
       "      <td>277329163</td>\n",
       "    </tr>\n",
       "    <tr>\n",
       "      <th>4</th>\n",
       "      <td>5</td>\n",
       "      <td>Pakistan</td>\n",
       "      <td>242923845</td>\n",
       "    </tr>\n",
       "    <tr>\n",
       "      <th>...</th>\n",
       "      <td>...</td>\n",
       "      <td>...</td>\n",
       "      <td>...</td>\n",
       "    </tr>\n",
       "    <tr>\n",
       "      <th>232</th>\n",
       "      <td>233</td>\n",
       "      <td>Tokelau</td>\n",
       "      <td>1647</td>\n",
       "    </tr>\n",
       "    <tr>\n",
       "      <th>233</th>\n",
       "      <td>234</td>\n",
       "      <td>Paracel Islands</td>\n",
       "      <td>1440</td>\n",
       "    </tr>\n",
       "    <tr>\n",
       "      <th>234</th>\n",
       "      <td>235</td>\n",
       "      <td>Holy See (Vatican City)</td>\n",
       "      <td>1000</td>\n",
       "    </tr>\n",
       "    <tr>\n",
       "      <th>235</th>\n",
       "      <td>236</td>\n",
       "      <td>Cocos (Keeling) Islands</td>\n",
       "      <td>596</td>\n",
       "    </tr>\n",
       "    <tr>\n",
       "      <th>236</th>\n",
       "      <td>237</td>\n",
       "      <td>Pitcairn Islands</td>\n",
       "      <td>50</td>\n",
       "    </tr>\n",
       "  </tbody>\n",
       "</table>\n",
       "<p>237 rows × 3 columns</p>\n",
       "</div>"
      ],
      "text/plain": [
       "     Rank                  Country    Unnamed2\n",
       "0       1                    China  1410539758\n",
       "1       2                    India  1389637446\n",
       "2       3            United States   337341954\n",
       "3       4                Indonesia   277329163\n",
       "4       5                 Pakistan   242923845\n",
       "..    ...                      ...         ...\n",
       "232   233                  Tokelau        1647\n",
       "233   234          Paracel Islands        1440\n",
       "234   235  Holy See (Vatican City)        1000\n",
       "235   236  Cocos (Keeling) Islands         596\n",
       "236   237         Pitcairn Islands          50\n",
       "\n",
       "[237 rows x 3 columns]"
      ]
     },
     "execution_count": 48,
     "metadata": {},
     "output_type": "execute_result"
    }
   ],
   "source": [
    "bye=[3]\n",
    "DFpop.drop(columns=DFpop.columns[bye],inplace=True)\n",
    "DFpop"
   ]
  },
  {
   "cell_type": "code",
   "execution_count": 69,
   "id": "5f8164cc",
   "metadata": {},
   "outputs": [
    {
     "data": {
      "text/plain": [
       "Index(['Rank', 'Country', 'Population'], dtype='object')"
      ]
     },
     "execution_count": 69,
     "metadata": {},
     "output_type": "execute_result"
    }
   ],
   "source": [
    "DFpop.columns.str.replace(pat=\"Unnamed2\",repl=\"population\", regex=True) "
   ]
  },
  {
   "cell_type": "code",
   "execution_count": 70,
   "id": "cc0de7c8",
   "metadata": {},
   "outputs": [],
   "source": [
    "DFpop.columns=DFpop.columns.str.replace(\"Unnamed2\",\"Population\",regex=True).to_list()"
   ]
  },
  {
   "cell_type": "code",
   "execution_count": 71,
   "id": "68170463",
   "metadata": {},
   "outputs": [
    {
     "data": {
      "text/html": [
       "<div>\n",
       "<style scoped>\n",
       "    .dataframe tbody tr th:only-of-type {\n",
       "        vertical-align: middle;\n",
       "    }\n",
       "\n",
       "    .dataframe tbody tr th {\n",
       "        vertical-align: top;\n",
       "    }\n",
       "\n",
       "    .dataframe thead th {\n",
       "        text-align: right;\n",
       "    }\n",
       "</style>\n",
       "<table border=\"1\" class=\"dataframe\">\n",
       "  <thead>\n",
       "    <tr style=\"text-align: right;\">\n",
       "      <th></th>\n",
       "      <th>Rank</th>\n",
       "      <th>Country</th>\n",
       "      <th>Population</th>\n",
       "    </tr>\n",
       "  </thead>\n",
       "  <tbody>\n",
       "    <tr>\n",
       "      <th>0</th>\n",
       "      <td>1</td>\n",
       "      <td>China</td>\n",
       "      <td>1410539758</td>\n",
       "    </tr>\n",
       "    <tr>\n",
       "      <th>1</th>\n",
       "      <td>2</td>\n",
       "      <td>India</td>\n",
       "      <td>1389637446</td>\n",
       "    </tr>\n",
       "    <tr>\n",
       "      <th>2</th>\n",
       "      <td>3</td>\n",
       "      <td>United States</td>\n",
       "      <td>337341954</td>\n",
       "    </tr>\n",
       "    <tr>\n",
       "      <th>3</th>\n",
       "      <td>4</td>\n",
       "      <td>Indonesia</td>\n",
       "      <td>277329163</td>\n",
       "    </tr>\n",
       "    <tr>\n",
       "      <th>4</th>\n",
       "      <td>5</td>\n",
       "      <td>Pakistan</td>\n",
       "      <td>242923845</td>\n",
       "    </tr>\n",
       "    <tr>\n",
       "      <th>...</th>\n",
       "      <td>...</td>\n",
       "      <td>...</td>\n",
       "      <td>...</td>\n",
       "    </tr>\n",
       "    <tr>\n",
       "      <th>232</th>\n",
       "      <td>233</td>\n",
       "      <td>Tokelau</td>\n",
       "      <td>1647</td>\n",
       "    </tr>\n",
       "    <tr>\n",
       "      <th>233</th>\n",
       "      <td>234</td>\n",
       "      <td>Paracel Islands</td>\n",
       "      <td>1440</td>\n",
       "    </tr>\n",
       "    <tr>\n",
       "      <th>234</th>\n",
       "      <td>235</td>\n",
       "      <td>Holy See (Vatican City)</td>\n",
       "      <td>1000</td>\n",
       "    </tr>\n",
       "    <tr>\n",
       "      <th>235</th>\n",
       "      <td>236</td>\n",
       "      <td>Cocos (Keeling) Islands</td>\n",
       "      <td>596</td>\n",
       "    </tr>\n",
       "    <tr>\n",
       "      <th>236</th>\n",
       "      <td>237</td>\n",
       "      <td>Pitcairn Islands</td>\n",
       "      <td>50</td>\n",
       "    </tr>\n",
       "  </tbody>\n",
       "</table>\n",
       "<p>237 rows × 3 columns</p>\n",
       "</div>"
      ],
      "text/plain": [
       "     Rank                  Country  Population\n",
       "0       1                    China  1410539758\n",
       "1       2                    India  1389637446\n",
       "2       3            United States   337341954\n",
       "3       4                Indonesia   277329163\n",
       "4       5                 Pakistan   242923845\n",
       "..    ...                      ...         ...\n",
       "232   233                  Tokelau        1647\n",
       "233   234          Paracel Islands        1440\n",
       "234   235  Holy See (Vatican City)        1000\n",
       "235   236  Cocos (Keeling) Islands         596\n",
       "236   237         Pitcairn Islands          50\n",
       "\n",
       "[237 rows x 3 columns]"
      ]
     },
     "execution_count": 71,
     "metadata": {},
     "output_type": "execute_result"
    }
   ],
   "source": [
    "DFpop"
   ]
  },
  {
   "cell_type": "code",
   "execution_count": 72,
   "id": "d28fe4ee",
   "metadata": {},
   "outputs": [
    {
     "data": {
      "text/plain": [
       "0                        China\n",
       "1                        India\n",
       "2                United States\n",
       "3                    Indonesia\n",
       "4                     Pakistan\n",
       "                ...           \n",
       "232                    Tokelau\n",
       "233            Paracel Islands\n",
       "234    Holy See (Vatican City)\n",
       "235    Cocos (Keeling) Islands\n",
       "236           Pitcairn Islands\n",
       "Name: Country, Length: 237, dtype: object"
      ]
     },
     "execution_count": 72,
     "metadata": {},
     "output_type": "execute_result"
    }
   ],
   "source": [
    "DFpop.Country.str.strip()"
   ]
  },
  {
   "cell_type": "code",
   "execution_count": null,
   "id": "ebdfac51",
   "metadata": {},
   "outputs": [],
   "source": []
  }
 ],
 "metadata": {
  "kernelspec": {
   "display_name": "Python 3 (ipykernel)",
   "language": "python",
   "name": "python3"
  },
  "language_info": {
   "codemirror_mode": {
    "name": "ipython",
    "version": 3
   },
   "file_extension": ".py",
   "mimetype": "text/x-python",
   "name": "python",
   "nbconvert_exporter": "python",
   "pygments_lexer": "ipython3",
   "version": "3.9.15"
  }
 },
 "nbformat": 4,
 "nbformat_minor": 5
}
