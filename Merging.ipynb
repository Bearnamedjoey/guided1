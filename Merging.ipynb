{
 "cells": [
  {
   "cell_type": "code",
   "execution_count": 2,
   "id": "afb964df",
   "metadata": {},
   "outputs": [],
   "source": [
    "import pandas as pd\n",
    "\n",
    "DFage=pd.read_csv(\"https://github.com/Bearnamedjoey/guided1/raw/main/Medianage.csv\")\n",
    "DFalc=pd.read_csv(\"https://github.com/Bearnamedjoey/guided1/raw/main/Alcohol.csv\")"
   ]
  },
  {
   "cell_type": "code",
   "execution_count": 3,
   "id": "fda5957e",
   "metadata": {},
   "outputs": [],
   "source": [
    "DF1=pd.merge(DFage, DFalc, on='Country')"
   ]
  },
  {
   "cell_type": "code",
   "execution_count": 4,
   "id": "cd0ae889",
   "metadata": {},
   "outputs": [
    {
     "name": "stdout",
     "output_type": "stream",
     "text": [
      "<class 'pandas.core.frame.DataFrame'>\n",
      "Int64Index: 188 entries, 0 to 187\n",
      "Data columns (total 5 columns):\n",
      " #   Column                  Non-Null Count  Dtype  \n",
      "---  ------                  --------------  -----  \n",
      " 0   Rank_x                  188 non-null    int64  \n",
      " 1   Country                 188 non-null    object \n",
      " 2   Years                   188 non-null    float64\n",
      " 3   Rank_y                  188 non-null    int64  \n",
      " 4   liters of pure alcohol  188 non-null    float64\n",
      "dtypes: float64(2), int64(2), object(1)\n",
      "memory usage: 8.8+ KB\n"
     ]
    }
   ],
   "source": [
    "DF1.info()"
   ]
  },
  {
   "cell_type": "code",
   "execution_count": 5,
   "id": "9cf18872",
   "metadata": {},
   "outputs": [],
   "source": [
    "DFobe=pd.read_csv(\"https://github.com/Bearnamedjoey/guided1/raw/main/obesity.csv\")\n",
    "DFtbc=pd.read_csv(\"https://github.com/Bearnamedjoey/guided1/raw/main/Tobacco.csv\")"
   ]
  },
  {
   "cell_type": "code",
   "execution_count": 6,
   "id": "1b86ed75",
   "metadata": {},
   "outputs": [],
   "source": [
    "DF2=pd.merge(DFobe, DFtbc, on='Country')"
   ]
  },
  {
   "cell_type": "code",
   "execution_count": 7,
   "id": "5aea64a2",
   "metadata": {},
   "outputs": [
    {
     "name": "stdout",
     "output_type": "stream",
     "text": [
      "<class 'pandas.core.frame.DataFrame'>\n",
      "Int64Index: 164 entries, 0 to 163\n",
      "Data columns (total 5 columns):\n",
      " #   Column                  Non-Null Count  Dtype  \n",
      "---  ------                  --------------  -----  \n",
      " 0   Rank_x                  164 non-null    int64  \n",
      " 1   Country                 164 non-null    object \n",
      " 2   Percent of Obesity      164 non-null    float64\n",
      " 3   Rank_y                  164 non-null    int64  \n",
      " 4   Percent of Tobacco Use  164 non-null    float64\n",
      "dtypes: float64(2), int64(2), object(1)\n",
      "memory usage: 7.7+ KB\n"
     ]
    }
   ],
   "source": [
    "DF2.info()"
   ]
  },
  {
   "cell_type": "code",
   "execution_count": 8,
   "id": "ee209d33",
   "metadata": {},
   "outputs": [],
   "source": [
    "DFpeople=pd.merge(DF1, DF2, on='Country')"
   ]
  },
  {
   "cell_type": "code",
   "execution_count": 9,
   "id": "de3e37b6",
   "metadata": {},
   "outputs": [
    {
     "name": "stdout",
     "output_type": "stream",
     "text": [
      "<class 'pandas.core.frame.DataFrame'>\n",
      "Int64Index: 162 entries, 0 to 161\n",
      "Data columns (total 9 columns):\n",
      " #   Column                  Non-Null Count  Dtype  \n",
      "---  ------                  --------------  -----  \n",
      " 0   Rank_x_x                162 non-null    int64  \n",
      " 1   Country                 162 non-null    object \n",
      " 2   Years                   162 non-null    float64\n",
      " 3   Rank_y_x                162 non-null    int64  \n",
      " 4   liters of pure alcohol  162 non-null    float64\n",
      " 5   Rank_x_y                162 non-null    int64  \n",
      " 6   Percent of Obesity      162 non-null    float64\n",
      " 7   Rank_y_y                162 non-null    int64  \n",
      " 8   Percent of Tobacco Use  162 non-null    float64\n",
      "dtypes: float64(4), int64(4), object(1)\n",
      "memory usage: 12.7+ KB\n"
     ]
    }
   ],
   "source": [
    "DFpeople.info()"
   ]
  },
  {
   "cell_type": "code",
   "execution_count": 13,
   "id": "4b1ed54b",
   "metadata": {},
   "outputs": [
    {
     "name": "stdout",
     "output_type": "stream",
     "text": [
      "<class 'pandas.core.frame.DataFrame'>\n",
      "Int64Index: 162 entries, 0 to 161\n",
      "Data columns (total 9 columns):\n",
      " #   Column                  Non-Null Count  Dtype  \n",
      "---  ------                  --------------  -----  \n",
      " 0   Rank_x_x                162 non-null    int64  \n",
      " 1   Country                 162 non-null    object \n",
      " 2   Years                   162 non-null    float64\n",
      " 3   Rank_y_x                162 non-null    int64  \n",
      " 4   liters of pure alcohol  162 non-null    float64\n",
      " 5   Rank_x_y                162 non-null    int64  \n",
      " 6   Percent of Obesity      162 non-null    float64\n",
      " 7   Rank_y_y                162 non-null    int64  \n",
      " 8   Percent of Tobacco Use  162 non-null    float64\n",
      "dtypes: float64(4), int64(4), object(1)\n",
      "memory usage: 12.7+ KB\n"
     ]
    }
   ],
   "source": [
    "DFpeople.info()\n"
   ]
  },
  {
   "cell_type": "code",
   "execution_count": 16,
   "id": "54e4e38d",
   "metadata": {},
   "outputs": [],
   "source": [
    "bye=[0,3,5,7]\n",
    "DFpeople.drop(columns=DFpeople.columns[bye],inplace=True)"
   ]
  },
  {
   "cell_type": "code",
   "execution_count": 19,
   "id": "39381522",
   "metadata": {},
   "outputs": [
    {
     "data": {
      "text/plain": [
       "Index(['Country', 'Years', 'Liters of pure alcohol', 'Percent of obesity',\n",
       "       'Percent of tobacco use'],\n",
       "      dtype='object')"
      ]
     },
     "execution_count": 19,
     "metadata": {},
     "output_type": "execute_result"
    }
   ],
   "source": [
    "DFpeople.columns.str.capitalize()"
   ]
  },
  {
   "cell_type": "code",
   "execution_count": 20,
   "id": "18c2a709",
   "metadata": {},
   "outputs": [],
   "source": [
    "DFpeople.to_csv(\"People.csv\",index=False)"
   ]
  },
  {
   "cell_type": "code",
   "execution_count": 21,
   "id": "effc0e4c",
   "metadata": {},
   "outputs": [],
   "source": [
    "Peoplecsv=pd.read_csv('People.csv')"
   ]
  },
  {
   "cell_type": "code",
   "execution_count": 22,
   "id": "f6f61dc2",
   "metadata": {},
   "outputs": [
    {
     "name": "stdout",
     "output_type": "stream",
     "text": [
      "<class 'pandas.core.frame.DataFrame'>\n",
      "RangeIndex: 162 entries, 0 to 161\n",
      "Data columns (total 5 columns):\n",
      " #   Column                  Non-Null Count  Dtype  \n",
      "---  ------                  --------------  -----  \n",
      " 0   Country                 162 non-null    object \n",
      " 1   Years                   162 non-null    float64\n",
      " 2   liters of pure alcohol  162 non-null    float64\n",
      " 3   Percent of Obesity      162 non-null    float64\n",
      " 4   Percent of Tobacco Use  162 non-null    float64\n",
      "dtypes: float64(4), object(1)\n",
      "memory usage: 6.5+ KB\n"
     ]
    }
   ],
   "source": [
    "Peoplecsv.info()"
   ]
  },
  {
   "cell_type": "code",
   "execution_count": 23,
   "id": "83aac11e",
   "metadata": {},
   "outputs": [],
   "source": [
    "DFgdp=pd.read_csv(\"https://github.com/Bearnamedjoey/guided1/raw/main/GDPcapita.csv\")\n",
    "DFlabor=pd.read_csv(\"https://github.com/Bearnamedjoey/guided1/raw/main/Labor.csv\")"
   ]
  },
  {
   "cell_type": "code",
   "execution_count": 29,
   "id": "5a6f326d",
   "metadata": {},
   "outputs": [],
   "source": [
    "DF1=pd.merge(DFgdp, DFlabor, on='name')"
   ]
  },
  {
   "cell_type": "code",
   "execution_count": 30,
   "id": "c25c623e",
   "metadata": {},
   "outputs": [],
   "source": [
    "DFgini=pd.read_csv(\"https://github.com/Bearnamedjoey/guided1/raw/main/Gini.csv\")"
   ]
  },
  {
   "cell_type": "code",
   "execution_count": 31,
   "id": "f63fb12b",
   "metadata": {},
   "outputs": [],
   "source": [
    "DFecon=pd.merge(DF1, DFgini, on='name')"
   ]
  },
  {
   "cell_type": "code",
   "execution_count": 32,
   "id": "b1bd0df7",
   "metadata": {
    "scrolled": true
   },
   "outputs": [
    {
     "data": {
      "text/html": [
       "<div>\n",
       "<style scoped>\n",
       "    .dataframe tbody tr th:only-of-type {\n",
       "        vertical-align: middle;\n",
       "    }\n",
       "\n",
       "    .dataframe tbody tr th {\n",
       "        vertical-align: top;\n",
       "    }\n",
       "\n",
       "    .dataframe thead th {\n",
       "        text-align: right;\n",
       "    }\n",
       "</style>\n",
       "<table border=\"1\" class=\"dataframe\">\n",
       "  <thead>\n",
       "    <tr style=\"text-align: right;\">\n",
       "      <th></th>\n",
       "      <th>name</th>\n",
       "      <th>slug_x</th>\n",
       "      <th>value_x</th>\n",
       "      <th>date_of_information_x</th>\n",
       "      <th>ranking_x</th>\n",
       "      <th>region_x</th>\n",
       "      <th>slug_y</th>\n",
       "      <th>value_y</th>\n",
       "      <th>date_of_information_y</th>\n",
       "      <th>ranking_y</th>\n",
       "      <th>region_y</th>\n",
       "      <th>slug</th>\n",
       "      <th>value</th>\n",
       "      <th>date_of_information</th>\n",
       "      <th>ranking</th>\n",
       "      <th>region</th>\n",
       "    </tr>\n",
       "  </thead>\n",
       "  <tbody>\n",
       "    <tr>\n",
       "      <th>0</th>\n",
       "      <td>Luxembourg</td>\n",
       "      <td>luxembourg</td>\n",
       "      <td>$115,700</td>\n",
       "      <td>2021 est.</td>\n",
       "      <td>2</td>\n",
       "      <td>Europe</td>\n",
       "      <td>luxembourg</td>\n",
       "      <td>333,900</td>\n",
       "      <td>2021 est.</td>\n",
       "      <td>166</td>\n",
       "      <td>Europe</td>\n",
       "      <td>luxembourg</td>\n",
       "      <td>34.2</td>\n",
       "      <td>2019 est.</td>\n",
       "      <td>112</td>\n",
       "      <td>Europe</td>\n",
       "    </tr>\n",
       "    <tr>\n",
       "      <th>1</th>\n",
       "      <td>Singapore</td>\n",
       "      <td>singapore</td>\n",
       "      <td>$106,000</td>\n",
       "      <td>2021 est.</td>\n",
       "      <td>4</td>\n",
       "      <td>East and Southeast Asia</td>\n",
       "      <td>singapore</td>\n",
       "      <td>3,290,000</td>\n",
       "      <td>2021 est.</td>\n",
       "      <td>101</td>\n",
       "      <td>East and Southeast Asia</td>\n",
       "      <td>singapore</td>\n",
       "      <td>45.9</td>\n",
       "      <td>2017</td>\n",
       "      <td>28</td>\n",
       "      <td>East and Southeast Asia</td>\n",
       "    </tr>\n",
       "    <tr>\n",
       "      <th>2</th>\n",
       "      <td>Ireland</td>\n",
       "      <td>ireland</td>\n",
       "      <td>$102,500</td>\n",
       "      <td>2021 est.</td>\n",
       "      <td>5</td>\n",
       "      <td>Europe</td>\n",
       "      <td>ireland</td>\n",
       "      <td>2,518,000</td>\n",
       "      <td>2021 est.</td>\n",
       "      <td>115</td>\n",
       "      <td>Europe</td>\n",
       "      <td>ireland</td>\n",
       "      <td>30.6</td>\n",
       "      <td>2018 est.</td>\n",
       "      <td>146</td>\n",
       "      <td>Europe</td>\n",
       "    </tr>\n",
       "    <tr>\n",
       "      <th>3</th>\n",
       "      <td>Qatar</td>\n",
       "      <td>qatar</td>\n",
       "      <td>$92,900</td>\n",
       "      <td>2021 est.</td>\n",
       "      <td>6</td>\n",
       "      <td>Middle East</td>\n",
       "      <td>qatar</td>\n",
       "      <td>1,977,000</td>\n",
       "      <td>2021 est.</td>\n",
       "      <td>126</td>\n",
       "      <td>Middle East</td>\n",
       "      <td>qatar</td>\n",
       "      <td>41.1</td>\n",
       "      <td>2007</td>\n",
       "      <td>50</td>\n",
       "      <td>Middle East</td>\n",
       "    </tr>\n",
       "    <tr>\n",
       "      <th>4</th>\n",
       "      <td>Switzerland</td>\n",
       "      <td>switzerland</td>\n",
       "      <td>$71,000</td>\n",
       "      <td>2021 est.</td>\n",
       "      <td>9</td>\n",
       "      <td>Europe</td>\n",
       "      <td>switzerland</td>\n",
       "      <td>4,963,000</td>\n",
       "      <td>2021 est.</td>\n",
       "      <td>85</td>\n",
       "      <td>Europe</td>\n",
       "      <td>switzerland</td>\n",
       "      <td>32.7</td>\n",
       "      <td>2017 est.</td>\n",
       "      <td>131</td>\n",
       "      <td>Europe</td>\n",
       "    </tr>\n",
       "    <tr>\n",
       "      <th>...</th>\n",
       "      <td>...</td>\n",
       "      <td>...</td>\n",
       "      <td>...</td>\n",
       "      <td>...</td>\n",
       "      <td>...</td>\n",
       "      <td>...</td>\n",
       "      <td>...</td>\n",
       "      <td>...</td>\n",
       "      <td>...</td>\n",
       "      <td>...</td>\n",
       "      <td>...</td>\n",
       "      <td>...</td>\n",
       "      <td>...</td>\n",
       "      <td>...</td>\n",
       "      <td>...</td>\n",
       "      <td>...</td>\n",
       "    </tr>\n",
       "    <tr>\n",
       "      <th>171</th>\n",
       "      <td>Mozambique</td>\n",
       "      <td>mozambique</td>\n",
       "      <td>$1,200</td>\n",
       "      <td>2021 est.</td>\n",
       "      <td>224</td>\n",
       "      <td>Africa</td>\n",
       "      <td>mozambique</td>\n",
       "      <td>14,137,000</td>\n",
       "      <td>2021 est.</td>\n",
       "      <td>43</td>\n",
       "      <td>Africa</td>\n",
       "      <td>mozambique</td>\n",
       "      <td>54.0</td>\n",
       "      <td>2014 est.</td>\n",
       "      <td>8</td>\n",
       "      <td>Africa</td>\n",
       "    </tr>\n",
       "    <tr>\n",
       "      <th>172</th>\n",
       "      <td>Niger</td>\n",
       "      <td>niger</td>\n",
       "      <td>$1,200</td>\n",
       "      <td>2021 est.</td>\n",
       "      <td>225</td>\n",
       "      <td>Africa</td>\n",
       "      <td>niger</td>\n",
       "      <td>9,411,000</td>\n",
       "      <td>2021 est.</td>\n",
       "      <td>55</td>\n",
       "      <td>Africa</td>\n",
       "      <td>niger</td>\n",
       "      <td>34.3</td>\n",
       "      <td>2014 est.</td>\n",
       "      <td>111</td>\n",
       "      <td>Africa</td>\n",
       "    </tr>\n",
       "    <tr>\n",
       "      <th>173</th>\n",
       "      <td>Congo, Democratic Republic of the</td>\n",
       "      <td>congo-democratic-republic-of-the</td>\n",
       "      <td>$1,100</td>\n",
       "      <td>2021 est.</td>\n",
       "      <td>226</td>\n",
       "      <td>Africa</td>\n",
       "      <td>congo-democratic-republic-of-the</td>\n",
       "      <td>33,382,000</td>\n",
       "      <td>2021 est.</td>\n",
       "      <td>18</td>\n",
       "      <td>Africa</td>\n",
       "      <td>congo-democratic-republic-of-the</td>\n",
       "      <td>42.1</td>\n",
       "      <td>2012 est.</td>\n",
       "      <td>45</td>\n",
       "      <td>Africa</td>\n",
       "    </tr>\n",
       "    <tr>\n",
       "      <th>174</th>\n",
       "      <td>Central African Republic</td>\n",
       "      <td>central-african-republic</td>\n",
       "      <td>$800</td>\n",
       "      <td>2021 est.</td>\n",
       "      <td>228</td>\n",
       "      <td>Africa</td>\n",
       "      <td>central-african-republic</td>\n",
       "      <td>2,015,000</td>\n",
       "      <td>2021 est.</td>\n",
       "      <td>124</td>\n",
       "      <td>Africa</td>\n",
       "      <td>central-african-republic</td>\n",
       "      <td>56.2</td>\n",
       "      <td>2008 est.</td>\n",
       "      <td>5</td>\n",
       "      <td>Africa</td>\n",
       "    </tr>\n",
       "    <tr>\n",
       "      <th>175</th>\n",
       "      <td>Burundi</td>\n",
       "      <td>burundi</td>\n",
       "      <td>$700</td>\n",
       "      <td>2021 est.</td>\n",
       "      <td>229</td>\n",
       "      <td>Africa</td>\n",
       "      <td>burundi</td>\n",
       "      <td>5,271,000</td>\n",
       "      <td>2021 est.</td>\n",
       "      <td>77</td>\n",
       "      <td>Africa</td>\n",
       "      <td>burundi</td>\n",
       "      <td>38.6</td>\n",
       "      <td>2013 est.</td>\n",
       "      <td>69</td>\n",
       "      <td>Africa</td>\n",
       "    </tr>\n",
       "  </tbody>\n",
       "</table>\n",
       "<p>176 rows × 16 columns</p>\n",
       "</div>"
      ],
      "text/plain": [
       "                                  name                            slug_x  \\\n",
       "0                           Luxembourg                        luxembourg   \n",
       "1                            Singapore                         singapore   \n",
       "2                              Ireland                           ireland   \n",
       "3                                Qatar                             qatar   \n",
       "4                          Switzerland                       switzerland   \n",
       "..                                 ...                               ...   \n",
       "171                         Mozambique                        mozambique   \n",
       "172                              Niger                             niger   \n",
       "173  Congo, Democratic Republic of the  congo-democratic-republic-of-the   \n",
       "174           Central African Republic          central-african-republic   \n",
       "175                            Burundi                           burundi   \n",
       "\n",
       "      value_x date_of_information_x  ranking_x                 region_x  \\\n",
       "0    $115,700             2021 est.          2                   Europe   \n",
       "1    $106,000             2021 est.          4  East and Southeast Asia   \n",
       "2    $102,500             2021 est.          5                   Europe   \n",
       "3     $92,900             2021 est.          6              Middle East   \n",
       "4     $71,000             2021 est.          9                   Europe   \n",
       "..        ...                   ...        ...                      ...   \n",
       "171    $1,200             2021 est.        224                   Africa   \n",
       "172    $1,200             2021 est.        225                   Africa   \n",
       "173    $1,100             2021 est.        226                   Africa   \n",
       "174      $800             2021 est.        228                   Africa   \n",
       "175      $700             2021 est.        229                   Africa   \n",
       "\n",
       "                               slug_y     value_y date_of_information_y  \\\n",
       "0                          luxembourg     333,900             2021 est.   \n",
       "1                           singapore   3,290,000             2021 est.   \n",
       "2                             ireland   2,518,000             2021 est.   \n",
       "3                               qatar   1,977,000             2021 est.   \n",
       "4                         switzerland   4,963,000             2021 est.   \n",
       "..                                ...         ...                   ...   \n",
       "171                        mozambique  14,137,000             2021 est.   \n",
       "172                             niger   9,411,000             2021 est.   \n",
       "173  congo-democratic-republic-of-the  33,382,000             2021 est.   \n",
       "174          central-african-republic   2,015,000             2021 est.   \n",
       "175                           burundi   5,271,000             2021 est.   \n",
       "\n",
       "     ranking_y                 region_y                              slug  \\\n",
       "0          166                   Europe                        luxembourg   \n",
       "1          101  East and Southeast Asia                         singapore   \n",
       "2          115                   Europe                           ireland   \n",
       "3          126              Middle East                             qatar   \n",
       "4           85                   Europe                       switzerland   \n",
       "..         ...                      ...                               ...   \n",
       "171         43                   Africa                        mozambique   \n",
       "172         55                   Africa                             niger   \n",
       "173         18                   Africa  congo-democratic-republic-of-the   \n",
       "174        124                   Africa          central-african-republic   \n",
       "175         77                   Africa                           burundi   \n",
       "\n",
       "     value date_of_information  ranking                   region  \n",
       "0     34.2           2019 est.      112                   Europe  \n",
       "1     45.9                2017       28  East and Southeast Asia  \n",
       "2     30.6           2018 est.      146                   Europe  \n",
       "3     41.1                2007       50              Middle East  \n",
       "4     32.7           2017 est.      131                   Europe  \n",
       "..     ...                 ...      ...                      ...  \n",
       "171   54.0           2014 est.        8                   Africa  \n",
       "172   34.3           2014 est.      111                   Africa  \n",
       "173   42.1           2012 est.       45                   Africa  \n",
       "174   56.2           2008 est.        5                   Africa  \n",
       "175   38.6           2013 est.       69                   Africa  \n",
       "\n",
       "[176 rows x 16 columns]"
      ]
     },
     "execution_count": 32,
     "metadata": {},
     "output_type": "execute_result"
    }
   ],
   "source": [
    "DFecon"
   ]
  },
  {
   "cell_type": "code",
   "execution_count": 33,
   "id": "667f4f4d",
   "metadata": {},
   "outputs": [
    {
     "name": "stdout",
     "output_type": "stream",
     "text": [
      "<class 'pandas.core.frame.DataFrame'>\n",
      "Int64Index: 176 entries, 0 to 175\n",
      "Data columns (total 16 columns):\n",
      " #   Column                 Non-Null Count  Dtype  \n",
      "---  ------                 --------------  -----  \n",
      " 0   name                   176 non-null    object \n",
      " 1   slug_x                 176 non-null    object \n",
      " 2   value_x                176 non-null    object \n",
      " 3   date_of_information_x  176 non-null    object \n",
      " 4   ranking_x              176 non-null    int64  \n",
      " 5   region_x               176 non-null    object \n",
      " 6   slug_y                 176 non-null    object \n",
      " 7   value_y                176 non-null    object \n",
      " 8   date_of_information_y  176 non-null    object \n",
      " 9   ranking_y              176 non-null    int64  \n",
      " 10  region_y               176 non-null    object \n",
      " 11  slug                   176 non-null    object \n",
      " 12  value                  176 non-null    float64\n",
      " 13  date_of_information    176 non-null    object \n",
      " 14  ranking                176 non-null    int64  \n",
      " 15  region                 176 non-null    object \n",
      "dtypes: float64(1), int64(3), object(12)\n",
      "memory usage: 23.4+ KB\n"
     ]
    }
   ],
   "source": [
    "DFecon.info()"
   ]
  },
  {
   "cell_type": "code",
   "execution_count": 34,
   "id": "9fbb837f",
   "metadata": {},
   "outputs": [],
   "source": [
    "bye=[1,3,4,5,6,8,9,10,11,13,14,15]\n",
    "DFecon.drop(columns=DFecon.columns[bye],inplace=True)"
   ]
  },
  {
   "cell_type": "code",
   "execution_count": 35,
   "id": "ed5c9736",
   "metadata": {},
   "outputs": [
    {
     "name": "stdout",
     "output_type": "stream",
     "text": [
      "<class 'pandas.core.frame.DataFrame'>\n",
      "Int64Index: 176 entries, 0 to 175\n",
      "Data columns (total 4 columns):\n",
      " #   Column   Non-Null Count  Dtype  \n",
      "---  ------   --------------  -----  \n",
      " 0   name     176 non-null    object \n",
      " 1   value_x  176 non-null    object \n",
      " 2   value_y  176 non-null    object \n",
      " 3   value    176 non-null    float64\n",
      "dtypes: float64(1), object(3)\n",
      "memory usage: 6.9+ KB\n"
     ]
    }
   ],
   "source": [
    "DFecon.info()"
   ]
  },
  {
   "cell_type": "code",
   "execution_count": 36,
   "id": "a4720ae5",
   "metadata": {},
   "outputs": [
    {
     "data": {
      "text/html": [
       "<div>\n",
       "<style scoped>\n",
       "    .dataframe tbody tr th:only-of-type {\n",
       "        vertical-align: middle;\n",
       "    }\n",
       "\n",
       "    .dataframe tbody tr th {\n",
       "        vertical-align: top;\n",
       "    }\n",
       "\n",
       "    .dataframe thead th {\n",
       "        text-align: right;\n",
       "    }\n",
       "</style>\n",
       "<table border=\"1\" class=\"dataframe\">\n",
       "  <thead>\n",
       "    <tr style=\"text-align: right;\">\n",
       "      <th></th>\n",
       "      <th>name</th>\n",
       "      <th>value_x</th>\n",
       "      <th>value_y</th>\n",
       "      <th>value</th>\n",
       "    </tr>\n",
       "  </thead>\n",
       "  <tbody>\n",
       "    <tr>\n",
       "      <th>0</th>\n",
       "      <td>Luxembourg</td>\n",
       "      <td>$115,700</td>\n",
       "      <td>333,900</td>\n",
       "      <td>34.2</td>\n",
       "    </tr>\n",
       "    <tr>\n",
       "      <th>1</th>\n",
       "      <td>Singapore</td>\n",
       "      <td>$106,000</td>\n",
       "      <td>3,290,000</td>\n",
       "      <td>45.9</td>\n",
       "    </tr>\n",
       "    <tr>\n",
       "      <th>2</th>\n",
       "      <td>Ireland</td>\n",
       "      <td>$102,500</td>\n",
       "      <td>2,518,000</td>\n",
       "      <td>30.6</td>\n",
       "    </tr>\n",
       "    <tr>\n",
       "      <th>3</th>\n",
       "      <td>Qatar</td>\n",
       "      <td>$92,900</td>\n",
       "      <td>1,977,000</td>\n",
       "      <td>41.1</td>\n",
       "    </tr>\n",
       "    <tr>\n",
       "      <th>4</th>\n",
       "      <td>Switzerland</td>\n",
       "      <td>$71,000</td>\n",
       "      <td>4,963,000</td>\n",
       "      <td>32.7</td>\n",
       "    </tr>\n",
       "    <tr>\n",
       "      <th>...</th>\n",
       "      <td>...</td>\n",
       "      <td>...</td>\n",
       "      <td>...</td>\n",
       "      <td>...</td>\n",
       "    </tr>\n",
       "    <tr>\n",
       "      <th>171</th>\n",
       "      <td>Mozambique</td>\n",
       "      <td>$1,200</td>\n",
       "      <td>14,137,000</td>\n",
       "      <td>54.0</td>\n",
       "    </tr>\n",
       "    <tr>\n",
       "      <th>172</th>\n",
       "      <td>Niger</td>\n",
       "      <td>$1,200</td>\n",
       "      <td>9,411,000</td>\n",
       "      <td>34.3</td>\n",
       "    </tr>\n",
       "    <tr>\n",
       "      <th>173</th>\n",
       "      <td>Congo, Democratic Republic of the</td>\n",
       "      <td>$1,100</td>\n",
       "      <td>33,382,000</td>\n",
       "      <td>42.1</td>\n",
       "    </tr>\n",
       "    <tr>\n",
       "      <th>174</th>\n",
       "      <td>Central African Republic</td>\n",
       "      <td>$800</td>\n",
       "      <td>2,015,000</td>\n",
       "      <td>56.2</td>\n",
       "    </tr>\n",
       "    <tr>\n",
       "      <th>175</th>\n",
       "      <td>Burundi</td>\n",
       "      <td>$700</td>\n",
       "      <td>5,271,000</td>\n",
       "      <td>38.6</td>\n",
       "    </tr>\n",
       "  </tbody>\n",
       "</table>\n",
       "<p>176 rows × 4 columns</p>\n",
       "</div>"
      ],
      "text/plain": [
       "                                  name   value_x     value_y  value\n",
       "0                           Luxembourg  $115,700     333,900   34.2\n",
       "1                            Singapore  $106,000   3,290,000   45.9\n",
       "2                              Ireland  $102,500   2,518,000   30.6\n",
       "3                                Qatar   $92,900   1,977,000   41.1\n",
       "4                          Switzerland   $71,000   4,963,000   32.7\n",
       "..                                 ...       ...         ...    ...\n",
       "171                         Mozambique    $1,200  14,137,000   54.0\n",
       "172                              Niger    $1,200   9,411,000   34.3\n",
       "173  Congo, Democratic Republic of the    $1,100  33,382,000   42.1\n",
       "174           Central African Republic      $800   2,015,000   56.2\n",
       "175                            Burundi      $700   5,271,000   38.6\n",
       "\n",
       "[176 rows x 4 columns]"
      ]
     },
     "execution_count": 36,
     "metadata": {},
     "output_type": "execute_result"
    }
   ],
   "source": [
    "DFecon"
   ]
  },
  {
   "cell_type": "code",
   "execution_count": 37,
   "id": "f83bf806",
   "metadata": {},
   "outputs": [
    {
     "data": {
      "text/plain": [
       "Index(['Country', 'value_x', 'value_y', 'value'], dtype='object')"
      ]
     },
     "execution_count": 37,
     "metadata": {},
     "output_type": "execute_result"
    }
   ],
   "source": [
    "DFecon.columns.str.replace(pat=\"name\",\n",
    "                           repl=\"Country\", \n",
    "                           regex=True) "
   ]
  },
  {
   "cell_type": "code",
   "execution_count": 38,
   "id": "aeed593f",
   "metadata": {},
   "outputs": [],
   "source": [
    "DFecon.columns=DFecon.columns.str.replace(\"name\",\"Country\",regex=True).to_list()"
   ]
  },
  {
   "cell_type": "code",
   "execution_count": null,
   "id": "9fd46b60",
   "metadata": {},
   "outputs": [],
   "source": [
    "DFecon.columns.str.replace(pat=\"value_x\",\n",
    "                           repl=\"GDP per capita\", \n",
    "                           regex=True)"
   ]
  },
  {
   "cell_type": "code",
   "execution_count": 39,
   "id": "83303f4b",
   "metadata": {},
   "outputs": [],
   "source": [
    "DFecon.columns=DFecon.columns.str.replace(\"value_x\",\"GDP per capita\",regex=True).to_list()"
   ]
  },
  {
   "cell_type": "code",
   "execution_count": null,
   "id": "349c4f20",
   "metadata": {},
   "outputs": [],
   "source": [
    "DFecon.columns.str.replace(pat=\"value_y\",\n",
    "                           repl=\"Labor Force\", \n",
    "                           regex=True)"
   ]
  },
  {
   "cell_type": "code",
   "execution_count": 40,
   "id": "2709af24",
   "metadata": {},
   "outputs": [],
   "source": [
    "DFecon.columns=DFecon.columns.str.replace(\"value_y\",\"Labor Force\",regex=True).to_list()"
   ]
  },
  {
   "cell_type": "code",
   "execution_count": 41,
   "id": "75c955e4",
   "metadata": {},
   "outputs": [],
   "source": [
    "DFecon.columns=DFecon.columns.str.replace(\"value\",\"Gini Index\",regex=True).to_list()"
   ]
  },
  {
   "cell_type": "code",
   "execution_count": 57,
   "id": "864c590b",
   "metadata": {},
   "outputs": [
    {
     "name": "stdout",
     "output_type": "stream",
     "text": [
      "<class 'pandas.core.frame.DataFrame'>\n",
      "Int64Index: 176 entries, 0 to 175\n",
      "Data columns (total 4 columns):\n",
      " #   Column          Non-Null Count  Dtype  \n",
      "---  ------          --------------  -----  \n",
      " 0   Country         176 non-null    object \n",
      " 1   GDP per capita  176 non-null    object \n",
      " 2   Labor Force     176 non-null    object \n",
      " 3   Gini Index      176 non-null    float64\n",
      "dtypes: float64(1), object(3)\n",
      "memory usage: 6.9+ KB\n"
     ]
    }
   ],
   "source": [
    "DFecon.info()"
   ]
  },
  {
   "cell_type": "code",
   "execution_count": null,
   "id": "4b180be4",
   "metadata": {},
   "outputs": [],
   "source": [
    "#next step: convert object to numerical value"
   ]
  },
  {
   "cell_type": "code",
   "execution_count": 60,
   "id": "6145289c",
   "metadata": {},
   "outputs": [],
   "source": [
    "DFecon['GDP per capita'] = pd.to_numeric(DFecon['GDP per capita'], errors='coerce')"
   ]
  },
  {
   "cell_type": "code",
   "execution_count": 61,
   "id": "18e9eb26",
   "metadata": {},
   "outputs": [],
   "source": [
    "DFecon['Labor Force'] = pd.to_numeric(DFecon['Labor Force'], errors='coerce')"
   ]
  },
  {
   "cell_type": "code",
   "execution_count": 63,
   "id": "a03fd890",
   "metadata": {},
   "outputs": [],
   "source": [
    "DFecon.to_csv(\"Economy.csv\",index=False)"
   ]
  },
  {
   "cell_type": "code",
   "execution_count": 64,
   "id": "b5835d49",
   "metadata": {},
   "outputs": [],
   "source": [
    "Economycsv=pd.read_csv('Economy.csv')"
   ]
  },
  {
   "cell_type": "code",
   "execution_count": 65,
   "id": "17196dd8",
   "metadata": {},
   "outputs": [
    {
     "name": "stdout",
     "output_type": "stream",
     "text": [
      "<class 'pandas.core.frame.DataFrame'>\n",
      "RangeIndex: 176 entries, 0 to 175\n",
      "Data columns (total 4 columns):\n",
      " #   Column          Non-Null Count  Dtype  \n",
      "---  ------          --------------  -----  \n",
      " 0   Country         176 non-null    object \n",
      " 1   GDP per capita  2 non-null      float64\n",
      " 2   Labor Force     0 non-null      float64\n",
      " 3   Gini Index      176 non-null    float64\n",
      "dtypes: float64(3), object(1)\n",
      "memory usage: 5.6+ KB\n"
     ]
    }
   ],
   "source": [
    "Economycsv.info()"
   ]
  },
  {
   "cell_type": "code",
   "execution_count": 66,
   "id": "96110b30",
   "metadata": {},
   "outputs": [],
   "source": [
    "DFair=pd.read_csv(\"https://github.com/Bearnamedjoey/guided1/raw/main/Airports.csv\")"
   ]
  },
  {
   "cell_type": "code",
   "execution_count": 67,
   "id": "3c7fb26b",
   "metadata": {},
   "outputs": [],
   "source": [
    "DFwater=pd.read_csv(\"https://github.com/Bearnamedjoey/guided1/raw/main/Waterways.csv\")"
   ]
  },
  {
   "cell_type": "code",
   "execution_count": 70,
   "id": "f9586d2d",
   "metadata": {},
   "outputs": [],
   "source": [
    "DF1=pd.merge(DFair, DFwater, on='name')"
   ]
  },
  {
   "cell_type": "code",
   "execution_count": 71,
   "id": "6c9d278a",
   "metadata": {},
   "outputs": [],
   "source": [
    "DFrail=pd.read_csv(\"https://github.com/Bearnamedjoey/guided1/raw/main/Railways.csv\")"
   ]
  },
  {
   "cell_type": "code",
   "execution_count": 72,
   "id": "c142136d",
   "metadata": {},
   "outputs": [],
   "source": [
    "DFtrans=pd.merge(DF1, DFrail, on='name')"
   ]
  },
  {
   "cell_type": "code",
   "execution_count": 76,
   "id": "b48bfb28",
   "metadata": {},
   "outputs": [
    {
     "name": "stdout",
     "output_type": "stream",
     "text": [
      "<class 'pandas.core.frame.DataFrame'>\n",
      "Int64Index: 100 entries, 0 to 99\n",
      "Data columns (total 16 columns):\n",
      " #   Column                 Non-Null Count  Dtype \n",
      "---  ------                 --------------  ----- \n",
      " 0   name                   100 non-null    object\n",
      " 1   slug_x                 100 non-null    object\n",
      " 2   value_x                100 non-null    object\n",
      " 3   date_of_information_x  100 non-null    int64 \n",
      " 4   ranking_x              100 non-null    int64 \n",
      " 5   region_x               100 non-null    object\n",
      " 6   slug_y                 100 non-null    object\n",
      " 7   value_y                100 non-null    object\n",
      " 8   date_of_information_y  100 non-null    int64 \n",
      " 9   ranking_y              100 non-null    int64 \n",
      " 10  region_y               100 non-null    object\n",
      " 11  slug                   100 non-null    object\n",
      " 12  value                  100 non-null    object\n",
      " 13  date_of_information    100 non-null    int64 \n",
      " 14  ranking                100 non-null    int64 \n",
      " 15  region                 100 non-null    object\n",
      "dtypes: int64(6), object(10)\n",
      "memory usage: 13.3+ KB\n"
     ]
    }
   ],
   "source": [
    "DFtrans.info()"
   ]
  },
  {
   "cell_type": "code",
   "execution_count": 78,
   "id": "502e9c5e",
   "metadata": {},
   "outputs": [],
   "source": [
    "bye=[1,3,4,5,6,8,9,10,11,13,14,15]\n",
    "DFtrans.drop(columns=DFtrans.columns[bye],inplace=True)"
   ]
  },
  {
   "cell_type": "code",
   "execution_count": 80,
   "id": "5915b0d7",
   "metadata": {},
   "outputs": [
    {
     "data": {
      "text/html": [
       "<div>\n",
       "<style scoped>\n",
       "    .dataframe tbody tr th:only-of-type {\n",
       "        vertical-align: middle;\n",
       "    }\n",
       "\n",
       "    .dataframe tbody tr th {\n",
       "        vertical-align: top;\n",
       "    }\n",
       "\n",
       "    .dataframe thead th {\n",
       "        text-align: right;\n",
       "    }\n",
       "</style>\n",
       "<table border=\"1\" class=\"dataframe\">\n",
       "  <thead>\n",
       "    <tr style=\"text-align: right;\">\n",
       "      <th></th>\n",
       "      <th>name</th>\n",
       "      <th>value_x</th>\n",
       "      <th>value_y</th>\n",
       "      <th>value</th>\n",
       "    </tr>\n",
       "  </thead>\n",
       "  <tbody>\n",
       "    <tr>\n",
       "      <th>0</th>\n",
       "      <td>United States</td>\n",
       "      <td>13,513</td>\n",
       "      <td>41,009</td>\n",
       "      <td>293,564.2</td>\n",
       "    </tr>\n",
       "    <tr>\n",
       "      <th>1</th>\n",
       "      <td>Brazil</td>\n",
       "      <td>4,093</td>\n",
       "      <td>50,000</td>\n",
       "      <td>29,849.9</td>\n",
       "    </tr>\n",
       "    <tr>\n",
       "      <th>2</th>\n",
       "      <td>Mexico</td>\n",
       "      <td>1,714</td>\n",
       "      <td>2,900</td>\n",
       "      <td>23,389.0</td>\n",
       "    </tr>\n",
       "    <tr>\n",
       "      <th>3</th>\n",
       "      <td>Canada</td>\n",
       "      <td>1,467</td>\n",
       "      <td>636</td>\n",
       "      <td>49,422.0</td>\n",
       "    </tr>\n",
       "    <tr>\n",
       "      <th>4</th>\n",
       "      <td>Russia</td>\n",
       "      <td>1,218</td>\n",
       "      <td>102,000</td>\n",
       "      <td>85,494.0</td>\n",
       "    </tr>\n",
       "    <tr>\n",
       "      <th>...</th>\n",
       "      <td>...</td>\n",
       "      <td>...</td>\n",
       "      <td>...</td>\n",
       "      <td>...</td>\n",
       "    </tr>\n",
       "    <tr>\n",
       "      <th>95</th>\n",
       "      <td>Togo</td>\n",
       "      <td>8</td>\n",
       "      <td>50</td>\n",
       "      <td>568.0</td>\n",
       "    </tr>\n",
       "    <tr>\n",
       "      <th>96</th>\n",
       "      <td>Moldova</td>\n",
       "      <td>7</td>\n",
       "      <td>558</td>\n",
       "      <td>1,171.0</td>\n",
       "    </tr>\n",
       "    <tr>\n",
       "      <th>97</th>\n",
       "      <td>Benin</td>\n",
       "      <td>6</td>\n",
       "      <td>150</td>\n",
       "      <td>438.0</td>\n",
       "    </tr>\n",
       "    <tr>\n",
       "      <th>98</th>\n",
       "      <td>Albania</td>\n",
       "      <td>3</td>\n",
       "      <td>41</td>\n",
       "      <td>424.0</td>\n",
       "    </tr>\n",
       "    <tr>\n",
       "      <th>99</th>\n",
       "      <td>Luxembourg</td>\n",
       "      <td>2</td>\n",
       "      <td>37</td>\n",
       "      <td>271.0</td>\n",
       "    </tr>\n",
       "  </tbody>\n",
       "</table>\n",
       "<p>100 rows × 4 columns</p>\n",
       "</div>"
      ],
      "text/plain": [
       "             name value_x  value_y      value\n",
       "0   United States  13,513   41,009  293,564.2\n",
       "1          Brazil   4,093   50,000   29,849.9\n",
       "2          Mexico   1,714    2,900   23,389.0\n",
       "3          Canada   1,467      636   49,422.0\n",
       "4          Russia   1,218  102,000   85,494.0\n",
       "..            ...     ...      ...        ...\n",
       "95           Togo       8       50      568.0\n",
       "96        Moldova       7      558    1,171.0\n",
       "97          Benin       6      150      438.0\n",
       "98        Albania       3       41      424.0\n",
       "99     Luxembourg       2       37      271.0\n",
       "\n",
       "[100 rows x 4 columns]"
      ]
     },
     "execution_count": 80,
     "metadata": {},
     "output_type": "execute_result"
    }
   ],
   "source": [
    "DFtrans"
   ]
  },
  {
   "cell_type": "code",
   "execution_count": 81,
   "id": "5026df01",
   "metadata": {},
   "outputs": [],
   "source": [
    "DFtrans.columns=DFtrans.columns.str.replace(\"name\",\"Country\",regex=True).to_list()"
   ]
  },
  {
   "cell_type": "code",
   "execution_count": 82,
   "id": "97e94fee",
   "metadata": {},
   "outputs": [],
   "source": [
    "DFtrans.columns=DFtrans.columns.str.replace(\"value_x\",\"Airports\",regex=True).to_list()"
   ]
  },
  {
   "cell_type": "code",
   "execution_count": 83,
   "id": "d6b7a312",
   "metadata": {},
   "outputs": [],
   "source": [
    "DFtrans.columns=DFtrans.columns.str.replace(\"value_y\",\"Waterways\",regex=True).to_list()"
   ]
  },
  {
   "cell_type": "code",
   "execution_count": 84,
   "id": "acf886b6",
   "metadata": {},
   "outputs": [],
   "source": [
    "DFtrans.columns=DFtrans.columns.str.replace(\"value\",\"Railways\",regex=True).to_list()"
   ]
  },
  {
   "cell_type": "code",
   "execution_count": 86,
   "id": "248e36f4",
   "metadata": {},
   "outputs": [],
   "source": [
    "DFtrans['Airports'] = pd.to_numeric(DFtrans['Airports'], errors='coerce')"
   ]
  },
  {
   "cell_type": "code",
   "execution_count": 87,
   "id": "6e5c663d",
   "metadata": {},
   "outputs": [],
   "source": [
    "DFtrans['Waterways'] = pd.to_numeric(DFtrans['Waterways'], errors='coerce')"
   ]
  },
  {
   "cell_type": "code",
   "execution_count": 88,
   "id": "f911d762",
   "metadata": {},
   "outputs": [],
   "source": [
    "DFtrans['Railways'] = pd.to_numeric(DFtrans['Railways'], errors='coerce')"
   ]
  },
  {
   "cell_type": "code",
   "execution_count": 89,
   "id": "d051c953",
   "metadata": {
    "scrolled": false
   },
   "outputs": [
    {
     "name": "stdout",
     "output_type": "stream",
     "text": [
      "<class 'pandas.core.frame.DataFrame'>\n",
      "Int64Index: 100 entries, 0 to 99\n",
      "Data columns (total 4 columns):\n",
      " #   Column     Non-Null Count  Dtype  \n",
      "---  ------     --------------  -----  \n",
      " 0   Country    100 non-null    object \n",
      " 1   Airports   95 non-null     float64\n",
      " 2   Waterways  39 non-null     float64\n",
      " 3   Railways   27 non-null     float64\n",
      "dtypes: float64(3), object(1)\n",
      "memory usage: 3.9+ KB\n"
     ]
    }
   ],
   "source": [
    "DFtrans.info()"
   ]
  },
  {
   "cell_type": "code",
   "execution_count": 91,
   "id": "d6c162e3",
   "metadata": {},
   "outputs": [],
   "source": [
    "DFmerged = DFpeople.merge(DFecon, on='Country').merge(DFtrans, on='Country')"
   ]
  },
  {
   "cell_type": "code",
   "execution_count": 92,
   "id": "df10c168",
   "metadata": {},
   "outputs": [
    {
     "data": {
      "text/html": [
       "<div>\n",
       "<style scoped>\n",
       "    .dataframe tbody tr th:only-of-type {\n",
       "        vertical-align: middle;\n",
       "    }\n",
       "\n",
       "    .dataframe tbody tr th {\n",
       "        vertical-align: top;\n",
       "    }\n",
       "\n",
       "    .dataframe thead th {\n",
       "        text-align: right;\n",
       "    }\n",
       "</style>\n",
       "<table border=\"1\" class=\"dataframe\">\n",
       "  <thead>\n",
       "    <tr style=\"text-align: right;\">\n",
       "      <th></th>\n",
       "      <th>Country</th>\n",
       "      <th>Years</th>\n",
       "      <th>liters of pure alcohol</th>\n",
       "      <th>Percent of Obesity</th>\n",
       "      <th>Percent of Tobacco Use</th>\n",
       "      <th>GDP per capita</th>\n",
       "      <th>Labor Force</th>\n",
       "      <th>Gini Index</th>\n",
       "      <th>Airports</th>\n",
       "      <th>Waterways</th>\n",
       "      <th>Railways</th>\n",
       "    </tr>\n",
       "  </thead>\n",
       "  <tbody>\n",
       "    <tr>\n",
       "      <th>0</th>\n",
       "      <td>Japan</td>\n",
       "      <td>48.6</td>\n",
       "      <td>8.36</td>\n",
       "      <td>4.3</td>\n",
       "      <td>20.1</td>\n",
       "      <td>NaN</td>\n",
       "      <td>NaN</td>\n",
       "      <td>32.9</td>\n",
       "      <td>175.0</td>\n",
       "      <td>NaN</td>\n",
       "      <td>NaN</td>\n",
       "    </tr>\n",
       "    <tr>\n",
       "      <th>1</th>\n",
       "      <td>Germany</td>\n",
       "      <td>47.8</td>\n",
       "      <td>10.56</td>\n",
       "      <td>22.3</td>\n",
       "      <td>22.0</td>\n",
       "      <td>NaN</td>\n",
       "      <td>NaN</td>\n",
       "      <td>31.7</td>\n",
       "      <td>539.0</td>\n",
       "      <td>NaN</td>\n",
       "      <td>NaN</td>\n",
       "    </tr>\n",
       "    <tr>\n",
       "      <th>2</th>\n",
       "      <td>Italy</td>\n",
       "      <td>46.5</td>\n",
       "      <td>7.65</td>\n",
       "      <td>19.9</td>\n",
       "      <td>23.1</td>\n",
       "      <td>NaN</td>\n",
       "      <td>NaN</td>\n",
       "      <td>35.2</td>\n",
       "      <td>129.0</td>\n",
       "      <td>NaN</td>\n",
       "      <td>NaN</td>\n",
       "    </tr>\n",
       "    <tr>\n",
       "      <th>3</th>\n",
       "      <td>Greece</td>\n",
       "      <td>45.3</td>\n",
       "      <td>6.33</td>\n",
       "      <td>24.9</td>\n",
       "      <td>33.5</td>\n",
       "      <td>NaN</td>\n",
       "      <td>NaN</td>\n",
       "      <td>33.1</td>\n",
       "      <td>77.0</td>\n",
       "      <td>6.0</td>\n",
       "      <td>NaN</td>\n",
       "    </tr>\n",
       "    <tr>\n",
       "      <th>4</th>\n",
       "      <td>Slovenia</td>\n",
       "      <td>44.9</td>\n",
       "      <td>11.05</td>\n",
       "      <td>20.2</td>\n",
       "      <td>22.0</td>\n",
       "      <td>NaN</td>\n",
       "      <td>NaN</td>\n",
       "      <td>24.2</td>\n",
       "      <td>16.0</td>\n",
       "      <td>710.0</td>\n",
       "      <td>NaN</td>\n",
       "    </tr>\n",
       "    <tr>\n",
       "      <th>...</th>\n",
       "      <td>...</td>\n",
       "      <td>...</td>\n",
       "      <td>...</td>\n",
       "      <td>...</td>\n",
       "      <td>...</td>\n",
       "      <td>...</td>\n",
       "      <td>...</td>\n",
       "      <td>...</td>\n",
       "      <td>...</td>\n",
       "      <td>...</td>\n",
       "      <td>...</td>\n",
       "    </tr>\n",
       "    <tr>\n",
       "      <th>85</th>\n",
       "      <td>Zambia</td>\n",
       "      <td>16.9</td>\n",
       "      <td>3.82</td>\n",
       "      <td>8.1</td>\n",
       "      <td>14.4</td>\n",
       "      <td>NaN</td>\n",
       "      <td>NaN</td>\n",
       "      <td>57.1</td>\n",
       "      <td>88.0</td>\n",
       "      <td>NaN</td>\n",
       "      <td>NaN</td>\n",
       "    </tr>\n",
       "    <tr>\n",
       "      <th>86</th>\n",
       "      <td>Malawi</td>\n",
       "      <td>16.8</td>\n",
       "      <td>2.04</td>\n",
       "      <td>5.8</td>\n",
       "      <td>10.8</td>\n",
       "      <td>NaN</td>\n",
       "      <td>NaN</td>\n",
       "      <td>38.5</td>\n",
       "      <td>32.0</td>\n",
       "      <td>700.0</td>\n",
       "      <td>767.0</td>\n",
       "    </tr>\n",
       "    <tr>\n",
       "      <th>87</th>\n",
       "      <td>Congo, Democratic Republic of the</td>\n",
       "      <td>16.7</td>\n",
       "      <td>0.56</td>\n",
       "      <td>6.7</td>\n",
       "      <td>12.8</td>\n",
       "      <td>NaN</td>\n",
       "      <td>NaN</td>\n",
       "      <td>42.1</td>\n",
       "      <td>198.0</td>\n",
       "      <td>NaN</td>\n",
       "      <td>NaN</td>\n",
       "    </tr>\n",
       "    <tr>\n",
       "      <th>88</th>\n",
       "      <td>Mali</td>\n",
       "      <td>16.0</td>\n",
       "      <td>0.60</td>\n",
       "      <td>8.6</td>\n",
       "      <td>8.3</td>\n",
       "      <td>NaN</td>\n",
       "      <td>NaN</td>\n",
       "      <td>36.1</td>\n",
       "      <td>25.0</td>\n",
       "      <td>NaN</td>\n",
       "      <td>593.0</td>\n",
       "    </tr>\n",
       "    <tr>\n",
       "      <th>89</th>\n",
       "      <td>Uganda</td>\n",
       "      <td>15.7</td>\n",
       "      <td>6.82</td>\n",
       "      <td>5.3</td>\n",
       "      <td>8.4</td>\n",
       "      <td>NaN</td>\n",
       "      <td>NaN</td>\n",
       "      <td>42.8</td>\n",
       "      <td>47.0</td>\n",
       "      <td>907.0</td>\n",
       "      <td>NaN</td>\n",
       "    </tr>\n",
       "  </tbody>\n",
       "</table>\n",
       "<p>90 rows × 11 columns</p>\n",
       "</div>"
      ],
      "text/plain": [
       "                              Country  Years  liters of pure alcohol  \\\n",
       "0                               Japan   48.6                    8.36   \n",
       "1                             Germany   47.8                   10.56   \n",
       "2                               Italy   46.5                    7.65   \n",
       "3                              Greece   45.3                    6.33   \n",
       "4                            Slovenia   44.9                   11.05   \n",
       "..                                ...    ...                     ...   \n",
       "85                             Zambia   16.9                    3.82   \n",
       "86                             Malawi   16.8                    2.04   \n",
       "87  Congo, Democratic Republic of the   16.7                    0.56   \n",
       "88                               Mali   16.0                    0.60   \n",
       "89                             Uganda   15.7                    6.82   \n",
       "\n",
       "    Percent of Obesity  Percent of Tobacco Use  GDP per capita  Labor Force  \\\n",
       "0                  4.3                    20.1             NaN          NaN   \n",
       "1                 22.3                    22.0             NaN          NaN   \n",
       "2                 19.9                    23.1             NaN          NaN   \n",
       "3                 24.9                    33.5             NaN          NaN   \n",
       "4                 20.2                    22.0             NaN          NaN   \n",
       "..                 ...                     ...             ...          ...   \n",
       "85                 8.1                    14.4             NaN          NaN   \n",
       "86                 5.8                    10.8             NaN          NaN   \n",
       "87                 6.7                    12.8             NaN          NaN   \n",
       "88                 8.6                     8.3             NaN          NaN   \n",
       "89                 5.3                     8.4             NaN          NaN   \n",
       "\n",
       "    Gini Index  Airports  Waterways  Railways  \n",
       "0         32.9     175.0        NaN       NaN  \n",
       "1         31.7     539.0        NaN       NaN  \n",
       "2         35.2     129.0        NaN       NaN  \n",
       "3         33.1      77.0        6.0       NaN  \n",
       "4         24.2      16.0      710.0       NaN  \n",
       "..         ...       ...        ...       ...  \n",
       "85        57.1      88.0        NaN       NaN  \n",
       "86        38.5      32.0      700.0     767.0  \n",
       "87        42.1     198.0        NaN       NaN  \n",
       "88        36.1      25.0        NaN     593.0  \n",
       "89        42.8      47.0      907.0       NaN  \n",
       "\n",
       "[90 rows x 11 columns]"
      ]
     },
     "execution_count": 92,
     "metadata": {},
     "output_type": "execute_result"
    }
   ],
   "source": [
    "DFmerged"
   ]
  },
  {
   "cell_type": "code",
   "execution_count": 93,
   "id": "9969be10",
   "metadata": {},
   "outputs": [
    {
     "ename": "FileNotFoundError",
     "evalue": "[Errno 2] No such file or directory: 'merged.csv'",
     "output_type": "error",
     "traceback": [
      "\u001b[0;31m---------------------------------------------------------------------------\u001b[0m",
      "\u001b[0;31mFileNotFoundError\u001b[0m                         Traceback (most recent call last)",
      "Cell \u001b[0;32mIn[93], line 1\u001b[0m\n\u001b[0;32m----> 1\u001b[0m Mergedcsv\u001b[38;5;241m=\u001b[39m\u001b[43mpd\u001b[49m\u001b[38;5;241;43m.\u001b[39;49m\u001b[43mread_csv\u001b[49m\u001b[43m(\u001b[49m\u001b[38;5;124;43m'\u001b[39;49m\u001b[38;5;124;43mmerged.csv\u001b[39;49m\u001b[38;5;124;43m'\u001b[39;49m\u001b[43m)\u001b[49m\n",
      "File \u001b[0;32m~/opt/anaconda3/envs/ComputationalThinking/lib/python3.9/site-packages/pandas/util/_decorators.py:211\u001b[0m, in \u001b[0;36mdeprecate_kwarg.<locals>._deprecate_kwarg.<locals>.wrapper\u001b[0;34m(*args, **kwargs)\u001b[0m\n\u001b[1;32m    209\u001b[0m     \u001b[38;5;28;01melse\u001b[39;00m:\n\u001b[1;32m    210\u001b[0m         kwargs[new_arg_name] \u001b[38;5;241m=\u001b[39m new_arg_value\n\u001b[0;32m--> 211\u001b[0m \u001b[38;5;28;01mreturn\u001b[39;00m \u001b[43mfunc\u001b[49m\u001b[43m(\u001b[49m\u001b[38;5;241;43m*\u001b[39;49m\u001b[43margs\u001b[49m\u001b[43m,\u001b[49m\u001b[43m \u001b[49m\u001b[38;5;241;43m*\u001b[39;49m\u001b[38;5;241;43m*\u001b[39;49m\u001b[43mkwargs\u001b[49m\u001b[43m)\u001b[49m\n",
      "File \u001b[0;32m~/opt/anaconda3/envs/ComputationalThinking/lib/python3.9/site-packages/pandas/util/_decorators.py:331\u001b[0m, in \u001b[0;36mdeprecate_nonkeyword_arguments.<locals>.decorate.<locals>.wrapper\u001b[0;34m(*args, **kwargs)\u001b[0m\n\u001b[1;32m    325\u001b[0m \u001b[38;5;28;01mif\u001b[39;00m \u001b[38;5;28mlen\u001b[39m(args) \u001b[38;5;241m>\u001b[39m num_allow_args:\n\u001b[1;32m    326\u001b[0m     warnings\u001b[38;5;241m.\u001b[39mwarn(\n\u001b[1;32m    327\u001b[0m         msg\u001b[38;5;241m.\u001b[39mformat(arguments\u001b[38;5;241m=\u001b[39m_format_argument_list(allow_args)),\n\u001b[1;32m    328\u001b[0m         \u001b[38;5;167;01mFutureWarning\u001b[39;00m,\n\u001b[1;32m    329\u001b[0m         stacklevel\u001b[38;5;241m=\u001b[39mfind_stack_level(),\n\u001b[1;32m    330\u001b[0m     )\n\u001b[0;32m--> 331\u001b[0m \u001b[38;5;28;01mreturn\u001b[39;00m \u001b[43mfunc\u001b[49m\u001b[43m(\u001b[49m\u001b[38;5;241;43m*\u001b[39;49m\u001b[43margs\u001b[49m\u001b[43m,\u001b[49m\u001b[43m \u001b[49m\u001b[38;5;241;43m*\u001b[39;49m\u001b[38;5;241;43m*\u001b[39;49m\u001b[43mkwargs\u001b[49m\u001b[43m)\u001b[49m\n",
      "File \u001b[0;32m~/opt/anaconda3/envs/ComputationalThinking/lib/python3.9/site-packages/pandas/io/parsers/readers.py:950\u001b[0m, in \u001b[0;36mread_csv\u001b[0;34m(filepath_or_buffer, sep, delimiter, header, names, index_col, usecols, squeeze, prefix, mangle_dupe_cols, dtype, engine, converters, true_values, false_values, skipinitialspace, skiprows, skipfooter, nrows, na_values, keep_default_na, na_filter, verbose, skip_blank_lines, parse_dates, infer_datetime_format, keep_date_col, date_parser, dayfirst, cache_dates, iterator, chunksize, compression, thousands, decimal, lineterminator, quotechar, quoting, doublequote, escapechar, comment, encoding, encoding_errors, dialect, error_bad_lines, warn_bad_lines, on_bad_lines, delim_whitespace, low_memory, memory_map, float_precision, storage_options)\u001b[0m\n\u001b[1;32m    935\u001b[0m kwds_defaults \u001b[38;5;241m=\u001b[39m _refine_defaults_read(\n\u001b[1;32m    936\u001b[0m     dialect,\n\u001b[1;32m    937\u001b[0m     delimiter,\n\u001b[0;32m   (...)\u001b[0m\n\u001b[1;32m    946\u001b[0m     defaults\u001b[38;5;241m=\u001b[39m{\u001b[38;5;124m\"\u001b[39m\u001b[38;5;124mdelimiter\u001b[39m\u001b[38;5;124m\"\u001b[39m: \u001b[38;5;124m\"\u001b[39m\u001b[38;5;124m,\u001b[39m\u001b[38;5;124m\"\u001b[39m},\n\u001b[1;32m    947\u001b[0m )\n\u001b[1;32m    948\u001b[0m kwds\u001b[38;5;241m.\u001b[39mupdate(kwds_defaults)\n\u001b[0;32m--> 950\u001b[0m \u001b[38;5;28;01mreturn\u001b[39;00m \u001b[43m_read\u001b[49m\u001b[43m(\u001b[49m\u001b[43mfilepath_or_buffer\u001b[49m\u001b[43m,\u001b[49m\u001b[43m \u001b[49m\u001b[43mkwds\u001b[49m\u001b[43m)\u001b[49m\n",
      "File \u001b[0;32m~/opt/anaconda3/envs/ComputationalThinking/lib/python3.9/site-packages/pandas/io/parsers/readers.py:605\u001b[0m, in \u001b[0;36m_read\u001b[0;34m(filepath_or_buffer, kwds)\u001b[0m\n\u001b[1;32m    602\u001b[0m _validate_names(kwds\u001b[38;5;241m.\u001b[39mget(\u001b[38;5;124m\"\u001b[39m\u001b[38;5;124mnames\u001b[39m\u001b[38;5;124m\"\u001b[39m, \u001b[38;5;28;01mNone\u001b[39;00m))\n\u001b[1;32m    604\u001b[0m \u001b[38;5;66;03m# Create the parser.\u001b[39;00m\n\u001b[0;32m--> 605\u001b[0m parser \u001b[38;5;241m=\u001b[39m \u001b[43mTextFileReader\u001b[49m\u001b[43m(\u001b[49m\u001b[43mfilepath_or_buffer\u001b[49m\u001b[43m,\u001b[49m\u001b[43m \u001b[49m\u001b[38;5;241;43m*\u001b[39;49m\u001b[38;5;241;43m*\u001b[39;49m\u001b[43mkwds\u001b[49m\u001b[43m)\u001b[49m\n\u001b[1;32m    607\u001b[0m \u001b[38;5;28;01mif\u001b[39;00m chunksize \u001b[38;5;129;01mor\u001b[39;00m iterator:\n\u001b[1;32m    608\u001b[0m     \u001b[38;5;28;01mreturn\u001b[39;00m parser\n",
      "File \u001b[0;32m~/opt/anaconda3/envs/ComputationalThinking/lib/python3.9/site-packages/pandas/io/parsers/readers.py:1442\u001b[0m, in \u001b[0;36mTextFileReader.__init__\u001b[0;34m(self, f, engine, **kwds)\u001b[0m\n\u001b[1;32m   1439\u001b[0m     \u001b[38;5;28mself\u001b[39m\u001b[38;5;241m.\u001b[39moptions[\u001b[38;5;124m\"\u001b[39m\u001b[38;5;124mhas_index_names\u001b[39m\u001b[38;5;124m\"\u001b[39m] \u001b[38;5;241m=\u001b[39m kwds[\u001b[38;5;124m\"\u001b[39m\u001b[38;5;124mhas_index_names\u001b[39m\u001b[38;5;124m\"\u001b[39m]\n\u001b[1;32m   1441\u001b[0m \u001b[38;5;28mself\u001b[39m\u001b[38;5;241m.\u001b[39mhandles: IOHandles \u001b[38;5;241m|\u001b[39m \u001b[38;5;28;01mNone\u001b[39;00m \u001b[38;5;241m=\u001b[39m \u001b[38;5;28;01mNone\u001b[39;00m\n\u001b[0;32m-> 1442\u001b[0m \u001b[38;5;28mself\u001b[39m\u001b[38;5;241m.\u001b[39m_engine \u001b[38;5;241m=\u001b[39m \u001b[38;5;28;43mself\u001b[39;49m\u001b[38;5;241;43m.\u001b[39;49m\u001b[43m_make_engine\u001b[49m\u001b[43m(\u001b[49m\u001b[43mf\u001b[49m\u001b[43m,\u001b[49m\u001b[43m \u001b[49m\u001b[38;5;28;43mself\u001b[39;49m\u001b[38;5;241;43m.\u001b[39;49m\u001b[43mengine\u001b[49m\u001b[43m)\u001b[49m\n",
      "File \u001b[0;32m~/opt/anaconda3/envs/ComputationalThinking/lib/python3.9/site-packages/pandas/io/parsers/readers.py:1735\u001b[0m, in \u001b[0;36mTextFileReader._make_engine\u001b[0;34m(self, f, engine)\u001b[0m\n\u001b[1;32m   1733\u001b[0m     \u001b[38;5;28;01mif\u001b[39;00m \u001b[38;5;124m\"\u001b[39m\u001b[38;5;124mb\u001b[39m\u001b[38;5;124m\"\u001b[39m \u001b[38;5;129;01mnot\u001b[39;00m \u001b[38;5;129;01min\u001b[39;00m mode:\n\u001b[1;32m   1734\u001b[0m         mode \u001b[38;5;241m+\u001b[39m\u001b[38;5;241m=\u001b[39m \u001b[38;5;124m\"\u001b[39m\u001b[38;5;124mb\u001b[39m\u001b[38;5;124m\"\u001b[39m\n\u001b[0;32m-> 1735\u001b[0m \u001b[38;5;28mself\u001b[39m\u001b[38;5;241m.\u001b[39mhandles \u001b[38;5;241m=\u001b[39m \u001b[43mget_handle\u001b[49m\u001b[43m(\u001b[49m\n\u001b[1;32m   1736\u001b[0m \u001b[43m    \u001b[49m\u001b[43mf\u001b[49m\u001b[43m,\u001b[49m\n\u001b[1;32m   1737\u001b[0m \u001b[43m    \u001b[49m\u001b[43mmode\u001b[49m\u001b[43m,\u001b[49m\n\u001b[1;32m   1738\u001b[0m \u001b[43m    \u001b[49m\u001b[43mencoding\u001b[49m\u001b[38;5;241;43m=\u001b[39;49m\u001b[38;5;28;43mself\u001b[39;49m\u001b[38;5;241;43m.\u001b[39;49m\u001b[43moptions\u001b[49m\u001b[38;5;241;43m.\u001b[39;49m\u001b[43mget\u001b[49m\u001b[43m(\u001b[49m\u001b[38;5;124;43m\"\u001b[39;49m\u001b[38;5;124;43mencoding\u001b[39;49m\u001b[38;5;124;43m\"\u001b[39;49m\u001b[43m,\u001b[49m\u001b[43m \u001b[49m\u001b[38;5;28;43;01mNone\u001b[39;49;00m\u001b[43m)\u001b[49m\u001b[43m,\u001b[49m\n\u001b[1;32m   1739\u001b[0m \u001b[43m    \u001b[49m\u001b[43mcompression\u001b[49m\u001b[38;5;241;43m=\u001b[39;49m\u001b[38;5;28;43mself\u001b[39;49m\u001b[38;5;241;43m.\u001b[39;49m\u001b[43moptions\u001b[49m\u001b[38;5;241;43m.\u001b[39;49m\u001b[43mget\u001b[49m\u001b[43m(\u001b[49m\u001b[38;5;124;43m\"\u001b[39;49m\u001b[38;5;124;43mcompression\u001b[39;49m\u001b[38;5;124;43m\"\u001b[39;49m\u001b[43m,\u001b[49m\u001b[43m \u001b[49m\u001b[38;5;28;43;01mNone\u001b[39;49;00m\u001b[43m)\u001b[49m\u001b[43m,\u001b[49m\n\u001b[1;32m   1740\u001b[0m \u001b[43m    \u001b[49m\u001b[43mmemory_map\u001b[49m\u001b[38;5;241;43m=\u001b[39;49m\u001b[38;5;28;43mself\u001b[39;49m\u001b[38;5;241;43m.\u001b[39;49m\u001b[43moptions\u001b[49m\u001b[38;5;241;43m.\u001b[39;49m\u001b[43mget\u001b[49m\u001b[43m(\u001b[49m\u001b[38;5;124;43m\"\u001b[39;49m\u001b[38;5;124;43mmemory_map\u001b[39;49m\u001b[38;5;124;43m\"\u001b[39;49m\u001b[43m,\u001b[49m\u001b[43m \u001b[49m\u001b[38;5;28;43;01mFalse\u001b[39;49;00m\u001b[43m)\u001b[49m\u001b[43m,\u001b[49m\n\u001b[1;32m   1741\u001b[0m \u001b[43m    \u001b[49m\u001b[43mis_text\u001b[49m\u001b[38;5;241;43m=\u001b[39;49m\u001b[43mis_text\u001b[49m\u001b[43m,\u001b[49m\n\u001b[1;32m   1742\u001b[0m \u001b[43m    \u001b[49m\u001b[43merrors\u001b[49m\u001b[38;5;241;43m=\u001b[39;49m\u001b[38;5;28;43mself\u001b[39;49m\u001b[38;5;241;43m.\u001b[39;49m\u001b[43moptions\u001b[49m\u001b[38;5;241;43m.\u001b[39;49m\u001b[43mget\u001b[49m\u001b[43m(\u001b[49m\u001b[38;5;124;43m\"\u001b[39;49m\u001b[38;5;124;43mencoding_errors\u001b[39;49m\u001b[38;5;124;43m\"\u001b[39;49m\u001b[43m,\u001b[49m\u001b[43m \u001b[49m\u001b[38;5;124;43m\"\u001b[39;49m\u001b[38;5;124;43mstrict\u001b[39;49m\u001b[38;5;124;43m\"\u001b[39;49m\u001b[43m)\u001b[49m\u001b[43m,\u001b[49m\n\u001b[1;32m   1743\u001b[0m \u001b[43m    \u001b[49m\u001b[43mstorage_options\u001b[49m\u001b[38;5;241;43m=\u001b[39;49m\u001b[38;5;28;43mself\u001b[39;49m\u001b[38;5;241;43m.\u001b[39;49m\u001b[43moptions\u001b[49m\u001b[38;5;241;43m.\u001b[39;49m\u001b[43mget\u001b[49m\u001b[43m(\u001b[49m\u001b[38;5;124;43m\"\u001b[39;49m\u001b[38;5;124;43mstorage_options\u001b[39;49m\u001b[38;5;124;43m\"\u001b[39;49m\u001b[43m,\u001b[49m\u001b[43m \u001b[49m\u001b[38;5;28;43;01mNone\u001b[39;49;00m\u001b[43m)\u001b[49m\u001b[43m,\u001b[49m\n\u001b[1;32m   1744\u001b[0m \u001b[43m\u001b[49m\u001b[43m)\u001b[49m\n\u001b[1;32m   1745\u001b[0m \u001b[38;5;28;01massert\u001b[39;00m \u001b[38;5;28mself\u001b[39m\u001b[38;5;241m.\u001b[39mhandles \u001b[38;5;129;01mis\u001b[39;00m \u001b[38;5;129;01mnot\u001b[39;00m \u001b[38;5;28;01mNone\u001b[39;00m\n\u001b[1;32m   1746\u001b[0m f \u001b[38;5;241m=\u001b[39m \u001b[38;5;28mself\u001b[39m\u001b[38;5;241m.\u001b[39mhandles\u001b[38;5;241m.\u001b[39mhandle\n",
      "File \u001b[0;32m~/opt/anaconda3/envs/ComputationalThinking/lib/python3.9/site-packages/pandas/io/common.py:856\u001b[0m, in \u001b[0;36mget_handle\u001b[0;34m(path_or_buf, mode, encoding, compression, memory_map, is_text, errors, storage_options)\u001b[0m\n\u001b[1;32m    851\u001b[0m \u001b[38;5;28;01melif\u001b[39;00m \u001b[38;5;28misinstance\u001b[39m(handle, \u001b[38;5;28mstr\u001b[39m):\n\u001b[1;32m    852\u001b[0m     \u001b[38;5;66;03m# Check whether the filename is to be opened in binary mode.\u001b[39;00m\n\u001b[1;32m    853\u001b[0m     \u001b[38;5;66;03m# Binary mode does not support 'encoding' and 'newline'.\u001b[39;00m\n\u001b[1;32m    854\u001b[0m     \u001b[38;5;28;01mif\u001b[39;00m ioargs\u001b[38;5;241m.\u001b[39mencoding \u001b[38;5;129;01mand\u001b[39;00m \u001b[38;5;124m\"\u001b[39m\u001b[38;5;124mb\u001b[39m\u001b[38;5;124m\"\u001b[39m \u001b[38;5;129;01mnot\u001b[39;00m \u001b[38;5;129;01min\u001b[39;00m ioargs\u001b[38;5;241m.\u001b[39mmode:\n\u001b[1;32m    855\u001b[0m         \u001b[38;5;66;03m# Encoding\u001b[39;00m\n\u001b[0;32m--> 856\u001b[0m         handle \u001b[38;5;241m=\u001b[39m \u001b[38;5;28;43mopen\u001b[39;49m\u001b[43m(\u001b[49m\n\u001b[1;32m    857\u001b[0m \u001b[43m            \u001b[49m\u001b[43mhandle\u001b[49m\u001b[43m,\u001b[49m\n\u001b[1;32m    858\u001b[0m \u001b[43m            \u001b[49m\u001b[43mioargs\u001b[49m\u001b[38;5;241;43m.\u001b[39;49m\u001b[43mmode\u001b[49m\u001b[43m,\u001b[49m\n\u001b[1;32m    859\u001b[0m \u001b[43m            \u001b[49m\u001b[43mencoding\u001b[49m\u001b[38;5;241;43m=\u001b[39;49m\u001b[43mioargs\u001b[49m\u001b[38;5;241;43m.\u001b[39;49m\u001b[43mencoding\u001b[49m\u001b[43m,\u001b[49m\n\u001b[1;32m    860\u001b[0m \u001b[43m            \u001b[49m\u001b[43merrors\u001b[49m\u001b[38;5;241;43m=\u001b[39;49m\u001b[43merrors\u001b[49m\u001b[43m,\u001b[49m\n\u001b[1;32m    861\u001b[0m \u001b[43m            \u001b[49m\u001b[43mnewline\u001b[49m\u001b[38;5;241;43m=\u001b[39;49m\u001b[38;5;124;43m\"\u001b[39;49m\u001b[38;5;124;43m\"\u001b[39;49m\u001b[43m,\u001b[49m\n\u001b[1;32m    862\u001b[0m \u001b[43m        \u001b[49m\u001b[43m)\u001b[49m\n\u001b[1;32m    863\u001b[0m     \u001b[38;5;28;01melse\u001b[39;00m:\n\u001b[1;32m    864\u001b[0m         \u001b[38;5;66;03m# Binary mode\u001b[39;00m\n\u001b[1;32m    865\u001b[0m         handle \u001b[38;5;241m=\u001b[39m \u001b[38;5;28mopen\u001b[39m(handle, ioargs\u001b[38;5;241m.\u001b[39mmode)\n",
      "\u001b[0;31mFileNotFoundError\u001b[0m: [Errno 2] No such file or directory: 'merged.csv'"
     ]
    }
   ],
   "source": []
  },
  {
   "cell_type": "code",
   "execution_count": 94,
   "id": "36a19847",
   "metadata": {},
   "outputs": [],
   "source": [
    "DFmerged.to_csv(\"Merged.csv\",index=False)"
   ]
  },
  {
   "cell_type": "code",
   "execution_count": 95,
   "id": "63f08213",
   "metadata": {},
   "outputs": [],
   "source": [
    "Mergedcsv=pd.read_csv('Merged.csv')"
   ]
  },
  {
   "cell_type": "code",
   "execution_count": 96,
   "id": "e7f013f9",
   "metadata": {},
   "outputs": [
    {
     "name": "stdout",
     "output_type": "stream",
     "text": [
      "<class 'pandas.core.frame.DataFrame'>\n",
      "RangeIndex: 90 entries, 0 to 89\n",
      "Data columns (total 11 columns):\n",
      " #   Column                  Non-Null Count  Dtype  \n",
      "---  ------                  --------------  -----  \n",
      " 0   Country                 90 non-null     object \n",
      " 1   Years                   90 non-null     float64\n",
      " 2   liters of pure alcohol  90 non-null     float64\n",
      " 3   Percent of Obesity      90 non-null     float64\n",
      " 4   Percent of Tobacco Use  90 non-null     float64\n",
      " 5   GDP per capita          0 non-null      float64\n",
      " 6   Labor Force             0 non-null      float64\n",
      " 7   Gini Index              90 non-null     float64\n",
      " 8   Airports                85 non-null     float64\n",
      " 9   Waterways               35 non-null     float64\n",
      " 10  Railways                23 non-null     float64\n",
      "dtypes: float64(10), object(1)\n",
      "memory usage: 7.9+ KB\n"
     ]
    }
   ],
   "source": [
    "Mergedcsv.info()"
   ]
  },
  {
   "cell_type": "code",
   "execution_count": null,
   "id": "2bc3af6f",
   "metadata": {},
   "outputs": [],
   "source": []
  }
 ],
 "metadata": {
  "kernelspec": {
   "display_name": "Python 3 (ipykernel)",
   "language": "python",
   "name": "python3"
  },
  "language_info": {
   "codemirror_mode": {
    "name": "ipython",
    "version": 3
   },
   "file_extension": ".py",
   "mimetype": "text/x-python",
   "name": "python",
   "nbconvert_exporter": "python",
   "pygments_lexer": "ipython3",
   "version": "3.9.15"
  }
 },
 "nbformat": 4,
 "nbformat_minor": 5
}
