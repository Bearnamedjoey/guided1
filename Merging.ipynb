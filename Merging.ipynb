{
 "cells": [
  {
   "cell_type": "code",
   "execution_count": 2,
   "id": "afb964df",
   "metadata": {},
   "outputs": [],
   "source": [
    "import pandas as pd\n",
    "\n",
    "DFage=pd.read_csv(\"https://github.com/Bearnamedjoey/guided1/raw/main/Medianage.csv\")\n",
    "DFalc=pd.read_csv(\"https://github.com/Bearnamedjoey/guided1/raw/main/Alcohol.csv\")"
   ]
  },
  {
   "cell_type": "code",
   "execution_count": 3,
   "id": "fda5957e",
   "metadata": {},
   "outputs": [],
   "source": [
    "DF1=pd.merge(DFage, DFalc, on='Country')"
   ]
  },
  {
   "cell_type": "code",
   "execution_count": 4,
   "id": "cd0ae889",
   "metadata": {},
   "outputs": [
    {
     "name": "stdout",
     "output_type": "stream",
     "text": [
      "<class 'pandas.core.frame.DataFrame'>\n",
      "Int64Index: 188 entries, 0 to 187\n",
      "Data columns (total 5 columns):\n",
      " #   Column                  Non-Null Count  Dtype  \n",
      "---  ------                  --------------  -----  \n",
      " 0   Rank_x                  188 non-null    int64  \n",
      " 1   Country                 188 non-null    object \n",
      " 2   Years                   188 non-null    float64\n",
      " 3   Rank_y                  188 non-null    int64  \n",
      " 4   liters of pure alcohol  188 non-null    float64\n",
      "dtypes: float64(2), int64(2), object(1)\n",
      "memory usage: 8.8+ KB\n"
     ]
    }
   ],
   "source": [
    "DF1.info()"
   ]
  },
  {
   "cell_type": "code",
   "execution_count": 5,
   "id": "9cf18872",
   "metadata": {},
   "outputs": [],
   "source": [
    "DFobe=pd.read_csv(\"https://github.com/Bearnamedjoey/guided1/raw/main/obesity.csv\")\n",
    "DFtbc=pd.read_csv(\"https://github.com/Bearnamedjoey/guided1/raw/main/Tobacco.csv\")"
   ]
  },
  {
   "cell_type": "code",
   "execution_count": 6,
   "id": "1b86ed75",
   "metadata": {},
   "outputs": [],
   "source": [
    "DF2=pd.merge(DFobe, DFtbc, on='Country')"
   ]
  },
  {
   "cell_type": "code",
   "execution_count": 7,
   "id": "5aea64a2",
   "metadata": {},
   "outputs": [
    {
     "name": "stdout",
     "output_type": "stream",
     "text": [
      "<class 'pandas.core.frame.DataFrame'>\n",
      "Int64Index: 164 entries, 0 to 163\n",
      "Data columns (total 5 columns):\n",
      " #   Column                  Non-Null Count  Dtype  \n",
      "---  ------                  --------------  -----  \n",
      " 0   Rank_x                  164 non-null    int64  \n",
      " 1   Country                 164 non-null    object \n",
      " 2   Percent of Obesity      164 non-null    float64\n",
      " 3   Rank_y                  164 non-null    int64  \n",
      " 4   Percent of Tobacco Use  164 non-null    float64\n",
      "dtypes: float64(2), int64(2), object(1)\n",
      "memory usage: 7.7+ KB\n"
     ]
    }
   ],
   "source": [
    "DF2.info()"
   ]
  },
  {
   "cell_type": "code",
   "execution_count": 8,
   "id": "ee209d33",
   "metadata": {},
   "outputs": [],
   "source": [
    "DFpeople=pd.merge(DF1, DF2, on='Country')"
   ]
  },
  {
   "cell_type": "code",
   "execution_count": 9,
   "id": "de3e37b6",
   "metadata": {},
   "outputs": [
    {
     "name": "stdout",
     "output_type": "stream",
     "text": [
      "<class 'pandas.core.frame.DataFrame'>\n",
      "Int64Index: 162 entries, 0 to 161\n",
      "Data columns (total 9 columns):\n",
      " #   Column                  Non-Null Count  Dtype  \n",
      "---  ------                  --------------  -----  \n",
      " 0   Rank_x_x                162 non-null    int64  \n",
      " 1   Country                 162 non-null    object \n",
      " 2   Years                   162 non-null    float64\n",
      " 3   Rank_y_x                162 non-null    int64  \n",
      " 4   liters of pure alcohol  162 non-null    float64\n",
      " 5   Rank_x_y                162 non-null    int64  \n",
      " 6   Percent of Obesity      162 non-null    float64\n",
      " 7   Rank_y_y                162 non-null    int64  \n",
      " 8   Percent of Tobacco Use  162 non-null    float64\n",
      "dtypes: float64(4), int64(4), object(1)\n",
      "memory usage: 12.7+ KB\n"
     ]
    }
   ],
   "source": [
    "DFpeople.info()"
   ]
  },
  {
   "cell_type": "code",
   "execution_count": 13,
   "id": "4b1ed54b",
   "metadata": {},
   "outputs": [
    {
     "name": "stdout",
     "output_type": "stream",
     "text": [
      "<class 'pandas.core.frame.DataFrame'>\n",
      "Int64Index: 162 entries, 0 to 161\n",
      "Data columns (total 9 columns):\n",
      " #   Column                  Non-Null Count  Dtype  \n",
      "---  ------                  --------------  -----  \n",
      " 0   Rank_x_x                162 non-null    int64  \n",
      " 1   Country                 162 non-null    object \n",
      " 2   Years                   162 non-null    float64\n",
      " 3   Rank_y_x                162 non-null    int64  \n",
      " 4   liters of pure alcohol  162 non-null    float64\n",
      " 5   Rank_x_y                162 non-null    int64  \n",
      " 6   Percent of Obesity      162 non-null    float64\n",
      " 7   Rank_y_y                162 non-null    int64  \n",
      " 8   Percent of Tobacco Use  162 non-null    float64\n",
      "dtypes: float64(4), int64(4), object(1)\n",
      "memory usage: 12.7+ KB\n"
     ]
    }
   ],
   "source": [
    "DFpeople.info()\n"
   ]
  },
  {
   "cell_type": "code",
   "execution_count": 16,
   "id": "54e4e38d",
   "metadata": {},
   "outputs": [],
   "source": [
    "bye=[0,3,5,7]\n",
    "DFpeople.drop(columns=DFpeople.columns[bye],inplace=True)"
   ]
  },
  {
   "cell_type": "code",
   "execution_count": 19,
   "id": "39381522",
   "metadata": {},
   "outputs": [
    {
     "data": {
      "text/plain": [
       "Index(['Country', 'Years', 'Liters of pure alcohol', 'Percent of obesity',\n",
       "       'Percent of tobacco use'],\n",
       "      dtype='object')"
      ]
     },
     "execution_count": 19,
     "metadata": {},
     "output_type": "execute_result"
    }
   ],
   "source": [
    "DFpeople.columns.str.capitalize()"
   ]
  },
  {
   "cell_type": "code",
   "execution_count": 20,
   "id": "18c2a709",
   "metadata": {},
   "outputs": [],
   "source": [
    "DFpeople.to_csv(\"People.csv\",index=False)"
   ]
  },
  {
   "cell_type": "code",
   "execution_count": 21,
   "id": "effc0e4c",
   "metadata": {},
   "outputs": [],
   "source": [
    "Peoplecsv=pd.read_csv('People.csv')"
   ]
  },
  {
   "cell_type": "code",
   "execution_count": 22,
   "id": "f6f61dc2",
   "metadata": {},
   "outputs": [
    {
     "name": "stdout",
     "output_type": "stream",
     "text": [
      "<class 'pandas.core.frame.DataFrame'>\n",
      "RangeIndex: 162 entries, 0 to 161\n",
      "Data columns (total 5 columns):\n",
      " #   Column                  Non-Null Count  Dtype  \n",
      "---  ------                  --------------  -----  \n",
      " 0   Country                 162 non-null    object \n",
      " 1   Years                   162 non-null    float64\n",
      " 2   liters of pure alcohol  162 non-null    float64\n",
      " 3   Percent of Obesity      162 non-null    float64\n",
      " 4   Percent of Tobacco Use  162 non-null    float64\n",
      "dtypes: float64(4), object(1)\n",
      "memory usage: 6.5+ KB\n"
     ]
    }
   ],
   "source": [
    "Peoplecsv.info()"
   ]
  },
  {
   "cell_type": "code",
   "execution_count": 23,
   "id": "83aac11e",
   "metadata": {},
   "outputs": [],
   "source": [
    "DFgdp=pd.read_csv(\"https://github.com/Bearnamedjoey/guided1/raw/main/GDPcapita.csv\")\n",
    "DFlabor=pd.read_csv(\"https://github.com/Bearnamedjoey/guided1/raw/main/Labor.csv\")"
   ]
  },
  {
   "cell_type": "code",
   "execution_count": 29,
   "id": "5a6f326d",
   "metadata": {},
   "outputs": [],
   "source": [
    "DF1=pd.merge(DFgdp, DFlabor, on='name')"
   ]
  },
  {
   "cell_type": "code",
   "execution_count": 30,
   "id": "c25c623e",
   "metadata": {},
   "outputs": [],
   "source": [
    "DFgini=pd.read_csv(\"https://github.com/Bearnamedjoey/guided1/raw/main/Gini.csv\")"
   ]
  },
  {
   "cell_type": "code",
   "execution_count": 31,
   "id": "f63fb12b",
   "metadata": {},
   "outputs": [],
   "source": [
    "DFecon=pd.merge(DF1, DFgini, on='name')"
   ]
  },
  {
   "cell_type": "code",
   "execution_count": 32,
   "id": "b1bd0df7",
   "metadata": {
    "scrolled": true
   },
   "outputs": [
    {
     "data": {
      "text/html": [
       "<div>\n",
       "<style scoped>\n",
       "    .dataframe tbody tr th:only-of-type {\n",
       "        vertical-align: middle;\n",
       "    }\n",
       "\n",
       "    .dataframe tbody tr th {\n",
       "        vertical-align: top;\n",
       "    }\n",
       "\n",
       "    .dataframe thead th {\n",
       "        text-align: right;\n",
       "    }\n",
       "</style>\n",
       "<table border=\"1\" class=\"dataframe\">\n",
       "  <thead>\n",
       "    <tr style=\"text-align: right;\">\n",
       "      <th></th>\n",
       "      <th>name</th>\n",
       "      <th>slug_x</th>\n",
       "      <th>value_x</th>\n",
       "      <th>date_of_information_x</th>\n",
       "      <th>ranking_x</th>\n",
       "      <th>region_x</th>\n",
       "      <th>slug_y</th>\n",
       "      <th>value_y</th>\n",
       "      <th>date_of_information_y</th>\n",
       "      <th>ranking_y</th>\n",
       "      <th>region_y</th>\n",
       "      <th>slug</th>\n",
       "      <th>value</th>\n",
       "      <th>date_of_information</th>\n",
       "      <th>ranking</th>\n",
       "      <th>region</th>\n",
       "    </tr>\n",
       "  </thead>\n",
       "  <tbody>\n",
       "    <tr>\n",
       "      <th>0</th>\n",
       "      <td>Luxembourg</td>\n",
       "      <td>luxembourg</td>\n",
       "      <td>$115,700</td>\n",
       "      <td>2021 est.</td>\n",
       "      <td>2</td>\n",
       "      <td>Europe</td>\n",
       "      <td>luxembourg</td>\n",
       "      <td>333,900</td>\n",
       "      <td>2021 est.</td>\n",
       "      <td>166</td>\n",
       "      <td>Europe</td>\n",
       "      <td>luxembourg</td>\n",
       "      <td>34.2</td>\n",
       "      <td>2019 est.</td>\n",
       "      <td>112</td>\n",
       "      <td>Europe</td>\n",
       "    </tr>\n",
       "    <tr>\n",
       "      <th>1</th>\n",
       "      <td>Singapore</td>\n",
       "      <td>singapore</td>\n",
       "      <td>$106,000</td>\n",
       "      <td>2021 est.</td>\n",
       "      <td>4</td>\n",
       "      <td>East and Southeast Asia</td>\n",
       "      <td>singapore</td>\n",
       "      <td>3,290,000</td>\n",
       "      <td>2021 est.</td>\n",
       "      <td>101</td>\n",
       "      <td>East and Southeast Asia</td>\n",
       "      <td>singapore</td>\n",
       "      <td>45.9</td>\n",
       "      <td>2017</td>\n",
       "      <td>28</td>\n",
       "      <td>East and Southeast Asia</td>\n",
       "    </tr>\n",
       "    <tr>\n",
       "      <th>2</th>\n",
       "      <td>Ireland</td>\n",
       "      <td>ireland</td>\n",
       "      <td>$102,500</td>\n",
       "      <td>2021 est.</td>\n",
       "      <td>5</td>\n",
       "      <td>Europe</td>\n",
       "      <td>ireland</td>\n",
       "      <td>2,518,000</td>\n",
       "      <td>2021 est.</td>\n",
       "      <td>115</td>\n",
       "      <td>Europe</td>\n",
       "      <td>ireland</td>\n",
       "      <td>30.6</td>\n",
       "      <td>2018 est.</td>\n",
       "      <td>146</td>\n",
       "      <td>Europe</td>\n",
       "    </tr>\n",
       "    <tr>\n",
       "      <th>3</th>\n",
       "      <td>Qatar</td>\n",
       "      <td>qatar</td>\n",
       "      <td>$92,900</td>\n",
       "      <td>2021 est.</td>\n",
       "      <td>6</td>\n",
       "      <td>Middle East</td>\n",
       "      <td>qatar</td>\n",
       "      <td>1,977,000</td>\n",
       "      <td>2021 est.</td>\n",
       "      <td>126</td>\n",
       "      <td>Middle East</td>\n",
       "      <td>qatar</td>\n",
       "      <td>41.1</td>\n",
       "      <td>2007</td>\n",
       "      <td>50</td>\n",
       "      <td>Middle East</td>\n",
       "    </tr>\n",
       "    <tr>\n",
       "      <th>4</th>\n",
       "      <td>Switzerland</td>\n",
       "      <td>switzerland</td>\n",
       "      <td>$71,000</td>\n",
       "      <td>2021 est.</td>\n",
       "      <td>9</td>\n",
       "      <td>Europe</td>\n",
       "      <td>switzerland</td>\n",
       "      <td>4,963,000</td>\n",
       "      <td>2021 est.</td>\n",
       "      <td>85</td>\n",
       "      <td>Europe</td>\n",
       "      <td>switzerland</td>\n",
       "      <td>32.7</td>\n",
       "      <td>2017 est.</td>\n",
       "      <td>131</td>\n",
       "      <td>Europe</td>\n",
       "    </tr>\n",
       "    <tr>\n",
       "      <th>...</th>\n",
       "      <td>...</td>\n",
       "      <td>...</td>\n",
       "      <td>...</td>\n",
       "      <td>...</td>\n",
       "      <td>...</td>\n",
       "      <td>...</td>\n",
       "      <td>...</td>\n",
       "      <td>...</td>\n",
       "      <td>...</td>\n",
       "      <td>...</td>\n",
       "      <td>...</td>\n",
       "      <td>...</td>\n",
       "      <td>...</td>\n",
       "      <td>...</td>\n",
       "      <td>...</td>\n",
       "      <td>...</td>\n",
       "    </tr>\n",
       "    <tr>\n",
       "      <th>171</th>\n",
       "      <td>Mozambique</td>\n",
       "      <td>mozambique</td>\n",
       "      <td>$1,200</td>\n",
       "      <td>2021 est.</td>\n",
       "      <td>224</td>\n",
       "      <td>Africa</td>\n",
       "      <td>mozambique</td>\n",
       "      <td>14,137,000</td>\n",
       "      <td>2021 est.</td>\n",
       "      <td>43</td>\n",
       "      <td>Africa</td>\n",
       "      <td>mozambique</td>\n",
       "      <td>54.0</td>\n",
       "      <td>2014 est.</td>\n",
       "      <td>8</td>\n",
       "      <td>Africa</td>\n",
       "    </tr>\n",
       "    <tr>\n",
       "      <th>172</th>\n",
       "      <td>Niger</td>\n",
       "      <td>niger</td>\n",
       "      <td>$1,200</td>\n",
       "      <td>2021 est.</td>\n",
       "      <td>225</td>\n",
       "      <td>Africa</td>\n",
       "      <td>niger</td>\n",
       "      <td>9,411,000</td>\n",
       "      <td>2021 est.</td>\n",
       "      <td>55</td>\n",
       "      <td>Africa</td>\n",
       "      <td>niger</td>\n",
       "      <td>34.3</td>\n",
       "      <td>2014 est.</td>\n",
       "      <td>111</td>\n",
       "      <td>Africa</td>\n",
       "    </tr>\n",
       "    <tr>\n",
       "      <th>173</th>\n",
       "      <td>Congo, Democratic Republic of the</td>\n",
       "      <td>congo-democratic-republic-of-the</td>\n",
       "      <td>$1,100</td>\n",
       "      <td>2021 est.</td>\n",
       "      <td>226</td>\n",
       "      <td>Africa</td>\n",
       "      <td>congo-democratic-republic-of-the</td>\n",
       "      <td>33,382,000</td>\n",
       "      <td>2021 est.</td>\n",
       "      <td>18</td>\n",
       "      <td>Africa</td>\n",
       "      <td>congo-democratic-republic-of-the</td>\n",
       "      <td>42.1</td>\n",
       "      <td>2012 est.</td>\n",
       "      <td>45</td>\n",
       "      <td>Africa</td>\n",
       "    </tr>\n",
       "    <tr>\n",
       "      <th>174</th>\n",
       "      <td>Central African Republic</td>\n",
       "      <td>central-african-republic</td>\n",
       "      <td>$800</td>\n",
       "      <td>2021 est.</td>\n",
       "      <td>228</td>\n",
       "      <td>Africa</td>\n",
       "      <td>central-african-republic</td>\n",
       "      <td>2,015,000</td>\n",
       "      <td>2021 est.</td>\n",
       "      <td>124</td>\n",
       "      <td>Africa</td>\n",
       "      <td>central-african-republic</td>\n",
       "      <td>56.2</td>\n",
       "      <td>2008 est.</td>\n",
       "      <td>5</td>\n",
       "      <td>Africa</td>\n",
       "    </tr>\n",
       "    <tr>\n",
       "      <th>175</th>\n",
       "      <td>Burundi</td>\n",
       "      <td>burundi</td>\n",
       "      <td>$700</td>\n",
       "      <td>2021 est.</td>\n",
       "      <td>229</td>\n",
       "      <td>Africa</td>\n",
       "      <td>burundi</td>\n",
       "      <td>5,271,000</td>\n",
       "      <td>2021 est.</td>\n",
       "      <td>77</td>\n",
       "      <td>Africa</td>\n",
       "      <td>burundi</td>\n",
       "      <td>38.6</td>\n",
       "      <td>2013 est.</td>\n",
       "      <td>69</td>\n",
       "      <td>Africa</td>\n",
       "    </tr>\n",
       "  </tbody>\n",
       "</table>\n",
       "<p>176 rows × 16 columns</p>\n",
       "</div>"
      ],
      "text/plain": [
       "                                  name                            slug_x  \\\n",
       "0                           Luxembourg                        luxembourg   \n",
       "1                            Singapore                         singapore   \n",
       "2                              Ireland                           ireland   \n",
       "3                                Qatar                             qatar   \n",
       "4                          Switzerland                       switzerland   \n",
       "..                                 ...                               ...   \n",
       "171                         Mozambique                        mozambique   \n",
       "172                              Niger                             niger   \n",
       "173  Congo, Democratic Republic of the  congo-democratic-republic-of-the   \n",
       "174           Central African Republic          central-african-republic   \n",
       "175                            Burundi                           burundi   \n",
       "\n",
       "      value_x date_of_information_x  ranking_x                 region_x  \\\n",
       "0    $115,700             2021 est.          2                   Europe   \n",
       "1    $106,000             2021 est.          4  East and Southeast Asia   \n",
       "2    $102,500             2021 est.          5                   Europe   \n",
       "3     $92,900             2021 est.          6              Middle East   \n",
       "4     $71,000             2021 est.          9                   Europe   \n",
       "..        ...                   ...        ...                      ...   \n",
       "171    $1,200             2021 est.        224                   Africa   \n",
       "172    $1,200             2021 est.        225                   Africa   \n",
       "173    $1,100             2021 est.        226                   Africa   \n",
       "174      $800             2021 est.        228                   Africa   \n",
       "175      $700             2021 est.        229                   Africa   \n",
       "\n",
       "                               slug_y     value_y date_of_information_y  \\\n",
       "0                          luxembourg     333,900             2021 est.   \n",
       "1                           singapore   3,290,000             2021 est.   \n",
       "2                             ireland   2,518,000             2021 est.   \n",
       "3                               qatar   1,977,000             2021 est.   \n",
       "4                         switzerland   4,963,000             2021 est.   \n",
       "..                                ...         ...                   ...   \n",
       "171                        mozambique  14,137,000             2021 est.   \n",
       "172                             niger   9,411,000             2021 est.   \n",
       "173  congo-democratic-republic-of-the  33,382,000             2021 est.   \n",
       "174          central-african-republic   2,015,000             2021 est.   \n",
       "175                           burundi   5,271,000             2021 est.   \n",
       "\n",
       "     ranking_y                 region_y                              slug  \\\n",
       "0          166                   Europe                        luxembourg   \n",
       "1          101  East and Southeast Asia                         singapore   \n",
       "2          115                   Europe                           ireland   \n",
       "3          126              Middle East                             qatar   \n",
       "4           85                   Europe                       switzerland   \n",
       "..         ...                      ...                               ...   \n",
       "171         43                   Africa                        mozambique   \n",
       "172         55                   Africa                             niger   \n",
       "173         18                   Africa  congo-democratic-republic-of-the   \n",
       "174        124                   Africa          central-african-republic   \n",
       "175         77                   Africa                           burundi   \n",
       "\n",
       "     value date_of_information  ranking                   region  \n",
       "0     34.2           2019 est.      112                   Europe  \n",
       "1     45.9                2017       28  East and Southeast Asia  \n",
       "2     30.6           2018 est.      146                   Europe  \n",
       "3     41.1                2007       50              Middle East  \n",
       "4     32.7           2017 est.      131                   Europe  \n",
       "..     ...                 ...      ...                      ...  \n",
       "171   54.0           2014 est.        8                   Africa  \n",
       "172   34.3           2014 est.      111                   Africa  \n",
       "173   42.1           2012 est.       45                   Africa  \n",
       "174   56.2           2008 est.        5                   Africa  \n",
       "175   38.6           2013 est.       69                   Africa  \n",
       "\n",
       "[176 rows x 16 columns]"
      ]
     },
     "execution_count": 32,
     "metadata": {},
     "output_type": "execute_result"
    }
   ],
   "source": [
    "DFecon"
   ]
  },
  {
   "cell_type": "code",
   "execution_count": 33,
   "id": "667f4f4d",
   "metadata": {},
   "outputs": [
    {
     "name": "stdout",
     "output_type": "stream",
     "text": [
      "<class 'pandas.core.frame.DataFrame'>\n",
      "Int64Index: 176 entries, 0 to 175\n",
      "Data columns (total 16 columns):\n",
      " #   Column                 Non-Null Count  Dtype  \n",
      "---  ------                 --------------  -----  \n",
      " 0   name                   176 non-null    object \n",
      " 1   slug_x                 176 non-null    object \n",
      " 2   value_x                176 non-null    object \n",
      " 3   date_of_information_x  176 non-null    object \n",
      " 4   ranking_x              176 non-null    int64  \n",
      " 5   region_x               176 non-null    object \n",
      " 6   slug_y                 176 non-null    object \n",
      " 7   value_y                176 non-null    object \n",
      " 8   date_of_information_y  176 non-null    object \n",
      " 9   ranking_y              176 non-null    int64  \n",
      " 10  region_y               176 non-null    object \n",
      " 11  slug                   176 non-null    object \n",
      " 12  value                  176 non-null    float64\n",
      " 13  date_of_information    176 non-null    object \n",
      " 14  ranking                176 non-null    int64  \n",
      " 15  region                 176 non-null    object \n",
      "dtypes: float64(1), int64(3), object(12)\n",
      "memory usage: 23.4+ KB\n"
     ]
    }
   ],
   "source": [
    "DFecon.info()"
   ]
  },
  {
   "cell_type": "code",
   "execution_count": 34,
   "id": "9fbb837f",
   "metadata": {},
   "outputs": [],
   "source": [
    "bye=[1,3,4,5,6,8,9,10,11,13,14,15]\n",
    "DFecon.drop(columns=DFecon.columns[bye],inplace=True)"
   ]
  },
  {
   "cell_type": "code",
   "execution_count": 35,
   "id": "ed5c9736",
   "metadata": {},
   "outputs": [
    {
     "name": "stdout",
     "output_type": "stream",
     "text": [
      "<class 'pandas.core.frame.DataFrame'>\n",
      "Int64Index: 176 entries, 0 to 175\n",
      "Data columns (total 4 columns):\n",
      " #   Column   Non-Null Count  Dtype  \n",
      "---  ------   --------------  -----  \n",
      " 0   name     176 non-null    object \n",
      " 1   value_x  176 non-null    object \n",
      " 2   value_y  176 non-null    object \n",
      " 3   value    176 non-null    float64\n",
      "dtypes: float64(1), object(3)\n",
      "memory usage: 6.9+ KB\n"
     ]
    }
   ],
   "source": [
    "DFecon.info()"
   ]
  },
  {
   "cell_type": "code",
   "execution_count": 36,
   "id": "a4720ae5",
   "metadata": {},
   "outputs": [
    {
     "data": {
      "text/html": [
       "<div>\n",
       "<style scoped>\n",
       "    .dataframe tbody tr th:only-of-type {\n",
       "        vertical-align: middle;\n",
       "    }\n",
       "\n",
       "    .dataframe tbody tr th {\n",
       "        vertical-align: top;\n",
       "    }\n",
       "\n",
       "    .dataframe thead th {\n",
       "        text-align: right;\n",
       "    }\n",
       "</style>\n",
       "<table border=\"1\" class=\"dataframe\">\n",
       "  <thead>\n",
       "    <tr style=\"text-align: right;\">\n",
       "      <th></th>\n",
       "      <th>name</th>\n",
       "      <th>value_x</th>\n",
       "      <th>value_y</th>\n",
       "      <th>value</th>\n",
       "    </tr>\n",
       "  </thead>\n",
       "  <tbody>\n",
       "    <tr>\n",
       "      <th>0</th>\n",
       "      <td>Luxembourg</td>\n",
       "      <td>$115,700</td>\n",
       "      <td>333,900</td>\n",
       "      <td>34.2</td>\n",
       "    </tr>\n",
       "    <tr>\n",
       "      <th>1</th>\n",
       "      <td>Singapore</td>\n",
       "      <td>$106,000</td>\n",
       "      <td>3,290,000</td>\n",
       "      <td>45.9</td>\n",
       "    </tr>\n",
       "    <tr>\n",
       "      <th>2</th>\n",
       "      <td>Ireland</td>\n",
       "      <td>$102,500</td>\n",
       "      <td>2,518,000</td>\n",
       "      <td>30.6</td>\n",
       "    </tr>\n",
       "    <tr>\n",
       "      <th>3</th>\n",
       "      <td>Qatar</td>\n",
       "      <td>$92,900</td>\n",
       "      <td>1,977,000</td>\n",
       "      <td>41.1</td>\n",
       "    </tr>\n",
       "    <tr>\n",
       "      <th>4</th>\n",
       "      <td>Switzerland</td>\n",
       "      <td>$71,000</td>\n",
       "      <td>4,963,000</td>\n",
       "      <td>32.7</td>\n",
       "    </tr>\n",
       "    <tr>\n",
       "      <th>...</th>\n",
       "      <td>...</td>\n",
       "      <td>...</td>\n",
       "      <td>...</td>\n",
       "      <td>...</td>\n",
       "    </tr>\n",
       "    <tr>\n",
       "      <th>171</th>\n",
       "      <td>Mozambique</td>\n",
       "      <td>$1,200</td>\n",
       "      <td>14,137,000</td>\n",
       "      <td>54.0</td>\n",
       "    </tr>\n",
       "    <tr>\n",
       "      <th>172</th>\n",
       "      <td>Niger</td>\n",
       "      <td>$1,200</td>\n",
       "      <td>9,411,000</td>\n",
       "      <td>34.3</td>\n",
       "    </tr>\n",
       "    <tr>\n",
       "      <th>173</th>\n",
       "      <td>Congo, Democratic Republic of the</td>\n",
       "      <td>$1,100</td>\n",
       "      <td>33,382,000</td>\n",
       "      <td>42.1</td>\n",
       "    </tr>\n",
       "    <tr>\n",
       "      <th>174</th>\n",
       "      <td>Central African Republic</td>\n",
       "      <td>$800</td>\n",
       "      <td>2,015,000</td>\n",
       "      <td>56.2</td>\n",
       "    </tr>\n",
       "    <tr>\n",
       "      <th>175</th>\n",
       "      <td>Burundi</td>\n",
       "      <td>$700</td>\n",
       "      <td>5,271,000</td>\n",
       "      <td>38.6</td>\n",
       "    </tr>\n",
       "  </tbody>\n",
       "</table>\n",
       "<p>176 rows × 4 columns</p>\n",
       "</div>"
      ],
      "text/plain": [
       "                                  name   value_x     value_y  value\n",
       "0                           Luxembourg  $115,700     333,900   34.2\n",
       "1                            Singapore  $106,000   3,290,000   45.9\n",
       "2                              Ireland  $102,500   2,518,000   30.6\n",
       "3                                Qatar   $92,900   1,977,000   41.1\n",
       "4                          Switzerland   $71,000   4,963,000   32.7\n",
       "..                                 ...       ...         ...    ...\n",
       "171                         Mozambique    $1,200  14,137,000   54.0\n",
       "172                              Niger    $1,200   9,411,000   34.3\n",
       "173  Congo, Democratic Republic of the    $1,100  33,382,000   42.1\n",
       "174           Central African Republic      $800   2,015,000   56.2\n",
       "175                            Burundi      $700   5,271,000   38.6\n",
       "\n",
       "[176 rows x 4 columns]"
      ]
     },
     "execution_count": 36,
     "metadata": {},
     "output_type": "execute_result"
    }
   ],
   "source": [
    "DFecon"
   ]
  },
  {
   "cell_type": "code",
   "execution_count": 37,
   "id": "f83bf806",
   "metadata": {},
   "outputs": [
    {
     "data": {
      "text/plain": [
       "Index(['Country', 'value_x', 'value_y', 'value'], dtype='object')"
      ]
     },
     "execution_count": 37,
     "metadata": {},
     "output_type": "execute_result"
    }
   ],
   "source": [
    "DFecon.columns.str.replace(pat=\"name\",\n",
    "                           repl=\"Country\", \n",
    "                           regex=True) "
   ]
  },
  {
   "cell_type": "code",
   "execution_count": 38,
   "id": "aeed593f",
   "metadata": {},
   "outputs": [],
   "source": [
    "DFecon.columns=DFecon.columns.str.replace(\"name\",\"Country\",regex=True).to_list()"
   ]
  },
  {
   "cell_type": "code",
   "execution_count": null,
   "id": "9fd46b60",
   "metadata": {},
   "outputs": [],
   "source": [
    "DFecon.columns.str.replace(pat=\"value_x\",\n",
    "                           repl=\"GDP per capita\", \n",
    "                           regex=True)"
   ]
  },
  {
   "cell_type": "code",
   "execution_count": 39,
   "id": "83303f4b",
   "metadata": {},
   "outputs": [],
   "source": [
    "DFecon.columns=DFecon.columns.str.replace(\"value_x\",\"GDP per capita\",regex=True).to_list()"
   ]
  },
  {
   "cell_type": "code",
   "execution_count": null,
   "id": "349c4f20",
   "metadata": {},
   "outputs": [],
   "source": [
    "DFecon.columns.str.replace(pat=\"value_y\",\n",
    "                           repl=\"Labor Force\", \n",
    "                           regex=True)"
   ]
  },
  {
   "cell_type": "code",
   "execution_count": 40,
   "id": "2709af24",
   "metadata": {},
   "outputs": [],
   "source": [
    "DFecon.columns=DFecon.columns.str.replace(\"value_y\",\"Labor Force\",regex=True).to_list()"
   ]
  },
  {
   "cell_type": "code",
   "execution_count": 41,
   "id": "75c955e4",
   "metadata": {},
   "outputs": [],
   "source": [
    "DFecon.columns=DFecon.columns.str.replace(\"value\",\"Gini Index\",regex=True).to_list()"
   ]
  },
  {
   "cell_type": "code",
   "execution_count": 57,
   "id": "864c590b",
   "metadata": {},
   "outputs": [
    {
     "name": "stdout",
     "output_type": "stream",
     "text": [
      "<class 'pandas.core.frame.DataFrame'>\n",
      "Int64Index: 176 entries, 0 to 175\n",
      "Data columns (total 4 columns):\n",
      " #   Column          Non-Null Count  Dtype  \n",
      "---  ------          --------------  -----  \n",
      " 0   Country         176 non-null    object \n",
      " 1   GDP per capita  176 non-null    object \n",
      " 2   Labor Force     176 non-null    object \n",
      " 3   Gini Index      176 non-null    float64\n",
      "dtypes: float64(1), object(3)\n",
      "memory usage: 6.9+ KB\n"
     ]
    }
   ],
   "source": [
    "DFecon.info()"
   ]
  },
  {
   "cell_type": "code",
   "execution_count": null,
   "id": "4b180be4",
   "metadata": {},
   "outputs": [],
   "source": [
    "#next step: convert object to numerical value"
   ]
  },
  {
   "cell_type": "code",
   "execution_count": 60,
   "id": "f70137fa",
   "metadata": {},
   "outputs": [],
   "source": [
    "DFecon['GDP per capita'] = pd.to_numeric(DFecon['GDP per capita'], errors='coerce')"
   ]
  },
  {
   "cell_type": "code",
   "execution_count": 61,
   "id": "a38daf66",
   "metadata": {},
   "outputs": [],
   "source": [
    "DFecon['Labor Force'] = pd.to_numeric(DFecon['Labor Force'], errors='coerce')"
   ]
  },
  {
   "cell_type": "code",
   "execution_count": 63,
   "id": "6a131000",
   "metadata": {},
   "outputs": [],
   "source": [
    "DFecon.to_csv(\"Economy.csv\",index=False)"
   ]
  },
  {
   "cell_type": "code",
   "execution_count": 64,
   "id": "0aa67710",
   "metadata": {},
   "outputs": [],
   "source": [
    "Economycsv=pd.read_csv('Economy.csv')"
   ]
  },
  {
   "cell_type": "code",
   "execution_count": 65,
   "id": "21657983",
   "metadata": {},
   "outputs": [
    {
     "name": "stdout",
     "output_type": "stream",
     "text": [
      "<class 'pandas.core.frame.DataFrame'>\n",
      "RangeIndex: 176 entries, 0 to 175\n",
      "Data columns (total 4 columns):\n",
      " #   Column          Non-Null Count  Dtype  \n",
      "---  ------          --------------  -----  \n",
      " 0   Country         176 non-null    object \n",
      " 1   GDP per capita  2 non-null      float64\n",
      " 2   Labor Force     0 non-null      float64\n",
      " 3   Gini Index      176 non-null    float64\n",
      "dtypes: float64(3), object(1)\n",
      "memory usage: 5.6+ KB\n"
     ]
    }
   ],
   "source": [
    "Economycsv.info()"
   ]
  },
  {
   "cell_type": "code",
   "execution_count": 66,
   "id": "669ecf97",
   "metadata": {},
   "outputs": [],
   "source": [
    "DFair=pd.read_csv(\"https://github.com/Bearnamedjoey/guided1/raw/main/Airports.csv\")"
   ]
  },
  {
   "cell_type": "code",
   "execution_count": 67,
   "id": "f941c15b",
   "metadata": {},
   "outputs": [],
   "source": [
    "DFwater=pd.read_csv(\"https://github.com/Bearnamedjoey/guided1/raw/main/Waterways.csv\")"
   ]
  },
  {
   "cell_type": "code",
   "execution_count": 70,
   "id": "3270fe7b",
   "metadata": {},
   "outputs": [],
   "source": [
    "DF1=pd.merge(DFair, DFwater, on='name')"
   ]
  },
  {
   "cell_type": "code",
   "execution_count": 71,
   "id": "fdb8a27a",
   "metadata": {},
   "outputs": [],
   "source": [
    "DFrail=pd.read_csv(\"https://github.com/Bearnamedjoey/guided1/raw/main/Railways.csv\")"
   ]
  },
  {
   "cell_type": "code",
   "execution_count": 72,
   "id": "ccec6950",
   "metadata": {},
   "outputs": [],
   "source": [
    "DFtrans=pd.merge(DF1, DFrail, on='name')"
   ]
  },
  {
   "cell_type": "code",
   "execution_count": 76,
   "id": "fa64f296",
   "metadata": {},
   "outputs": [
    {
     "name": "stdout",
     "output_type": "stream",
     "text": [
      "<class 'pandas.core.frame.DataFrame'>\n",
      "Int64Index: 100 entries, 0 to 99\n",
      "Data columns (total 16 columns):\n",
      " #   Column                 Non-Null Count  Dtype \n",
      "---  ------                 --------------  ----- \n",
      " 0   name                   100 non-null    object\n",
      " 1   slug_x                 100 non-null    object\n",
      " 2   value_x                100 non-null    object\n",
      " 3   date_of_information_x  100 non-null    int64 \n",
      " 4   ranking_x              100 non-null    int64 \n",
      " 5   region_x               100 non-null    object\n",
      " 6   slug_y                 100 non-null    object\n",
      " 7   value_y                100 non-null    object\n",
      " 8   date_of_information_y  100 non-null    int64 \n",
      " 9   ranking_y              100 non-null    int64 \n",
      " 10  region_y               100 non-null    object\n",
      " 11  slug                   100 non-null    object\n",
      " 12  value                  100 non-null    object\n",
      " 13  date_of_information    100 non-null    int64 \n",
      " 14  ranking                100 non-null    int64 \n",
      " 15  region                 100 non-null    object\n",
      "dtypes: int64(6), object(10)\n",
      "memory usage: 13.3+ KB\n"
     ]
    }
   ],
   "source": [
    "DFtrans.info()"
   ]
  },
  {
   "cell_type": "code",
   "execution_count": 78,
   "id": "f00172d0",
   "metadata": {},
   "outputs": [],
   "source": [
    "bye=[1,3,4,5,6,8,9,10,11,13,14,15]\n",
    "DFtrans.drop(columns=DFtrans.columns[bye],inplace=True)"
   ]
  },
  {
   "cell_type": "code",
   "execution_count": 80,
   "id": "5f19d5fd",
   "metadata": {},
   "outputs": [
    {
     "data": {
      "text/html": [
       "<div>\n",
       "<style scoped>\n",
       "    .dataframe tbody tr th:only-of-type {\n",
       "        vertical-align: middle;\n",
       "    }\n",
       "\n",
       "    .dataframe tbody tr th {\n",
       "        vertical-align: top;\n",
       "    }\n",
       "\n",
       "    .dataframe thead th {\n",
       "        text-align: right;\n",
       "    }\n",
       "</style>\n",
       "<table border=\"1\" class=\"dataframe\">\n",
       "  <thead>\n",
       "    <tr style=\"text-align: right;\">\n",
       "      <th></th>\n",
       "      <th>name</th>\n",
       "      <th>value_x</th>\n",
       "      <th>value_y</th>\n",
       "      <th>value</th>\n",
       "    </tr>\n",
       "  </thead>\n",
       "  <tbody>\n",
       "    <tr>\n",
       "      <th>0</th>\n",
       "      <td>United States</td>\n",
       "      <td>13,513</td>\n",
       "      <td>41,009</td>\n",
       "      <td>293,564.2</td>\n",
       "    </tr>\n",
       "    <tr>\n",
       "      <th>1</th>\n",
       "      <td>Brazil</td>\n",
       "      <td>4,093</td>\n",
       "      <td>50,000</td>\n",
       "      <td>29,849.9</td>\n",
       "    </tr>\n",
       "    <tr>\n",
       "      <th>2</th>\n",
       "      <td>Mexico</td>\n",
       "      <td>1,714</td>\n",
       "      <td>2,900</td>\n",
       "      <td>23,389.0</td>\n",
       "    </tr>\n",
       "    <tr>\n",
       "      <th>3</th>\n",
       "      <td>Canada</td>\n",
       "      <td>1,467</td>\n",
       "      <td>636</td>\n",
       "      <td>49,422.0</td>\n",
       "    </tr>\n",
       "    <tr>\n",
       "      <th>4</th>\n",
       "      <td>Russia</td>\n",
       "      <td>1,218</td>\n",
       "      <td>102,000</td>\n",
       "      <td>85,494.0</td>\n",
       "    </tr>\n",
       "    <tr>\n",
       "      <th>...</th>\n",
       "      <td>...</td>\n",
       "      <td>...</td>\n",
       "      <td>...</td>\n",
       "      <td>...</td>\n",
       "    </tr>\n",
       "    <tr>\n",
       "      <th>95</th>\n",
       "      <td>Togo</td>\n",
       "      <td>8</td>\n",
       "      <td>50</td>\n",
       "      <td>568.0</td>\n",
       "    </tr>\n",
       "    <tr>\n",
       "      <th>96</th>\n",
       "      <td>Moldova</td>\n",
       "      <td>7</td>\n",
       "      <td>558</td>\n",
       "      <td>1,171.0</td>\n",
       "    </tr>\n",
       "    <tr>\n",
       "      <th>97</th>\n",
       "      <td>Benin</td>\n",
       "      <td>6</td>\n",
       "      <td>150</td>\n",
       "      <td>438.0</td>\n",
       "    </tr>\n",
       "    <tr>\n",
       "      <th>98</th>\n",
       "      <td>Albania</td>\n",
       "      <td>3</td>\n",
       "      <td>41</td>\n",
       "      <td>424.0</td>\n",
       "    </tr>\n",
       "    <tr>\n",
       "      <th>99</th>\n",
       "      <td>Luxembourg</td>\n",
       "      <td>2</td>\n",
       "      <td>37</td>\n",
       "      <td>271.0</td>\n",
       "    </tr>\n",
       "  </tbody>\n",
       "</table>\n",
       "<p>100 rows × 4 columns</p>\n",
       "</div>"
      ],
      "text/plain": [
       "             name value_x  value_y      value\n",
       "0   United States  13,513   41,009  293,564.2\n",
       "1          Brazil   4,093   50,000   29,849.9\n",
       "2          Mexico   1,714    2,900   23,389.0\n",
       "3          Canada   1,467      636   49,422.0\n",
       "4          Russia   1,218  102,000   85,494.0\n",
       "..            ...     ...      ...        ...\n",
       "95           Togo       8       50      568.0\n",
       "96        Moldova       7      558    1,171.0\n",
       "97          Benin       6      150      438.0\n",
       "98        Albania       3       41      424.0\n",
       "99     Luxembourg       2       37      271.0\n",
       "\n",
       "[100 rows x 4 columns]"
      ]
     },
     "execution_count": 80,
     "metadata": {},
     "output_type": "execute_result"
    }
   ],
   "source": [
    "DFtrans"
   ]
  },
  {
   "cell_type": "code",
   "execution_count": 81,
   "id": "2b52ac7c",
   "metadata": {},
   "outputs": [],
   "source": [
    "DFtrans.columns=DFtrans.columns.str.replace(\"name\",\"Country\",regex=True).to_list()"
   ]
  },
  {
   "cell_type": "code",
   "execution_count": 82,
   "id": "d8c8f1c1",
   "metadata": {},
   "outputs": [],
   "source": [
    "DFtrans.columns=DFtrans.columns.str.replace(\"value_x\",\"Airports\",regex=True).to_list()"
   ]
  },
  {
   "cell_type": "code",
   "execution_count": 83,
   "id": "2f407b1b",
   "metadata": {},
   "outputs": [],
   "source": [
    "DFtrans.columns=DFtrans.columns.str.replace(\"value_y\",\"Waterways\",regex=True).to_list()"
   ]
  },
  {
   "cell_type": "code",
   "execution_count": 84,
   "id": "14da4d78",
   "metadata": {},
   "outputs": [],
   "source": [
    "DFtrans.columns=DFtrans.columns.str.replace(\"value\",\"Railways\",regex=True).to_list()"
   ]
  },
  {
   "cell_type": "code",
   "execution_count": 86,
   "id": "f48def2c",
   "metadata": {},
   "outputs": [],
   "source": [
    "DFtrans['Airports'] = pd.to_numeric(DFtrans['Airports'], errors='coerce')"
   ]
  },
  {
   "cell_type": "code",
   "execution_count": 87,
   "id": "d6749ade",
   "metadata": {},
   "outputs": [],
   "source": [
    "DFtrans['Waterways'] = pd.to_numeric(DFtrans['Waterways'], errors='coerce')"
   ]
  },
  {
   "cell_type": "code",
   "execution_count": 88,
   "id": "4e26b7f6",
   "metadata": {},
   "outputs": [],
   "source": [
    "DFtrans['Railways'] = pd.to_numeric(DFtrans['Railways'], errors='coerce')"
   ]
  },
  {
   "cell_type": "code",
   "execution_count": 89,
   "id": "fb09bff1",
   "metadata": {
    "scrolled": false
   },
   "outputs": [
    {
     "name": "stdout",
     "output_type": "stream",
     "text": [
      "<class 'pandas.core.frame.DataFrame'>\n",
      "Int64Index: 100 entries, 0 to 99\n",
      "Data columns (total 4 columns):\n",
      " #   Column     Non-Null Count  Dtype  \n",
      "---  ------     --------------  -----  \n",
      " 0   Country    100 non-null    object \n",
      " 1   Airports   95 non-null     float64\n",
      " 2   Waterways  39 non-null     float64\n",
      " 3   Railways   27 non-null     float64\n",
      "dtypes: float64(3), object(1)\n",
      "memory usage: 3.9+ KB\n"
     ]
    }
   ],
   "source": [
    "DFtrans.info()"
   ]
  },
  {
   "cell_type": "code",
   "execution_count": 91,
   "id": "3d912455",
   "metadata": {},
   "outputs": [],
   "source": [
    "DFmerged = DFpeople.merge(DFecon, on='Country').merge(DFtrans, on='Country')"
   ]
  },
  {
   "cell_type": "code",
   "execution_count": 99,
   "id": "2fc06f92",
   "metadata": {},
   "outputs": [
    {
     "name": "stdout",
     "output_type": "stream",
     "text": [
      "<class 'pandas.core.frame.DataFrame'>\n",
      "Int64Index: 90 entries, 0 to 89\n",
      "Data columns (total 11 columns):\n",
      " #   Column                  Non-Null Count  Dtype  \n",
      "---  ------                  --------------  -----  \n",
      " 0   Country                 90 non-null     object \n",
      " 1   Years                   90 non-null     float64\n",
      " 2   liters of pure alcohol  90 non-null     float64\n",
      " 3   Percent of Obesity      90 non-null     float64\n",
      " 4   Percent of Tobacco Use  90 non-null     float64\n",
      " 5   GDP per capita          0 non-null      float64\n",
      " 6   Labor Force             0 non-null      float64\n",
      " 7   Gini Index              90 non-null     float64\n",
      " 8   Airports                85 non-null     float64\n",
      " 9   Waterways               35 non-null     float64\n",
      " 10  Railways                23 non-null     float64\n",
      "dtypes: float64(10), object(1)\n",
      "memory usage: 8.4+ KB\n"
     ]
    }
   ],
   "source": [
    "DFmerged.info()"
   ]
  },
  {
   "cell_type": "code",
   "execution_count": 100,
   "id": "3d8eaede",
   "metadata": {},
   "outputs": [],
   "source": [
    "bye=[5,6,9,10]\n",
    "DFmerged.drop(columns=DFmerged.columns[bye],inplace=True)"
   ]
  },
  {
   "cell_type": "code",
   "execution_count": 102,
   "id": "fecaaeb8",
   "metadata": {
    "scrolled": true
   },
   "outputs": [
    {
     "data": {
      "text/html": [
       "<div>\n",
       "<style scoped>\n",
       "    .dataframe tbody tr th:only-of-type {\n",
       "        vertical-align: middle;\n",
       "    }\n",
       "\n",
       "    .dataframe tbody tr th {\n",
       "        vertical-align: top;\n",
       "    }\n",
       "\n",
       "    .dataframe thead th {\n",
       "        text-align: right;\n",
       "    }\n",
       "</style>\n",
       "<table border=\"1\" class=\"dataframe\">\n",
       "  <thead>\n",
       "    <tr style=\"text-align: right;\">\n",
       "      <th></th>\n",
       "      <th>Country</th>\n",
       "      <th>Years</th>\n",
       "      <th>liters of pure alcohol</th>\n",
       "      <th>Percent of Obesity</th>\n",
       "      <th>Percent of Tobacco Use</th>\n",
       "      <th>Gini Index</th>\n",
       "      <th>Airports</th>\n",
       "    </tr>\n",
       "  </thead>\n",
       "  <tbody>\n",
       "    <tr>\n",
       "      <th>0</th>\n",
       "      <td>Japan</td>\n",
       "      <td>48.6</td>\n",
       "      <td>8.36</td>\n",
       "      <td>4.3</td>\n",
       "      <td>20.1</td>\n",
       "      <td>32.9</td>\n",
       "      <td>175.0</td>\n",
       "    </tr>\n",
       "    <tr>\n",
       "      <th>1</th>\n",
       "      <td>Germany</td>\n",
       "      <td>47.8</td>\n",
       "      <td>10.56</td>\n",
       "      <td>22.3</td>\n",
       "      <td>22.0</td>\n",
       "      <td>31.7</td>\n",
       "      <td>539.0</td>\n",
       "    </tr>\n",
       "    <tr>\n",
       "      <th>2</th>\n",
       "      <td>Italy</td>\n",
       "      <td>46.5</td>\n",
       "      <td>7.65</td>\n",
       "      <td>19.9</td>\n",
       "      <td>23.1</td>\n",
       "      <td>35.2</td>\n",
       "      <td>129.0</td>\n",
       "    </tr>\n",
       "    <tr>\n",
       "      <th>3</th>\n",
       "      <td>Greece</td>\n",
       "      <td>45.3</td>\n",
       "      <td>6.33</td>\n",
       "      <td>24.9</td>\n",
       "      <td>33.5</td>\n",
       "      <td>33.1</td>\n",
       "      <td>77.0</td>\n",
       "    </tr>\n",
       "    <tr>\n",
       "      <th>4</th>\n",
       "      <td>Slovenia</td>\n",
       "      <td>44.9</td>\n",
       "      <td>11.05</td>\n",
       "      <td>20.2</td>\n",
       "      <td>22.0</td>\n",
       "      <td>24.2</td>\n",
       "      <td>16.0</td>\n",
       "    </tr>\n",
       "    <tr>\n",
       "      <th>...</th>\n",
       "      <td>...</td>\n",
       "      <td>...</td>\n",
       "      <td>...</td>\n",
       "      <td>...</td>\n",
       "      <td>...</td>\n",
       "      <td>...</td>\n",
       "      <td>...</td>\n",
       "    </tr>\n",
       "    <tr>\n",
       "      <th>85</th>\n",
       "      <td>Zambia</td>\n",
       "      <td>16.9</td>\n",
       "      <td>3.82</td>\n",
       "      <td>8.1</td>\n",
       "      <td>14.4</td>\n",
       "      <td>57.1</td>\n",
       "      <td>88.0</td>\n",
       "    </tr>\n",
       "    <tr>\n",
       "      <th>86</th>\n",
       "      <td>Malawi</td>\n",
       "      <td>16.8</td>\n",
       "      <td>2.04</td>\n",
       "      <td>5.8</td>\n",
       "      <td>10.8</td>\n",
       "      <td>38.5</td>\n",
       "      <td>32.0</td>\n",
       "    </tr>\n",
       "    <tr>\n",
       "      <th>87</th>\n",
       "      <td>Congo, Democratic Republic of the</td>\n",
       "      <td>16.7</td>\n",
       "      <td>0.56</td>\n",
       "      <td>6.7</td>\n",
       "      <td>12.8</td>\n",
       "      <td>42.1</td>\n",
       "      <td>198.0</td>\n",
       "    </tr>\n",
       "    <tr>\n",
       "      <th>88</th>\n",
       "      <td>Mali</td>\n",
       "      <td>16.0</td>\n",
       "      <td>0.60</td>\n",
       "      <td>8.6</td>\n",
       "      <td>8.3</td>\n",
       "      <td>36.1</td>\n",
       "      <td>25.0</td>\n",
       "    </tr>\n",
       "    <tr>\n",
       "      <th>89</th>\n",
       "      <td>Uganda</td>\n",
       "      <td>15.7</td>\n",
       "      <td>6.82</td>\n",
       "      <td>5.3</td>\n",
       "      <td>8.4</td>\n",
       "      <td>42.8</td>\n",
       "      <td>47.0</td>\n",
       "    </tr>\n",
       "  </tbody>\n",
       "</table>\n",
       "<p>90 rows × 7 columns</p>\n",
       "</div>"
      ],
      "text/plain": [
       "                              Country  Years  liters of pure alcohol  \\\n",
       "0                               Japan   48.6                    8.36   \n",
       "1                             Germany   47.8                   10.56   \n",
       "2                               Italy   46.5                    7.65   \n",
       "3                              Greece   45.3                    6.33   \n",
       "4                            Slovenia   44.9                   11.05   \n",
       "..                                ...    ...                     ...   \n",
       "85                             Zambia   16.9                    3.82   \n",
       "86                             Malawi   16.8                    2.04   \n",
       "87  Congo, Democratic Republic of the   16.7                    0.56   \n",
       "88                               Mali   16.0                    0.60   \n",
       "89                             Uganda   15.7                    6.82   \n",
       "\n",
       "    Percent of Obesity  Percent of Tobacco Use  Gini Index  Airports  \n",
       "0                  4.3                    20.1        32.9     175.0  \n",
       "1                 22.3                    22.0        31.7     539.0  \n",
       "2                 19.9                    23.1        35.2     129.0  \n",
       "3                 24.9                    33.5        33.1      77.0  \n",
       "4                 20.2                    22.0        24.2      16.0  \n",
       "..                 ...                     ...         ...       ...  \n",
       "85                 8.1                    14.4        57.1      88.0  \n",
       "86                 5.8                    10.8        38.5      32.0  \n",
       "87                 6.7                    12.8        42.1     198.0  \n",
       "88                 8.6                     8.3        36.1      25.0  \n",
       "89                 5.3                     8.4        42.8      47.0  \n",
       "\n",
       "[90 rows x 7 columns]"
      ]
     },
     "execution_count": 102,
     "metadata": {},
     "output_type": "execute_result"
    }
   ],
   "source": [
    "DFmerged"
   ]
  },
  {
   "cell_type": "code",
   "execution_count": 104,
   "id": "daf7fd88",
   "metadata": {},
   "outputs": [],
   "source": [
    "DFmerged.to_csv(\"Country Comparison.csv\",index=False)"
   ]
  },
  {
   "cell_type": "code",
   "execution_count": 105,
   "id": "a8b76e7f",
   "metadata": {},
   "outputs": [],
   "source": [
    "Countrycsv=pd.read_csv('Country Comparison.csv')"
   ]
  },
  {
   "cell_type": "code",
   "execution_count": 106,
   "id": "3186a289",
   "metadata": {
    "scrolled": true
   },
   "outputs": [
    {
     "name": "stdout",
     "output_type": "stream",
     "text": [
      "<class 'pandas.core.frame.DataFrame'>\n",
      "RangeIndex: 90 entries, 0 to 89\n",
      "Data columns (total 7 columns):\n",
      " #   Column                  Non-Null Count  Dtype  \n",
      "---  ------                  --------------  -----  \n",
      " 0   Country                 90 non-null     object \n",
      " 1   Years                   90 non-null     float64\n",
      " 2   liters of pure alcohol  90 non-null     float64\n",
      " 3   Percent of Obesity      90 non-null     float64\n",
      " 4   Percent of Tobacco Use  90 non-null     float64\n",
      " 5   Gini Index              90 non-null     float64\n",
      " 6   Airports                85 non-null     float64\n",
      "dtypes: float64(6), object(1)\n",
      "memory usage: 5.0+ KB\n"
     ]
    }
   ],
   "source": [
    "Countrycsv.info()"
   ]
  }
 ],
 "metadata": {
  "kernelspec": {
   "display_name": "Python 3 (ipykernel)",
   "language": "python",
   "name": "python3"
  },
  "language_info": {
   "codemirror_mode": {
    "name": "ipython",
    "version": 3
   },
   "file_extension": ".py",
   "mimetype": "text/x-python",
   "name": "python",
   "nbconvert_exporter": "python",
   "pygments_lexer": "ipython3",
   "version": "3.9.13"
  }
 },
 "nbformat": 4,
 "nbformat_minor": 5
}
