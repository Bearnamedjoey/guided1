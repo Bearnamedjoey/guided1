{
 "cells": [
  {
   "cell_type": "markdown",
   "id": "5e132d03",
   "metadata": {},
   "source": [
    "#hello world"
   ]
  },
  {
   "cell_type": "code",
   "execution_count": 2,
   "id": "8cfa3435",
   "metadata": {
    "scrolled": true
   },
   "outputs": [
    {
     "data": {
      "text/html": [
       "\n",
       "        <iframe\n",
       "            width=\"900\"\n",
       "            height=\"500\"\n",
       "            src=\"https://www.cia.gov/the-world-factbook/field/median-age/country-comparison\"\n",
       "            frameborder=\"0\"\n",
       "            allowfullscreen\n",
       "            \n",
       "        ></iframe>\n",
       "        "
      ],
      "text/plain": [
       "<IPython.lib.display.IFrame at 0x7fabd1db9160>"
      ]
     },
     "execution_count": 2,
     "metadata": {},
     "output_type": "execute_result"
    }
   ],
   "source": [
    "from IPython.display import IFrame \n",
    "agelink=\"https://www.cia.gov/the-world-factbook/field/median-age/country-comparison\"\n",
    "IFrame(agelink, width=900, height=500)"
   ]
  },
  {
   "cell_type": "code",
   "execution_count": 15,
   "id": "a4676412",
   "metadata": {
    "scrolled": true
   },
   "outputs": [
    {
     "data": {
      "text/html": [
       "<div>\n",
       "<style scoped>\n",
       "    .dataframe tbody tr th:only-of-type {\n",
       "        vertical-align: middle;\n",
       "    }\n",
       "\n",
       "    .dataframe tbody tr th {\n",
       "        vertical-align: top;\n",
       "    }\n",
       "\n",
       "    .dataframe thead th {\n",
       "        text-align: right;\n",
       "    }\n",
       "</style>\n",
       "<table border=\"1\" class=\"dataframe\">\n",
       "  <thead>\n",
       "    <tr style=\"text-align: right;\">\n",
       "      <th></th>\n",
       "      <th>Rank</th>\n",
       "      <th>Country</th>\n",
       "      <th>years</th>\n",
       "      <th>Date of Information</th>\n",
       "    </tr>\n",
       "  </thead>\n",
       "  <tbody>\n",
       "    <tr>\n",
       "      <th>0</th>\n",
       "      <td>1</td>\n",
       "      <td>Monaco</td>\n",
       "      <td>55.4</td>\n",
       "      <td>NaN</td>\n",
       "    </tr>\n",
       "    <tr>\n",
       "      <th>1</th>\n",
       "      <td>2</td>\n",
       "      <td>Japan</td>\n",
       "      <td>48.6</td>\n",
       "      <td>NaN</td>\n",
       "    </tr>\n",
       "    <tr>\n",
       "      <th>2</th>\n",
       "      <td>3</td>\n",
       "      <td>Saint Pierre and Miquelon</td>\n",
       "      <td>48.5</td>\n",
       "      <td>NaN</td>\n",
       "    </tr>\n",
       "    <tr>\n",
       "      <th>3</th>\n",
       "      <td>4</td>\n",
       "      <td>Germany</td>\n",
       "      <td>47.8</td>\n",
       "      <td>NaN</td>\n",
       "    </tr>\n",
       "    <tr>\n",
       "      <th>4</th>\n",
       "      <td>5</td>\n",
       "      <td>Italy</td>\n",
       "      <td>46.5</td>\n",
       "      <td>NaN</td>\n",
       "    </tr>\n",
       "  </tbody>\n",
       "</table>\n",
       "</div>"
      ],
      "text/plain": [
       "   Rank                    Country  years Date of Information\n",
       "0     1                     Monaco   55.4                 NaN\n",
       "1     2                      Japan   48.6                 NaN\n",
       "2     3  Saint Pierre and Miquelon   48.5                 NaN\n",
       "3     4                    Germany   47.8                 NaN\n",
       "4     5                      Italy   46.5                 NaN"
      ]
     },
     "execution_count": 15,
     "metadata": {},
     "output_type": "execute_result"
    }
   ],
   "source": [
    "import pandas as pd\n",
    "agetable=pd.read_html(agelink, header=0, flavor='bs4')\n",
    "agetable[0].head()\n"
   ]
  },
  {
   "cell_type": "code",
   "execution_count": 5,
   "id": "30f20a0d",
   "metadata": {
    "scrolled": true
   },
   "outputs": [
    {
     "data": {
      "text/plain": [
       "[     Rank                    Country  years Date of Information\n",
       " 0       1                     Monaco   55.4                 NaN\n",
       " 1       2                      Japan   48.6                 NaN\n",
       " 2       3  Saint Pierre and Miquelon   48.5                 NaN\n",
       " 3       4                    Germany   47.8                 NaN\n",
       " 4       5                      Italy   46.5                 NaN\n",
       " ..    ...                        ...    ...                 ...\n",
       " 222   223                       Chad   16.1                 NaN\n",
       " 223   224                       Mali   16.0                 NaN\n",
       " 224   225                     Angola   15.9                 NaN\n",
       " 225   226                     Uganda   15.7                 NaN\n",
       " 226   227                      Niger   14.8                 NaN\n",
       " \n",
       " [227 rows x 4 columns]]"
      ]
     },
     "execution_count": 5,
     "metadata": {},
     "output_type": "execute_result"
    }
   ],
   "source": [
    "agetable"
   ]
  },
  {
   "cell_type": "code",
   "execution_count": 21,
   "id": "09c7fa3a",
   "metadata": {},
   "outputs": [],
   "source": [
    "DFage=agetable[0].copy()"
   ]
  },
  {
   "cell_type": "code",
   "execution_count": 22,
   "id": "01c190cd",
   "metadata": {},
   "outputs": [
    {
     "data": {
      "text/plain": [
       "Index(['Rank', 'Country', 'years', 'Date of Information'], dtype='object')"
      ]
     },
     "execution_count": 22,
     "metadata": {},
     "output_type": "execute_result"
    }
   ],
   "source": [
    "DFage.columns"
   ]
  },
  {
   "cell_type": "code",
   "execution_count": 23,
   "id": "2aab2a7e",
   "metadata": {
    "scrolled": true
   },
   "outputs": [
    {
     "data": {
      "text/html": [
       "<div>\n",
       "<style scoped>\n",
       "    .dataframe tbody tr th:only-of-type {\n",
       "        vertical-align: middle;\n",
       "    }\n",
       "\n",
       "    .dataframe tbody tr th {\n",
       "        vertical-align: top;\n",
       "    }\n",
       "\n",
       "    .dataframe thead th {\n",
       "        text-align: right;\n",
       "    }\n",
       "</style>\n",
       "<table border=\"1\" class=\"dataframe\">\n",
       "  <thead>\n",
       "    <tr style=\"text-align: right;\">\n",
       "      <th></th>\n",
       "      <th>Rank</th>\n",
       "      <th>Country</th>\n",
       "      <th>years</th>\n",
       "    </tr>\n",
       "  </thead>\n",
       "  <tbody>\n",
       "    <tr>\n",
       "      <th>0</th>\n",
       "      <td>1</td>\n",
       "      <td>Monaco</td>\n",
       "      <td>55.4</td>\n",
       "    </tr>\n",
       "    <tr>\n",
       "      <th>1</th>\n",
       "      <td>2</td>\n",
       "      <td>Japan</td>\n",
       "      <td>48.6</td>\n",
       "    </tr>\n",
       "    <tr>\n",
       "      <th>2</th>\n",
       "      <td>3</td>\n",
       "      <td>Saint Pierre and Miquelon</td>\n",
       "      <td>48.5</td>\n",
       "    </tr>\n",
       "    <tr>\n",
       "      <th>3</th>\n",
       "      <td>4</td>\n",
       "      <td>Germany</td>\n",
       "      <td>47.8</td>\n",
       "    </tr>\n",
       "    <tr>\n",
       "      <th>4</th>\n",
       "      <td>5</td>\n",
       "      <td>Italy</td>\n",
       "      <td>46.5</td>\n",
       "    </tr>\n",
       "    <tr>\n",
       "      <th>...</th>\n",
       "      <td>...</td>\n",
       "      <td>...</td>\n",
       "      <td>...</td>\n",
       "    </tr>\n",
       "    <tr>\n",
       "      <th>222</th>\n",
       "      <td>223</td>\n",
       "      <td>Chad</td>\n",
       "      <td>16.1</td>\n",
       "    </tr>\n",
       "    <tr>\n",
       "      <th>223</th>\n",
       "      <td>224</td>\n",
       "      <td>Mali</td>\n",
       "      <td>16.0</td>\n",
       "    </tr>\n",
       "    <tr>\n",
       "      <th>224</th>\n",
       "      <td>225</td>\n",
       "      <td>Angola</td>\n",
       "      <td>15.9</td>\n",
       "    </tr>\n",
       "    <tr>\n",
       "      <th>225</th>\n",
       "      <td>226</td>\n",
       "      <td>Uganda</td>\n",
       "      <td>15.7</td>\n",
       "    </tr>\n",
       "    <tr>\n",
       "      <th>226</th>\n",
       "      <td>227</td>\n",
       "      <td>Niger</td>\n",
       "      <td>14.8</td>\n",
       "    </tr>\n",
       "  </tbody>\n",
       "</table>\n",
       "<p>227 rows × 3 columns</p>\n",
       "</div>"
      ],
      "text/plain": [
       "     Rank                    Country  years\n",
       "0       1                     Monaco   55.4\n",
       "1       2                      Japan   48.6\n",
       "2       3  Saint Pierre and Miquelon   48.5\n",
       "3       4                    Germany   47.8\n",
       "4       5                      Italy   46.5\n",
       "..    ...                        ...    ...\n",
       "222   223                       Chad   16.1\n",
       "223   224                       Mali   16.0\n",
       "224   225                     Angola   15.9\n",
       "225   226                     Uganda   15.7\n",
       "226   227                      Niger   14.8\n",
       "\n",
       "[227 rows x 3 columns]"
      ]
     },
     "execution_count": 23,
     "metadata": {},
     "output_type": "execute_result"
    }
   ],
   "source": [
    "bye=[3]\n",
    "DFage.drop(columns=DFage.columns[bye],inplace=True)\n",
    "DFage"
   ]
  },
  {
   "cell_type": "code",
   "execution_count": 24,
   "id": "5d77be04",
   "metadata": {},
   "outputs": [
    {
     "data": {
      "text/plain": [
       "['Rank', 'Country', 'years']"
      ]
     },
     "execution_count": 24,
     "metadata": {},
     "output_type": "execute_result"
    }
   ],
   "source": [
    "DFage.columns.to_list()"
   ]
  },
  {
   "cell_type": "code",
   "execution_count": 27,
   "id": "27681187",
   "metadata": {},
   "outputs": [
    {
     "data": {
      "text/plain": [
       "Index(['Rank', 'Country', 'years'], dtype='object')"
      ]
     },
     "execution_count": 27,
     "metadata": {},
     "output_type": "execute_result"
    }
   ],
   "source": [
    "DFage.columns.str.replace(pat=\"\\W\",repl=\"\",regex=True) \n"
   ]
  },
  {
   "cell_type": "code",
   "execution_count": 28,
   "id": "23f439ad",
   "metadata": {},
   "outputs": [
    {
     "data": {
      "text/plain": [
       "['Rank', 'Country', 'years']"
      ]
     },
     "execution_count": 28,
     "metadata": {},
     "output_type": "execute_result"
    }
   ],
   "source": [
    "DFage.columns.str.replace(\"\\W\",\"\",regex=True).to_list()"
   ]
  },
  {
   "cell_type": "code",
   "execution_count": 29,
   "id": "f55bc5e4",
   "metadata": {},
   "outputs": [],
   "source": [
    "DFage.columns=DFage.columns.str.replace(\"\\W\",\"\",regex=True).to_list()"
   ]
  },
  {
   "cell_type": "code",
   "execution_count": 30,
   "id": "531a7567",
   "metadata": {},
   "outputs": [
    {
     "data": {
      "text/html": [
       "<div>\n",
       "<style scoped>\n",
       "    .dataframe tbody tr th:only-of-type {\n",
       "        vertical-align: middle;\n",
       "    }\n",
       "\n",
       "    .dataframe tbody tr th {\n",
       "        vertical-align: top;\n",
       "    }\n",
       "\n",
       "    .dataframe thead th {\n",
       "        text-align: right;\n",
       "    }\n",
       "</style>\n",
       "<table border=\"1\" class=\"dataframe\">\n",
       "  <thead>\n",
       "    <tr style=\"text-align: right;\">\n",
       "      <th></th>\n",
       "      <th>Rank</th>\n",
       "      <th>Country</th>\n",
       "    </tr>\n",
       "  </thead>\n",
       "  <tbody>\n",
       "    <tr>\n",
       "      <th>0</th>\n",
       "      <td>1</td>\n",
       "      <td>Monaco</td>\n",
       "    </tr>\n",
       "    <tr>\n",
       "      <th>1</th>\n",
       "      <td>2</td>\n",
       "      <td>Japan</td>\n",
       "    </tr>\n",
       "    <tr>\n",
       "      <th>2</th>\n",
       "      <td>3</td>\n",
       "      <td>Saint Pierre and Miquelon</td>\n",
       "    </tr>\n",
       "    <tr>\n",
       "      <th>3</th>\n",
       "      <td>4</td>\n",
       "      <td>Germany</td>\n",
       "    </tr>\n",
       "    <tr>\n",
       "      <th>4</th>\n",
       "      <td>5</td>\n",
       "      <td>Italy</td>\n",
       "    </tr>\n",
       "    <tr>\n",
       "      <th>...</th>\n",
       "      <td>...</td>\n",
       "      <td>...</td>\n",
       "    </tr>\n",
       "    <tr>\n",
       "      <th>222</th>\n",
       "      <td>223</td>\n",
       "      <td>Chad</td>\n",
       "    </tr>\n",
       "    <tr>\n",
       "      <th>223</th>\n",
       "      <td>224</td>\n",
       "      <td>Mali</td>\n",
       "    </tr>\n",
       "    <tr>\n",
       "      <th>224</th>\n",
       "      <td>225</td>\n",
       "      <td>Angola</td>\n",
       "    </tr>\n",
       "    <tr>\n",
       "      <th>225</th>\n",
       "      <td>226</td>\n",
       "      <td>Uganda</td>\n",
       "    </tr>\n",
       "    <tr>\n",
       "      <th>226</th>\n",
       "      <td>227</td>\n",
       "      <td>Niger</td>\n",
       "    </tr>\n",
       "  </tbody>\n",
       "</table>\n",
       "<p>227 rows × 2 columns</p>\n",
       "</div>"
      ],
      "text/plain": [
       "     Rank                    Country\n",
       "0       1                     Monaco\n",
       "1       2                      Japan\n",
       "2       3  Saint Pierre and Miquelon\n",
       "3       4                    Germany\n",
       "4       5                      Italy\n",
       "..    ...                        ...\n",
       "222   223                       Chad\n",
       "223   224                       Mali\n",
       "224   225                     Angola\n",
       "225   226                     Uganda\n",
       "226   227                      Niger\n",
       "\n",
       "[227 rows x 2 columns]"
      ]
     },
     "execution_count": 30,
     "metadata": {},
     "output_type": "execute_result"
    }
   ],
   "source": [
    "DFage.iloc[:,:2]"
   ]
  },
  {
   "cell_type": "code",
   "execution_count": 34,
   "id": "ffc4661c",
   "metadata": {
    "scrolled": false
   },
   "outputs": [
    {
     "data": {
      "text/plain": [
       "0                         Monaco\n",
       "1                          Japan\n",
       "2      Saint Pierre and Miquelon\n",
       "3                        Germany\n",
       "4                          Italy\n",
       "                 ...            \n",
       "222                         Chad\n",
       "223                         Mali\n",
       "224                       Angola\n",
       "225                       Uganda\n",
       "226                        Niger\n",
       "Name: Country, Length: 227, dtype: object"
      ]
     },
     "execution_count": 34,
     "metadata": {},
     "output_type": "execute_result"
    }
   ],
   "source": [
    "DFage.Country.str.strip()"
   ]
  },
  {
   "cell_type": "code",
   "execution_count": 37,
   "id": "a7839881",
   "metadata": {},
   "outputs": [
    {
     "data": {
      "text/plain": [
       "Index(['Rank', 'Country', 'Years'], dtype='object')"
      ]
     },
     "execution_count": 37,
     "metadata": {},
     "output_type": "execute_result"
    }
   ],
   "source": [
    "DFage.columns.str.capitalize()"
   ]
  },
  {
   "cell_type": "code",
   "execution_count": 105,
   "id": "fbb38a7b",
   "metadata": {},
   "outputs": [],
   "source": [
    "DFage.to_csv(\"Medianage.csv\",index=False)"
   ]
  },
  {
   "cell_type": "code",
   "execution_count": 106,
   "id": "0e3baed1",
   "metadata": {},
   "outputs": [
    {
     "name": "stdout",
     "output_type": "stream",
     "text": [
      "<class 'pandas.core.frame.DataFrame'>\n",
      "RangeIndex: 227 entries, 0 to 226\n",
      "Data columns (total 3 columns):\n",
      " #   Column   Non-Null Count  Dtype  \n",
      "---  ------   --------------  -----  \n",
      " 0   Rank     227 non-null    int64  \n",
      " 1   Country  227 non-null    object \n",
      " 2   Years    227 non-null    float64\n",
      "dtypes: float64(1), int64(1), object(1)\n",
      "memory usage: 5.4+ KB\n"
     ]
    }
   ],
   "source": [
    "Agecsv=pd.read_csv('Medianage.csv')\n",
    "\n",
    "Agecsv.info()"
   ]
  },
  {
   "cell_type": "code",
   "execution_count": 77,
   "id": "1b4ae23a",
   "metadata": {
    "scrolled": true
   },
   "outputs": [
    {
     "data": {
      "text/html": [
       "\n",
       "        <iframe\n",
       "            width=\"900\"\n",
       "            height=\"500\"\n",
       "            src=\"https://www.cia.gov/the-world-factbook/field/obesity-adult-prevalence-rate/country-comparison\"\n",
       "            frameborder=\"0\"\n",
       "            allowfullscreen\n",
       "            \n",
       "        ></iframe>\n",
       "        "
      ],
      "text/plain": [
       "<IPython.lib.display.IFrame at 0x7fabb0447af0>"
      ]
     },
     "execution_count": 77,
     "metadata": {},
     "output_type": "execute_result"
    }
   ],
   "source": [
    "from IPython.display import IFrame  \n",
    "obelink=\"https://www.cia.gov/the-world-factbook/field/obesity-adult-prevalence-rate/country-comparison\" \n",
    "IFrame(obelink, width=900, height=500)"
   ]
  },
  {
   "cell_type": "code",
   "execution_count": 78,
   "id": "a34c4ae4",
   "metadata": {},
   "outputs": [],
   "source": [
    "import pandas as pd\n",
    "\n",
    "Obetable=pd.read_html(obelink, \n",
    "                        header=0, \n",
    "                        flavor='bs4')\n",
    "                        "
   ]
  },
  {
   "cell_type": "code",
   "execution_count": 80,
   "id": "a43cef4a",
   "metadata": {},
   "outputs": [
    {
     "data": {
      "text/html": [
       "<div>\n",
       "<style scoped>\n",
       "    .dataframe tbody tr th:only-of-type {\n",
       "        vertical-align: middle;\n",
       "    }\n",
       "\n",
       "    .dataframe tbody tr th {\n",
       "        vertical-align: top;\n",
       "    }\n",
       "\n",
       "    .dataframe thead th {\n",
       "        text-align: right;\n",
       "    }\n",
       "</style>\n",
       "<table border=\"1\" class=\"dataframe\">\n",
       "  <thead>\n",
       "    <tr style=\"text-align: right;\">\n",
       "      <th></th>\n",
       "      <th>Rank</th>\n",
       "      <th>Country</th>\n",
       "      <th>%</th>\n",
       "      <th>Date of Information</th>\n",
       "    </tr>\n",
       "  </thead>\n",
       "  <tbody>\n",
       "    <tr>\n",
       "      <th>0</th>\n",
       "      <td>1</td>\n",
       "      <td>Nauru</td>\n",
       "      <td>61.0</td>\n",
       "      <td>2016</td>\n",
       "    </tr>\n",
       "    <tr>\n",
       "      <th>1</th>\n",
       "      <td>2</td>\n",
       "      <td>Cook Islands</td>\n",
       "      <td>55.9</td>\n",
       "      <td>2016</td>\n",
       "    </tr>\n",
       "    <tr>\n",
       "      <th>2</th>\n",
       "      <td>3</td>\n",
       "      <td>Palau</td>\n",
       "      <td>55.3</td>\n",
       "      <td>2016</td>\n",
       "    </tr>\n",
       "    <tr>\n",
       "      <th>3</th>\n",
       "      <td>4</td>\n",
       "      <td>Marshall Islands</td>\n",
       "      <td>52.9</td>\n",
       "      <td>2016</td>\n",
       "    </tr>\n",
       "    <tr>\n",
       "      <th>4</th>\n",
       "      <td>5</td>\n",
       "      <td>Tuvalu</td>\n",
       "      <td>51.6</td>\n",
       "      <td>2016</td>\n",
       "    </tr>\n",
       "    <tr>\n",
       "      <th>...</th>\n",
       "      <td>...</td>\n",
       "      <td>...</td>\n",
       "      <td>...</td>\n",
       "      <td>...</td>\n",
       "    </tr>\n",
       "    <tr>\n",
       "      <th>187</th>\n",
       "      <td>188</td>\n",
       "      <td>Cambodia</td>\n",
       "      <td>3.9</td>\n",
       "      <td>2016</td>\n",
       "    </tr>\n",
       "    <tr>\n",
       "      <th>188</th>\n",
       "      <td>189</td>\n",
       "      <td>India</td>\n",
       "      <td>3.9</td>\n",
       "      <td>2016</td>\n",
       "    </tr>\n",
       "    <tr>\n",
       "      <th>189</th>\n",
       "      <td>190</td>\n",
       "      <td>Timor-Leste</td>\n",
       "      <td>3.8</td>\n",
       "      <td>2016</td>\n",
       "    </tr>\n",
       "    <tr>\n",
       "      <th>190</th>\n",
       "      <td>191</td>\n",
       "      <td>Bangladesh</td>\n",
       "      <td>3.6</td>\n",
       "      <td>2016</td>\n",
       "    </tr>\n",
       "    <tr>\n",
       "      <th>191</th>\n",
       "      <td>192</td>\n",
       "      <td>Vietnam</td>\n",
       "      <td>2.1</td>\n",
       "      <td>2016</td>\n",
       "    </tr>\n",
       "  </tbody>\n",
       "</table>\n",
       "<p>192 rows × 4 columns</p>\n",
       "</div>"
      ],
      "text/plain": [
       "     Rank           Country     %  Date of Information\n",
       "0       1             Nauru  61.0                 2016\n",
       "1       2      Cook Islands  55.9                 2016\n",
       "2       3             Palau  55.3                 2016\n",
       "3       4  Marshall Islands  52.9                 2016\n",
       "4       5            Tuvalu  51.6                 2016\n",
       "..    ...               ...   ...                  ...\n",
       "187   188          Cambodia   3.9                 2016\n",
       "188   189             India   3.9                 2016\n",
       "189   190       Timor-Leste   3.8                 2016\n",
       "190   191        Bangladesh   3.6                 2016\n",
       "191   192           Vietnam   2.1                 2016\n",
       "\n",
       "[192 rows x 4 columns]"
      ]
     },
     "execution_count": 80,
     "metadata": {},
     "output_type": "execute_result"
    }
   ],
   "source": [
    "Obetable[0]"
   ]
  },
  {
   "cell_type": "code",
   "execution_count": 81,
   "id": "9fbda1a6",
   "metadata": {},
   "outputs": [],
   "source": [
    "DFobe=Obetable[0].copy()"
   ]
  },
  {
   "cell_type": "code",
   "execution_count": 82,
   "id": "85e45b9c",
   "metadata": {},
   "outputs": [
    {
     "data": {
      "text/plain": [
       "Index(['Rank', 'Country', '%', 'Date of Information'], dtype='object')"
      ]
     },
     "execution_count": 82,
     "metadata": {},
     "output_type": "execute_result"
    }
   ],
   "source": [
    "DFobe.columns"
   ]
  },
  {
   "cell_type": "code",
   "execution_count": 83,
   "id": "ffc2c6ae",
   "metadata": {},
   "outputs": [
    {
     "data": {
      "text/html": [
       "<div>\n",
       "<style scoped>\n",
       "    .dataframe tbody tr th:only-of-type {\n",
       "        vertical-align: middle;\n",
       "    }\n",
       "\n",
       "    .dataframe tbody tr th {\n",
       "        vertical-align: top;\n",
       "    }\n",
       "\n",
       "    .dataframe thead th {\n",
       "        text-align: right;\n",
       "    }\n",
       "</style>\n",
       "<table border=\"1\" class=\"dataframe\">\n",
       "  <thead>\n",
       "    <tr style=\"text-align: right;\">\n",
       "      <th></th>\n",
       "      <th>Rank</th>\n",
       "      <th>Country</th>\n",
       "      <th>%</th>\n",
       "    </tr>\n",
       "  </thead>\n",
       "  <tbody>\n",
       "    <tr>\n",
       "      <th>0</th>\n",
       "      <td>1</td>\n",
       "      <td>Nauru</td>\n",
       "      <td>61.0</td>\n",
       "    </tr>\n",
       "    <tr>\n",
       "      <th>1</th>\n",
       "      <td>2</td>\n",
       "      <td>Cook Islands</td>\n",
       "      <td>55.9</td>\n",
       "    </tr>\n",
       "    <tr>\n",
       "      <th>2</th>\n",
       "      <td>3</td>\n",
       "      <td>Palau</td>\n",
       "      <td>55.3</td>\n",
       "    </tr>\n",
       "    <tr>\n",
       "      <th>3</th>\n",
       "      <td>4</td>\n",
       "      <td>Marshall Islands</td>\n",
       "      <td>52.9</td>\n",
       "    </tr>\n",
       "    <tr>\n",
       "      <th>4</th>\n",
       "      <td>5</td>\n",
       "      <td>Tuvalu</td>\n",
       "      <td>51.6</td>\n",
       "    </tr>\n",
       "    <tr>\n",
       "      <th>...</th>\n",
       "      <td>...</td>\n",
       "      <td>...</td>\n",
       "      <td>...</td>\n",
       "    </tr>\n",
       "    <tr>\n",
       "      <th>187</th>\n",
       "      <td>188</td>\n",
       "      <td>Cambodia</td>\n",
       "      <td>3.9</td>\n",
       "    </tr>\n",
       "    <tr>\n",
       "      <th>188</th>\n",
       "      <td>189</td>\n",
       "      <td>India</td>\n",
       "      <td>3.9</td>\n",
       "    </tr>\n",
       "    <tr>\n",
       "      <th>189</th>\n",
       "      <td>190</td>\n",
       "      <td>Timor-Leste</td>\n",
       "      <td>3.8</td>\n",
       "    </tr>\n",
       "    <tr>\n",
       "      <th>190</th>\n",
       "      <td>191</td>\n",
       "      <td>Bangladesh</td>\n",
       "      <td>3.6</td>\n",
       "    </tr>\n",
       "    <tr>\n",
       "      <th>191</th>\n",
       "      <td>192</td>\n",
       "      <td>Vietnam</td>\n",
       "      <td>2.1</td>\n",
       "    </tr>\n",
       "  </tbody>\n",
       "</table>\n",
       "<p>192 rows × 3 columns</p>\n",
       "</div>"
      ],
      "text/plain": [
       "     Rank           Country     %\n",
       "0       1             Nauru  61.0\n",
       "1       2      Cook Islands  55.9\n",
       "2       3             Palau  55.3\n",
       "3       4  Marshall Islands  52.9\n",
       "4       5            Tuvalu  51.6\n",
       "..    ...               ...   ...\n",
       "187   188          Cambodia   3.9\n",
       "188   189             India   3.9\n",
       "189   190       Timor-Leste   3.8\n",
       "190   191        Bangladesh   3.6\n",
       "191   192           Vietnam   2.1\n",
       "\n",
       "[192 rows x 3 columns]"
      ]
     },
     "execution_count": 83,
     "metadata": {},
     "output_type": "execute_result"
    }
   ],
   "source": [
    "bye=[3]\n",
    "DFobe.drop(columns=DFobe.columns[bye],inplace=True)\n",
    "DFobe"
   ]
  },
  {
   "cell_type": "code",
   "execution_count": 88,
   "id": "3d4e5811",
   "metadata": {},
   "outputs": [
    {
     "data": {
      "text/plain": [
       "['Rank', 'Country', '%']"
      ]
     },
     "execution_count": 88,
     "metadata": {},
     "output_type": "execute_result"
    }
   ],
   "source": [
    "DFobe.columns.to_list()"
   ]
  },
  {
   "cell_type": "code",
   "execution_count": 89,
   "id": "af0d358f",
   "metadata": {},
   "outputs": [
    {
     "data": {
      "text/plain": [
       "Index(['Rank', 'Country', 'Percent of Obesity'], dtype='object')"
      ]
     },
     "execution_count": 89,
     "metadata": {},
     "output_type": "execute_result"
    }
   ],
   "source": [
    "DFobe.columns.str.replace(pat=\"%\",\n",
    "                           repl=\"Percent of Obesity\", \n",
    "                           regex=True) "
   ]
  },
  {
   "cell_type": "code",
   "execution_count": 90,
   "id": "d179b900",
   "metadata": {},
   "outputs": [
    {
     "data": {
      "text/plain": [
       "['Rank', 'Country', 'Percent of Obesity']"
      ]
     },
     "execution_count": 90,
     "metadata": {},
     "output_type": "execute_result"
    }
   ],
   "source": [
    "DFobe.columns.str.replace(\"%\",\"Percent of Obesity\",regex=True).to_list()"
   ]
  },
  {
   "cell_type": "code",
   "execution_count": 91,
   "id": "67962786",
   "metadata": {},
   "outputs": [],
   "source": [
    "DFobe.columns=DFobe.columns.str.replace(\"%\",\"Percent of Obesity\",regex=True).to_list()"
   ]
  },
  {
   "cell_type": "code",
   "execution_count": 93,
   "id": "80b35b15",
   "metadata": {},
   "outputs": [
    {
     "data": {
      "text/html": [
       "<div>\n",
       "<style scoped>\n",
       "    .dataframe tbody tr th:only-of-type {\n",
       "        vertical-align: middle;\n",
       "    }\n",
       "\n",
       "    .dataframe tbody tr th {\n",
       "        vertical-align: top;\n",
       "    }\n",
       "\n",
       "    .dataframe thead th {\n",
       "        text-align: right;\n",
       "    }\n",
       "</style>\n",
       "<table border=\"1\" class=\"dataframe\">\n",
       "  <thead>\n",
       "    <tr style=\"text-align: right;\">\n",
       "      <th></th>\n",
       "      <th>Rank</th>\n",
       "      <th>Country</th>\n",
       "      <th>Percent of Obesity</th>\n",
       "    </tr>\n",
       "  </thead>\n",
       "  <tbody>\n",
       "    <tr>\n",
       "      <th>0</th>\n",
       "      <td>1</td>\n",
       "      <td>Nauru</td>\n",
       "      <td>61.0</td>\n",
       "    </tr>\n",
       "    <tr>\n",
       "      <th>1</th>\n",
       "      <td>2</td>\n",
       "      <td>Cook Islands</td>\n",
       "      <td>55.9</td>\n",
       "    </tr>\n",
       "    <tr>\n",
       "      <th>2</th>\n",
       "      <td>3</td>\n",
       "      <td>Palau</td>\n",
       "      <td>55.3</td>\n",
       "    </tr>\n",
       "    <tr>\n",
       "      <th>3</th>\n",
       "      <td>4</td>\n",
       "      <td>Marshall Islands</td>\n",
       "      <td>52.9</td>\n",
       "    </tr>\n",
       "    <tr>\n",
       "      <th>4</th>\n",
       "      <td>5</td>\n",
       "      <td>Tuvalu</td>\n",
       "      <td>51.6</td>\n",
       "    </tr>\n",
       "    <tr>\n",
       "      <th>...</th>\n",
       "      <td>...</td>\n",
       "      <td>...</td>\n",
       "      <td>...</td>\n",
       "    </tr>\n",
       "    <tr>\n",
       "      <th>187</th>\n",
       "      <td>188</td>\n",
       "      <td>Cambodia</td>\n",
       "      <td>3.9</td>\n",
       "    </tr>\n",
       "    <tr>\n",
       "      <th>188</th>\n",
       "      <td>189</td>\n",
       "      <td>India</td>\n",
       "      <td>3.9</td>\n",
       "    </tr>\n",
       "    <tr>\n",
       "      <th>189</th>\n",
       "      <td>190</td>\n",
       "      <td>Timor-Leste</td>\n",
       "      <td>3.8</td>\n",
       "    </tr>\n",
       "    <tr>\n",
       "      <th>190</th>\n",
       "      <td>191</td>\n",
       "      <td>Bangladesh</td>\n",
       "      <td>3.6</td>\n",
       "    </tr>\n",
       "    <tr>\n",
       "      <th>191</th>\n",
       "      <td>192</td>\n",
       "      <td>Vietnam</td>\n",
       "      <td>2.1</td>\n",
       "    </tr>\n",
       "  </tbody>\n",
       "</table>\n",
       "<p>192 rows × 3 columns</p>\n",
       "</div>"
      ],
      "text/plain": [
       "     Rank           Country  Percent of Obesity\n",
       "0       1             Nauru                61.0\n",
       "1       2      Cook Islands                55.9\n",
       "2       3             Palau                55.3\n",
       "3       4  Marshall Islands                52.9\n",
       "4       5            Tuvalu                51.6\n",
       "..    ...               ...                 ...\n",
       "187   188          Cambodia                 3.9\n",
       "188   189             India                 3.9\n",
       "189   190       Timor-Leste                 3.8\n",
       "190   191        Bangladesh                 3.6\n",
       "191   192           Vietnam                 2.1\n",
       "\n",
       "[192 rows x 3 columns]"
      ]
     },
     "execution_count": 93,
     "metadata": {},
     "output_type": "execute_result"
    }
   ],
   "source": [
    "DFobe.iloc[:,:3]"
   ]
  },
  {
   "cell_type": "code",
   "execution_count": 84,
   "id": "43a4b155",
   "metadata": {},
   "outputs": [
    {
     "data": {
      "text/plain": [
       "0                 Nauru\n",
       "1          Cook Islands\n",
       "2                 Palau\n",
       "3      Marshall Islands\n",
       "4                Tuvalu\n",
       "             ...       \n",
       "187            Cambodia\n",
       "188               India\n",
       "189         Timor-Leste\n",
       "190          Bangladesh\n",
       "191             Vietnam\n",
       "Name: Country, Length: 192, dtype: object"
      ]
     },
     "execution_count": 84,
     "metadata": {},
     "output_type": "execute_result"
    }
   ],
   "source": [
    "DFobe.Country.str.strip()"
   ]
  },
  {
   "cell_type": "code",
   "execution_count": 100,
   "id": "1413a3d7",
   "metadata": {},
   "outputs": [
    {
     "name": "stdout",
     "output_type": "stream",
     "text": [
      "<class 'pandas.core.frame.DataFrame'>\n",
      "RangeIndex: 192 entries, 0 to 191\n",
      "Data columns (total 3 columns):\n",
      " #   Column              Non-Null Count  Dtype  \n",
      "---  ------              --------------  -----  \n",
      " 0   Rank                192 non-null    int64  \n",
      " 1   Country             192 non-null    object \n",
      " 2   Percent of Obesity  192 non-null    float64\n",
      "dtypes: float64(1), int64(1), object(1)\n",
      "memory usage: 4.6+ KB\n"
     ]
    }
   ],
   "source": [
    "DFobe.info()"
   ]
  },
  {
   "cell_type": "code",
   "execution_count": 101,
   "id": "c53c80ff",
   "metadata": {},
   "outputs": [],
   "source": [
    "DFobe.to_csv(\"obesity.csv\",index=False)"
   ]
  },
  {
   "cell_type": "code",
   "execution_count": 102,
   "id": "42a218c2",
   "metadata": {},
   "outputs": [],
   "source": [
    "Obesitycsv=pd.read_csv('obesity.csv')"
   ]
  },
  {
   "cell_type": "code",
   "execution_count": 103,
   "id": "4ae74e48",
   "metadata": {},
   "outputs": [
    {
     "name": "stdout",
     "output_type": "stream",
     "text": [
      "<class 'pandas.core.frame.DataFrame'>\n",
      "RangeIndex: 192 entries, 0 to 191\n",
      "Data columns (total 3 columns):\n",
      " #   Column              Non-Null Count  Dtype  \n",
      "---  ------              --------------  -----  \n",
      " 0   Rank                192 non-null    int64  \n",
      " 1   Country             192 non-null    object \n",
      " 2   Percent of Obesity  192 non-null    float64\n",
      "dtypes: float64(1), int64(1), object(1)\n",
      "memory usage: 4.6+ KB\n"
     ]
    }
   ],
   "source": [
    "Obesitycsv.info()"
   ]
  },
  {
   "cell_type": "code",
   "execution_count": 107,
   "id": "41f42ba3",
   "metadata": {},
   "outputs": [
    {
     "data": {
      "text/html": [
       "\n",
       "        <iframe\n",
       "            width=\"900\"\n",
       "            height=\"500\"\n",
       "            src=\"https://www.cia.gov/the-world-factbook/field/alcohol-consumption-per-capita/country-comparison\"\n",
       "            frameborder=\"0\"\n",
       "            allowfullscreen\n",
       "            \n",
       "        ></iframe>\n",
       "        "
      ],
      "text/plain": [
       "<IPython.lib.display.IFrame at 0x7fabc18e8700>"
      ]
     },
     "execution_count": 107,
     "metadata": {},
     "output_type": "execute_result"
    }
   ],
   "source": [
    "from IPython.display import IFrame  \n",
    "alclink=\"https://www.cia.gov/the-world-factbook/field/alcohol-consumption-per-capita/country-comparison\" \n",
    "IFrame(alclink, width=900, height=500)"
   ]
  },
  {
   "cell_type": "code",
   "execution_count": 108,
   "id": "d2cfd4bf",
   "metadata": {},
   "outputs": [],
   "source": [
    "import pandas as pd\n",
    "\n",
    "Alctable=pd.read_html(alclink, \n",
    "                        header=0, \n",
    "                        flavor='bs4')\n",
    "                        "
   ]
  },
  {
   "cell_type": "code",
   "execution_count": 110,
   "id": "0fd53788",
   "metadata": {},
   "outputs": [
    {
     "data": {
      "text/html": [
       "<div>\n",
       "<style scoped>\n",
       "    .dataframe tbody tr th:only-of-type {\n",
       "        vertical-align: middle;\n",
       "    }\n",
       "\n",
       "    .dataframe tbody tr th {\n",
       "        vertical-align: top;\n",
       "    }\n",
       "\n",
       "    .dataframe thead th {\n",
       "        text-align: right;\n",
       "    }\n",
       "</style>\n",
       "<table border=\"1\" class=\"dataframe\">\n",
       "  <thead>\n",
       "    <tr style=\"text-align: right;\">\n",
       "      <th></th>\n",
       "      <th>Rank</th>\n",
       "      <th>Country</th>\n",
       "      <th>liters of pure alcohol</th>\n",
       "      <th>Date of Information</th>\n",
       "    </tr>\n",
       "  </thead>\n",
       "  <tbody>\n",
       "    <tr>\n",
       "      <th>0</th>\n",
       "      <td>1</td>\n",
       "      <td>Cook Islands</td>\n",
       "      <td>12.97</td>\n",
       "      <td>2019 est.</td>\n",
       "    </tr>\n",
       "    <tr>\n",
       "      <th>1</th>\n",
       "      <td>2</td>\n",
       "      <td>Latvia</td>\n",
       "      <td>12.90</td>\n",
       "      <td>2019 est.</td>\n",
       "    </tr>\n",
       "    <tr>\n",
       "      <th>2</th>\n",
       "      <td>3</td>\n",
       "      <td>Czechia</td>\n",
       "      <td>12.73</td>\n",
       "      <td>2019 est.</td>\n",
       "    </tr>\n",
       "    <tr>\n",
       "      <th>3</th>\n",
       "      <td>4</td>\n",
       "      <td>Lithuania</td>\n",
       "      <td>11.93</td>\n",
       "      <td>2019 est.</td>\n",
       "    </tr>\n",
       "    <tr>\n",
       "      <th>4</th>\n",
       "      <td>5</td>\n",
       "      <td>Austria</td>\n",
       "      <td>11.90</td>\n",
       "      <td>2019 est.</td>\n",
       "    </tr>\n",
       "    <tr>\n",
       "      <th>...</th>\n",
       "      <td>...</td>\n",
       "      <td>...</td>\n",
       "      <td>...</td>\n",
       "      <td>...</td>\n",
       "    </tr>\n",
       "    <tr>\n",
       "      <th>184</th>\n",
       "      <td>185</td>\n",
       "      <td>Bangladesh</td>\n",
       "      <td>0.00</td>\n",
       "      <td>2019 est.</td>\n",
       "    </tr>\n",
       "    <tr>\n",
       "      <th>185</th>\n",
       "      <td>186</td>\n",
       "      <td>Kuwait</td>\n",
       "      <td>0.00</td>\n",
       "      <td>2019 est.</td>\n",
       "    </tr>\n",
       "    <tr>\n",
       "      <th>186</th>\n",
       "      <td>187</td>\n",
       "      <td>Mauritania</td>\n",
       "      <td>0.00</td>\n",
       "      <td>2019 est.</td>\n",
       "    </tr>\n",
       "    <tr>\n",
       "      <th>187</th>\n",
       "      <td>188</td>\n",
       "      <td>Saudi Arabia</td>\n",
       "      <td>0.00</td>\n",
       "      <td>2019 est.</td>\n",
       "    </tr>\n",
       "    <tr>\n",
       "      <th>188</th>\n",
       "      <td>189</td>\n",
       "      <td>Somalia</td>\n",
       "      <td>0.00</td>\n",
       "      <td>2019 est.</td>\n",
       "    </tr>\n",
       "  </tbody>\n",
       "</table>\n",
       "<p>189 rows × 4 columns</p>\n",
       "</div>"
      ],
      "text/plain": [
       "     Rank       Country  liters of pure alcohol Date of Information\n",
       "0       1  Cook Islands                   12.97           2019 est.\n",
       "1       2        Latvia                   12.90           2019 est.\n",
       "2       3       Czechia                   12.73           2019 est.\n",
       "3       4     Lithuania                   11.93           2019 est.\n",
       "4       5       Austria                   11.90           2019 est.\n",
       "..    ...           ...                     ...                 ...\n",
       "184   185    Bangladesh                    0.00           2019 est.\n",
       "185   186        Kuwait                    0.00           2019 est.\n",
       "186   187    Mauritania                    0.00           2019 est.\n",
       "187   188  Saudi Arabia                    0.00           2019 est.\n",
       "188   189       Somalia                    0.00           2019 est.\n",
       "\n",
       "[189 rows x 4 columns]"
      ]
     },
     "execution_count": 110,
     "metadata": {},
     "output_type": "execute_result"
    }
   ],
   "source": [
    "Alctable[0]"
   ]
  },
  {
   "cell_type": "code",
   "execution_count": 111,
   "id": "da13c003",
   "metadata": {},
   "outputs": [],
   "source": [
    "DFalc=Alctable[0].copy()"
   ]
  },
  {
   "cell_type": "code",
   "execution_count": 112,
   "id": "0b07fc58",
   "metadata": {},
   "outputs": [
    {
     "data": {
      "text/plain": [
       "Index(['Rank', 'Country', 'liters of pure alcohol', 'Date of Information'], dtype='object')"
      ]
     },
     "execution_count": 112,
     "metadata": {},
     "output_type": "execute_result"
    }
   ],
   "source": [
    "DFalc.columns"
   ]
  },
  {
   "cell_type": "code",
   "execution_count": 113,
   "id": "3e7063d6",
   "metadata": {},
   "outputs": [
    {
     "data": {
      "text/html": [
       "<div>\n",
       "<style scoped>\n",
       "    .dataframe tbody tr th:only-of-type {\n",
       "        vertical-align: middle;\n",
       "    }\n",
       "\n",
       "    .dataframe tbody tr th {\n",
       "        vertical-align: top;\n",
       "    }\n",
       "\n",
       "    .dataframe thead th {\n",
       "        text-align: right;\n",
       "    }\n",
       "</style>\n",
       "<table border=\"1\" class=\"dataframe\">\n",
       "  <thead>\n",
       "    <tr style=\"text-align: right;\">\n",
       "      <th></th>\n",
       "      <th>Rank</th>\n",
       "      <th>Country</th>\n",
       "      <th>liters of pure alcohol</th>\n",
       "    </tr>\n",
       "  </thead>\n",
       "  <tbody>\n",
       "    <tr>\n",
       "      <th>0</th>\n",
       "      <td>1</td>\n",
       "      <td>Cook Islands</td>\n",
       "      <td>12.97</td>\n",
       "    </tr>\n",
       "    <tr>\n",
       "      <th>1</th>\n",
       "      <td>2</td>\n",
       "      <td>Latvia</td>\n",
       "      <td>12.90</td>\n",
       "    </tr>\n",
       "    <tr>\n",
       "      <th>2</th>\n",
       "      <td>3</td>\n",
       "      <td>Czechia</td>\n",
       "      <td>12.73</td>\n",
       "    </tr>\n",
       "    <tr>\n",
       "      <th>3</th>\n",
       "      <td>4</td>\n",
       "      <td>Lithuania</td>\n",
       "      <td>11.93</td>\n",
       "    </tr>\n",
       "    <tr>\n",
       "      <th>4</th>\n",
       "      <td>5</td>\n",
       "      <td>Austria</td>\n",
       "      <td>11.90</td>\n",
       "    </tr>\n",
       "    <tr>\n",
       "      <th>...</th>\n",
       "      <td>...</td>\n",
       "      <td>...</td>\n",
       "      <td>...</td>\n",
       "    </tr>\n",
       "    <tr>\n",
       "      <th>184</th>\n",
       "      <td>185</td>\n",
       "      <td>Bangladesh</td>\n",
       "      <td>0.00</td>\n",
       "    </tr>\n",
       "    <tr>\n",
       "      <th>185</th>\n",
       "      <td>186</td>\n",
       "      <td>Kuwait</td>\n",
       "      <td>0.00</td>\n",
       "    </tr>\n",
       "    <tr>\n",
       "      <th>186</th>\n",
       "      <td>187</td>\n",
       "      <td>Mauritania</td>\n",
       "      <td>0.00</td>\n",
       "    </tr>\n",
       "    <tr>\n",
       "      <th>187</th>\n",
       "      <td>188</td>\n",
       "      <td>Saudi Arabia</td>\n",
       "      <td>0.00</td>\n",
       "    </tr>\n",
       "    <tr>\n",
       "      <th>188</th>\n",
       "      <td>189</td>\n",
       "      <td>Somalia</td>\n",
       "      <td>0.00</td>\n",
       "    </tr>\n",
       "  </tbody>\n",
       "</table>\n",
       "<p>189 rows × 3 columns</p>\n",
       "</div>"
      ],
      "text/plain": [
       "     Rank       Country  liters of pure alcohol\n",
       "0       1  Cook Islands                   12.97\n",
       "1       2        Latvia                   12.90\n",
       "2       3       Czechia                   12.73\n",
       "3       4     Lithuania                   11.93\n",
       "4       5       Austria                   11.90\n",
       "..    ...           ...                     ...\n",
       "184   185    Bangladesh                    0.00\n",
       "185   186        Kuwait                    0.00\n",
       "186   187    Mauritania                    0.00\n",
       "187   188  Saudi Arabia                    0.00\n",
       "188   189       Somalia                    0.00\n",
       "\n",
       "[189 rows x 3 columns]"
      ]
     },
     "execution_count": 113,
     "metadata": {},
     "output_type": "execute_result"
    }
   ],
   "source": [
    "bye=[3]\n",
    "DFalc.drop(columns=DFalc.columns[bye],inplace=True)\n",
    "DFalc"
   ]
  },
  {
   "cell_type": "code",
   "execution_count": 114,
   "id": "32e317cd",
   "metadata": {},
   "outputs": [
    {
     "data": {
      "text/plain": [
       "['Rank', 'Country', 'liters of pure alcohol']"
      ]
     },
     "execution_count": 114,
     "metadata": {},
     "output_type": "execute_result"
    }
   ],
   "source": [
    "DFalc.columns.to_list()"
   ]
  },
  {
   "cell_type": "code",
   "execution_count": 117,
   "id": "53b2410e",
   "metadata": {},
   "outputs": [
    {
     "data": {
      "text/plain": [
       "0      Cook Islands\n",
       "1            Latvia\n",
       "2           Czechia\n",
       "3         Lithuania\n",
       "4           Austria\n",
       "           ...     \n",
       "184      Bangladesh\n",
       "185          Kuwait\n",
       "186      Mauritania\n",
       "187    Saudi Arabia\n",
       "188         Somalia\n",
       "Name: Country, Length: 189, dtype: object"
      ]
     },
     "execution_count": 117,
     "metadata": {},
     "output_type": "execute_result"
    }
   ],
   "source": [
    "DFalc.Country.str.strip()"
   ]
  },
  {
   "cell_type": "code",
   "execution_count": 129,
   "id": "488df0e3",
   "metadata": {},
   "outputs": [
    {
     "data": {
      "text/plain": [
       "Index(['Rank', 'Country', 'liters of pure alcohol'], dtype='object')"
      ]
     },
     "execution_count": 129,
     "metadata": {},
     "output_type": "execute_result"
    }
   ],
   "source": [
    "DFalc.columns"
   ]
  },
  {
   "cell_type": "code",
   "execution_count": 134,
   "id": "a2180572",
   "metadata": {},
   "outputs": [
    {
     "data": {
      "text/plain": [
       "Index(['Rank', 'Country', 'Liters of pure alcohol'], dtype='object')"
      ]
     },
     "execution_count": 134,
     "metadata": {},
     "output_type": "execute_result"
    }
   ],
   "source": [
    "DFalc.columns.str.capitalize()"
   ]
  },
  {
   "cell_type": "code",
   "execution_count": 136,
   "id": "aeaa9ce1",
   "metadata": {},
   "outputs": [],
   "source": [
    "DFalc.to_csv(\"Alcohol.csv\",index=False)"
   ]
  },
  {
   "cell_type": "code",
   "execution_count": 137,
   "id": "24a230bf",
   "metadata": {},
   "outputs": [],
   "source": [
    "Alccsv=pd.read_csv('Alcohol.csv')"
   ]
  },
  {
   "cell_type": "code",
   "execution_count": 138,
   "id": "638dfdee",
   "metadata": {},
   "outputs": [
    {
     "name": "stdout",
     "output_type": "stream",
     "text": [
      "<class 'pandas.core.frame.DataFrame'>\n",
      "RangeIndex: 189 entries, 0 to 188\n",
      "Data columns (total 3 columns):\n",
      " #   Column                  Non-Null Count  Dtype  \n",
      "---  ------                  --------------  -----  \n",
      " 0   Rank                    189 non-null    int64  \n",
      " 1   Country                 189 non-null    object \n",
      " 2   liters of pure alcohol  189 non-null    float64\n",
      "dtypes: float64(1), int64(1), object(1)\n",
      "memory usage: 4.6+ KB\n"
     ]
    }
   ],
   "source": [
    "DFalc.info()"
   ]
  },
  {
   "cell_type": "code",
   "execution_count": 139,
   "id": "54f2249c",
   "metadata": {},
   "outputs": [
    {
     "data": {
      "text/html": [
       "\n",
       "        <iframe\n",
       "            width=\"900\"\n",
       "            height=\"500\"\n",
       "            src=\"https://www.cia.gov/the-world-factbook/field/tobacco-use/country-comparison\"\n",
       "            frameborder=\"0\"\n",
       "            allowfullscreen\n",
       "            \n",
       "        ></iframe>\n",
       "        "
      ],
      "text/plain": [
       "<IPython.lib.display.IFrame at 0x7faba0342070>"
      ]
     },
     "execution_count": 139,
     "metadata": {},
     "output_type": "execute_result"
    }
   ],
   "source": [
    "from IPython.display import IFrame  \n",
    "tbclink=\"https://www.cia.gov/the-world-factbook/field/tobacco-use/country-comparison\" \n",
    "IFrame(tbclink, width=900, height=500)"
   ]
  },
  {
   "cell_type": "code",
   "execution_count": 140,
   "id": "db5e136c",
   "metadata": {},
   "outputs": [],
   "source": [
    "import pandas as pd\n",
    "\n",
    "Tbctable=pd.read_html(tbclink, \n",
    "                        header=0, \n",
    "                        flavor='bs4',)\n",
    "                        "
   ]
  },
  {
   "cell_type": "code",
   "execution_count": 141,
   "id": "d3069100",
   "metadata": {},
   "outputs": [
    {
     "data": {
      "text/html": [
       "<div>\n",
       "<style scoped>\n",
       "    .dataframe tbody tr th:only-of-type {\n",
       "        vertical-align: middle;\n",
       "    }\n",
       "\n",
       "    .dataframe tbody tr th {\n",
       "        vertical-align: top;\n",
       "    }\n",
       "\n",
       "    .dataframe thead th {\n",
       "        text-align: right;\n",
       "    }\n",
       "</style>\n",
       "<table border=\"1\" class=\"dataframe\">\n",
       "  <thead>\n",
       "    <tr style=\"text-align: right;\">\n",
       "      <th></th>\n",
       "      <th>Rank</th>\n",
       "      <th>Country</th>\n",
       "      <th>%</th>\n",
       "      <th>Date of Information</th>\n",
       "    </tr>\n",
       "  </thead>\n",
       "  <tbody>\n",
       "    <tr>\n",
       "      <th>0</th>\n",
       "      <td>1</td>\n",
       "      <td>Nauru</td>\n",
       "      <td>48.5</td>\n",
       "      <td>2020 est.</td>\n",
       "    </tr>\n",
       "    <tr>\n",
       "      <th>1</th>\n",
       "      <td>2</td>\n",
       "      <td>Burma</td>\n",
       "      <td>44.1</td>\n",
       "      <td>2020 est.</td>\n",
       "    </tr>\n",
       "    <tr>\n",
       "      <th>2</th>\n",
       "      <td>3</td>\n",
       "      <td>Kiribati</td>\n",
       "      <td>40.6</td>\n",
       "      <td>2020 est.</td>\n",
       "    </tr>\n",
       "    <tr>\n",
       "      <th>3</th>\n",
       "      <td>4</td>\n",
       "      <td>Serbia</td>\n",
       "      <td>39.8</td>\n",
       "      <td>2020 est.</td>\n",
       "    </tr>\n",
       "    <tr>\n",
       "      <th>4</th>\n",
       "      <td>5</td>\n",
       "      <td>Papua New Guinea</td>\n",
       "      <td>39.3</td>\n",
       "      <td>2020 est.</td>\n",
       "    </tr>\n",
       "    <tr>\n",
       "      <th>...</th>\n",
       "      <td>...</td>\n",
       "      <td>...</td>\n",
       "      <td>...</td>\n",
       "      <td>...</td>\n",
       "    </tr>\n",
       "    <tr>\n",
       "      <th>159</th>\n",
       "      <td>160</td>\n",
       "      <td>Turkmenistan</td>\n",
       "      <td>5.5</td>\n",
       "      <td>2020 est.</td>\n",
       "    </tr>\n",
       "    <tr>\n",
       "      <th>160</th>\n",
       "      <td>161</td>\n",
       "      <td>Ethiopia</td>\n",
       "      <td>5.1</td>\n",
       "      <td>2020 est.</td>\n",
       "    </tr>\n",
       "    <tr>\n",
       "      <th>161</th>\n",
       "      <td>162</td>\n",
       "      <td>Panama</td>\n",
       "      <td>5.0</td>\n",
       "      <td>2020 est.</td>\n",
       "    </tr>\n",
       "    <tr>\n",
       "      <th>162</th>\n",
       "      <td>163</td>\n",
       "      <td>Nigeria</td>\n",
       "      <td>3.7</td>\n",
       "      <td>2020 est.</td>\n",
       "    </tr>\n",
       "    <tr>\n",
       "      <th>163</th>\n",
       "      <td>164</td>\n",
       "      <td>Ghana</td>\n",
       "      <td>3.5</td>\n",
       "      <td>2020 est.</td>\n",
       "    </tr>\n",
       "  </tbody>\n",
       "</table>\n",
       "<p>164 rows × 4 columns</p>\n",
       "</div>"
      ],
      "text/plain": [
       "     Rank           Country     % Date of Information\n",
       "0       1             Nauru  48.5           2020 est.\n",
       "1       2             Burma  44.1           2020 est.\n",
       "2       3          Kiribati  40.6           2020 est.\n",
       "3       4            Serbia  39.8           2020 est.\n",
       "4       5  Papua New Guinea  39.3           2020 est.\n",
       "..    ...               ...   ...                 ...\n",
       "159   160      Turkmenistan   5.5           2020 est.\n",
       "160   161          Ethiopia   5.1           2020 est.\n",
       "161   162            Panama   5.0           2020 est.\n",
       "162   163           Nigeria   3.7           2020 est.\n",
       "163   164             Ghana   3.5           2020 est.\n",
       "\n",
       "[164 rows x 4 columns]"
      ]
     },
     "execution_count": 141,
     "metadata": {},
     "output_type": "execute_result"
    }
   ],
   "source": [
    "Tbctable[0]"
   ]
  },
  {
   "cell_type": "code",
   "execution_count": 142,
   "id": "9eda9941",
   "metadata": {},
   "outputs": [],
   "source": [
    "DFtbc=Tbctable[0].copy()"
   ]
  },
  {
   "cell_type": "code",
   "execution_count": 143,
   "id": "1ef2daaf",
   "metadata": {},
   "outputs": [
    {
     "data": {
      "text/plain": [
       "Index(['Rank', 'Country', '%', 'Date of Information'], dtype='object')"
      ]
     },
     "execution_count": 143,
     "metadata": {},
     "output_type": "execute_result"
    }
   ],
   "source": [
    "DFtbc.columns"
   ]
  },
  {
   "cell_type": "code",
   "execution_count": 144,
   "id": "36aaa538",
   "metadata": {},
   "outputs": [
    {
     "data": {
      "text/html": [
       "<div>\n",
       "<style scoped>\n",
       "    .dataframe tbody tr th:only-of-type {\n",
       "        vertical-align: middle;\n",
       "    }\n",
       "\n",
       "    .dataframe tbody tr th {\n",
       "        vertical-align: top;\n",
       "    }\n",
       "\n",
       "    .dataframe thead th {\n",
       "        text-align: right;\n",
       "    }\n",
       "</style>\n",
       "<table border=\"1\" class=\"dataframe\">\n",
       "  <thead>\n",
       "    <tr style=\"text-align: right;\">\n",
       "      <th></th>\n",
       "      <th>Rank</th>\n",
       "      <th>Country</th>\n",
       "      <th>%</th>\n",
       "    </tr>\n",
       "  </thead>\n",
       "  <tbody>\n",
       "    <tr>\n",
       "      <th>0</th>\n",
       "      <td>1</td>\n",
       "      <td>Nauru</td>\n",
       "      <td>48.5</td>\n",
       "    </tr>\n",
       "    <tr>\n",
       "      <th>1</th>\n",
       "      <td>2</td>\n",
       "      <td>Burma</td>\n",
       "      <td>44.1</td>\n",
       "    </tr>\n",
       "    <tr>\n",
       "      <th>2</th>\n",
       "      <td>3</td>\n",
       "      <td>Kiribati</td>\n",
       "      <td>40.6</td>\n",
       "    </tr>\n",
       "    <tr>\n",
       "      <th>3</th>\n",
       "      <td>4</td>\n",
       "      <td>Serbia</td>\n",
       "      <td>39.8</td>\n",
       "    </tr>\n",
       "    <tr>\n",
       "      <th>4</th>\n",
       "      <td>5</td>\n",
       "      <td>Papua New Guinea</td>\n",
       "      <td>39.3</td>\n",
       "    </tr>\n",
       "    <tr>\n",
       "      <th>...</th>\n",
       "      <td>...</td>\n",
       "      <td>...</td>\n",
       "      <td>...</td>\n",
       "    </tr>\n",
       "    <tr>\n",
       "      <th>159</th>\n",
       "      <td>160</td>\n",
       "      <td>Turkmenistan</td>\n",
       "      <td>5.5</td>\n",
       "    </tr>\n",
       "    <tr>\n",
       "      <th>160</th>\n",
       "      <td>161</td>\n",
       "      <td>Ethiopia</td>\n",
       "      <td>5.1</td>\n",
       "    </tr>\n",
       "    <tr>\n",
       "      <th>161</th>\n",
       "      <td>162</td>\n",
       "      <td>Panama</td>\n",
       "      <td>5.0</td>\n",
       "    </tr>\n",
       "    <tr>\n",
       "      <th>162</th>\n",
       "      <td>163</td>\n",
       "      <td>Nigeria</td>\n",
       "      <td>3.7</td>\n",
       "    </tr>\n",
       "    <tr>\n",
       "      <th>163</th>\n",
       "      <td>164</td>\n",
       "      <td>Ghana</td>\n",
       "      <td>3.5</td>\n",
       "    </tr>\n",
       "  </tbody>\n",
       "</table>\n",
       "<p>164 rows × 3 columns</p>\n",
       "</div>"
      ],
      "text/plain": [
       "     Rank           Country     %\n",
       "0       1             Nauru  48.5\n",
       "1       2             Burma  44.1\n",
       "2       3          Kiribati  40.6\n",
       "3       4            Serbia  39.8\n",
       "4       5  Papua New Guinea  39.3\n",
       "..    ...               ...   ...\n",
       "159   160      Turkmenistan   5.5\n",
       "160   161          Ethiopia   5.1\n",
       "161   162            Panama   5.0\n",
       "162   163           Nigeria   3.7\n",
       "163   164             Ghana   3.5\n",
       "\n",
       "[164 rows x 3 columns]"
      ]
     },
     "execution_count": 144,
     "metadata": {},
     "output_type": "execute_result"
    }
   ],
   "source": [
    "bye=[3]\n",
    "DFtbc.drop(columns=DFtbc.columns[bye],inplace=True)\n",
    "DFtbc"
   ]
  },
  {
   "cell_type": "code",
   "execution_count": 146,
   "id": "ba68c19b",
   "metadata": {},
   "outputs": [
    {
     "data": {
      "text/plain": [
       "Index(['Rank', 'Country', 'Percent of Tobacco Use'], dtype='object')"
      ]
     },
     "execution_count": 146,
     "metadata": {},
     "output_type": "execute_result"
    }
   ],
   "source": [
    "DFtbc.columns.str.replace(pat=\"%\",\n",
    "                           repl=\"Percent of Tobacco Use\", \n",
    "                           regex=True)"
   ]
  },
  {
   "cell_type": "code",
   "execution_count": 147,
   "id": "563359c6",
   "metadata": {},
   "outputs": [
    {
     "data": {
      "text/plain": [
       "['Rank', 'Country', 'Percent of Tobacco Use']"
      ]
     },
     "execution_count": 147,
     "metadata": {},
     "output_type": "execute_result"
    }
   ],
   "source": [
    "DFtbc.columns.str.replace(\"%\",\"Percent of Tobacco Use\",regex=True).to_list()"
   ]
  },
  {
   "cell_type": "code",
   "execution_count": 148,
   "id": "17e06f46",
   "metadata": {},
   "outputs": [],
   "source": [
    "DFtbc.columns=DFtbc.columns.str.replace(\"%\",\"Percent of Tobacco Use\",regex=True).to_list()"
   ]
  },
  {
   "cell_type": "code",
   "execution_count": 151,
   "id": "907aafe9",
   "metadata": {},
   "outputs": [
    {
     "data": {
      "text/html": [
       "<div>\n",
       "<style scoped>\n",
       "    .dataframe tbody tr th:only-of-type {\n",
       "        vertical-align: middle;\n",
       "    }\n",
       "\n",
       "    .dataframe tbody tr th {\n",
       "        vertical-align: top;\n",
       "    }\n",
       "\n",
       "    .dataframe thead th {\n",
       "        text-align: right;\n",
       "    }\n",
       "</style>\n",
       "<table border=\"1\" class=\"dataframe\">\n",
       "  <thead>\n",
       "    <tr style=\"text-align: right;\">\n",
       "      <th></th>\n",
       "      <th>Rank</th>\n",
       "      <th>Country</th>\n",
       "      <th>Percent of Tobacco Use</th>\n",
       "    </tr>\n",
       "  </thead>\n",
       "  <tbody>\n",
       "    <tr>\n",
       "      <th>0</th>\n",
       "      <td>1</td>\n",
       "      <td>Nauru</td>\n",
       "      <td>48.5</td>\n",
       "    </tr>\n",
       "    <tr>\n",
       "      <th>1</th>\n",
       "      <td>2</td>\n",
       "      <td>Burma</td>\n",
       "      <td>44.1</td>\n",
       "    </tr>\n",
       "    <tr>\n",
       "      <th>2</th>\n",
       "      <td>3</td>\n",
       "      <td>Kiribati</td>\n",
       "      <td>40.6</td>\n",
       "    </tr>\n",
       "    <tr>\n",
       "      <th>3</th>\n",
       "      <td>4</td>\n",
       "      <td>Serbia</td>\n",
       "      <td>39.8</td>\n",
       "    </tr>\n",
       "    <tr>\n",
       "      <th>4</th>\n",
       "      <td>5</td>\n",
       "      <td>Papua New Guinea</td>\n",
       "      <td>39.3</td>\n",
       "    </tr>\n",
       "    <tr>\n",
       "      <th>...</th>\n",
       "      <td>...</td>\n",
       "      <td>...</td>\n",
       "      <td>...</td>\n",
       "    </tr>\n",
       "    <tr>\n",
       "      <th>159</th>\n",
       "      <td>160</td>\n",
       "      <td>Turkmenistan</td>\n",
       "      <td>5.5</td>\n",
       "    </tr>\n",
       "    <tr>\n",
       "      <th>160</th>\n",
       "      <td>161</td>\n",
       "      <td>Ethiopia</td>\n",
       "      <td>5.1</td>\n",
       "    </tr>\n",
       "    <tr>\n",
       "      <th>161</th>\n",
       "      <td>162</td>\n",
       "      <td>Panama</td>\n",
       "      <td>5.0</td>\n",
       "    </tr>\n",
       "    <tr>\n",
       "      <th>162</th>\n",
       "      <td>163</td>\n",
       "      <td>Nigeria</td>\n",
       "      <td>3.7</td>\n",
       "    </tr>\n",
       "    <tr>\n",
       "      <th>163</th>\n",
       "      <td>164</td>\n",
       "      <td>Ghana</td>\n",
       "      <td>3.5</td>\n",
       "    </tr>\n",
       "  </tbody>\n",
       "</table>\n",
       "<p>164 rows × 3 columns</p>\n",
       "</div>"
      ],
      "text/plain": [
       "     Rank           Country  Percent of Tobacco Use\n",
       "0       1             Nauru                    48.5\n",
       "1       2             Burma                    44.1\n",
       "2       3          Kiribati                    40.6\n",
       "3       4            Serbia                    39.8\n",
       "4       5  Papua New Guinea                    39.3\n",
       "..    ...               ...                     ...\n",
       "159   160      Turkmenistan                     5.5\n",
       "160   161          Ethiopia                     5.1\n",
       "161   162            Panama                     5.0\n",
       "162   163           Nigeria                     3.7\n",
       "163   164             Ghana                     3.5\n",
       "\n",
       "[164 rows x 3 columns]"
      ]
     },
     "execution_count": 151,
     "metadata": {},
     "output_type": "execute_result"
    }
   ],
   "source": [
    "DFtbc.iloc[:,:3]"
   ]
  },
  {
   "cell_type": "code",
   "execution_count": 152,
   "id": "a32d5131",
   "metadata": {},
   "outputs": [
    {
     "data": {
      "text/plain": [
       "0                 Nauru\n",
       "1                 Burma\n",
       "2              Kiribati\n",
       "3                Serbia\n",
       "4      Papua New Guinea\n",
       "             ...       \n",
       "159        Turkmenistan\n",
       "160            Ethiopia\n",
       "161              Panama\n",
       "162             Nigeria\n",
       "163               Ghana\n",
       "Name: Country, Length: 164, dtype: object"
      ]
     },
     "execution_count": 152,
     "metadata": {},
     "output_type": "execute_result"
    }
   ],
   "source": [
    "DFtbc.Country.str.strip()"
   ]
  },
  {
   "cell_type": "code",
   "execution_count": 158,
   "id": "97b4ee4c",
   "metadata": {},
   "outputs": [],
   "source": [
    "DFtbc.to_csv(\"Tobacco.csv\",index=False)"
   ]
  },
  {
   "cell_type": "code",
   "execution_count": 159,
   "id": "61f2cd30",
   "metadata": {},
   "outputs": [],
   "source": [
    "tobaccocsv=pd.read_csv('Tobacco.csv')"
   ]
  },
  {
   "cell_type": "code",
   "execution_count": 160,
   "id": "e784036a",
   "metadata": {},
   "outputs": [
    {
     "name": "stdout",
     "output_type": "stream",
     "text": [
      "<class 'pandas.core.frame.DataFrame'>\n",
      "RangeIndex: 164 entries, 0 to 163\n",
      "Data columns (total 3 columns):\n",
      " #   Column                  Non-Null Count  Dtype  \n",
      "---  ------                  --------------  -----  \n",
      " 0   Rank                    164 non-null    int64  \n",
      " 1   Country                 164 non-null    object \n",
      " 2   Percent of Tobacco Use  164 non-null    float64\n",
      "dtypes: float64(1), int64(1), object(1)\n",
      "memory usage: 4.0+ KB\n"
     ]
    }
   ],
   "source": [
    "tobaccocsv.info()"
   ]
  },
  {
   "cell_type": "code",
   "execution_count": null,
   "id": "9f466863",
   "metadata": {},
   "outputs": [],
   "source": []
  }
 ],
 "metadata": {
  "kernelspec": {
   "display_name": "Python 3 (ipykernel)",
   "language": "python",
   "name": "python3"
  },
  "language_info": {
   "codemirror_mode": {
    "name": "ipython",
    "version": 3
   },
   "file_extension": ".py",
   "mimetype": "text/x-python",
   "name": "python",
   "nbconvert_exporter": "python",
   "pygments_lexer": "ipython3",
   "version": "3.9.15"
  }
 },
 "nbformat": 4,
 "nbformat_minor": 5
}
